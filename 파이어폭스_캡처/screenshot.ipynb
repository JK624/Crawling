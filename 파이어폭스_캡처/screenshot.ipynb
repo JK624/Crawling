{
 "cells": [
  {
   "cell_type": "code",
   "execution_count": null,
   "metadata": {},
   "outputs": [],
   "source": [
    "from IPython.core.display import display, HTML\n",
    "display(HTML(\"<style>.container { width: 100% !important; }</style>\"))"
   ]
  },
  {
   "cell_type": "code",
   "execution_count": null,
   "metadata": {},
   "outputs": [],
   "source": [
    "pwd"
   ]
  },
  {
   "cell_type": "code",
   "execution_count": null,
   "metadata": {},
   "outputs": [],
   "source": [
    "import os    # 운영체제의 기능 사용\n",
    "from selenium import webdriver    # 웹브라우저 조작, 자동화\n",
    "from selenium.webdriver.firefox.options import Options    # 파이어폭스의 옵션사용?\n",
    "from PIL import Image     # 이미지 처리 라이브러리 pillow(PIL)\n",
    "from io import BytesIO    # 입출력,스트림 작업 / 바이트배열을 이진파일로 다룰 수 있게\n",
    "from tqdm.notebook import tqdm    # 반복문 진행률 표시\n",
    "import time    # 프로세스 정지(Delay)"
   ]
  },
  {
   "cell_type": "code",
   "execution_count": null,
   "metadata": {},
   "outputs": [],
   "source": [
    "options = Options()        # 파이어폭스 기능 사용을 위한 options 인스턴스(객체) 생성\n",
    "options.headless = True    # headless옵션 True 설정 : 브라우저를 보이지 않게"
   ]
  },
  {
   "cell_type": "code",
   "execution_count": null,
   "metadata": {},
   "outputs": [],
   "source": [
    "driver = webdriver.Firefox()    # 오류발생시 다운받은 geckodriver path설정\n",
    "driver.get(\"https://thebook.io/080228/application/\")  # 실행할 url입력"
   ]
  },
  {
   "cell_type": "code",
   "execution_count": null,
   "metadata": {},
   "outputs": [],
   "source": [
    "# 전체 페이지의 사이즈를 구하여 브라우저의 창 크기를 확대하고 스크린캡처를 합니다.\n",
    "page_width = driver.execute_script('return document.body.parentNode.scrollWidth')\n",
    "page_height = driver.execute_script('return document.body.parentNode.scrollHeight')"
   ]
  },
  {
   "cell_type": "code",
   "execution_count": null,
   "metadata": {},
   "outputs": [],
   "source": [
    "print('page_width:', page_width); print('page_height:', page_height)"
   ]
  },
  {
   "cell_type": "code",
   "execution_count": null,
   "metadata": {},
   "outputs": [],
   "source": [
    "driver.set_window_size(page_width, 3800)   # 브라우저 창 크기조절\n",
    "png = driver.get_screenshot_as_png()       # 스크린샷(전체)을 찍고 png로 변환한 객체생성"
   ]
  },
  {
   "cell_type": "code",
   "execution_count": null,
   "metadata": {},
   "outputs": [],
   "source": [
    "# 캡처할 영역 가져오기\n",
    "element = driver.find_element_by_class_name('thebook-content.mdl-color--white.mdl-shadow--4dp.content.mdl-color-text--grey-800.mdl-cell.mdl-cell--12-col')\n",
    "\n",
    "image_location = element.location   # 캡처할 영역의 x,y좌표 저장\n",
    "image_size = element.size           # 캡처할 영역의 크기 저장"
   ]
  },
  {
   "cell_type": "code",
   "execution_count": null,
   "metadata": {
    "scrolled": false
   },
   "outputs": [],
   "source": [
    "print('image_location', image_location); print('image_size', image_size)"
   ]
  },
  {
   "cell_type": "code",
   "execution_count": null,
   "metadata": {},
   "outputs": [],
   "source": [
    "im = Image.open(BytesIO(png))\n",
    "im"
   ]
  },
  {
   "cell_type": "code",
   "execution_count": null,
   "metadata": {},
   "outputs": [],
   "source": [
    "im = Image.open(BytesIO(png))    # 이전에 생성한 png객체를 byte형태로 오픈\n",
    "\n",
    "# 좌표 계산\n",
    "left = image_location['x']\n",
    "top = image_location['y']\n",
    "right = image_location['x'] + image_size['width']\n",
    "bottom = image_location['y'] + image_size['height']\n",
    "\n",
    "print(left, top, right, bottom, sep='\\t')"
   ]
  },
  {
   "cell_type": "code",
   "execution_count": null,
   "metadata": {},
   "outputs": [],
   "source": [
    "im = im.crop((left, top, right, bottom))\n",
    "im.save('./image/Test.png')"
   ]
  },
  {
   "cell_type": "code",
   "execution_count": null,
   "metadata": {},
   "outputs": [],
   "source": []
  },
  {
   "cell_type": "code",
   "execution_count": null,
   "metadata": {},
   "outputs": [],
   "source": []
  },
  {
   "cell_type": "code",
   "execution_count": null,
   "metadata": {},
   "outputs": [],
   "source": []
  },
  {
   "cell_type": "code",
   "execution_count": null,
   "metadata": {
    "code_folding": []
   },
   "outputs": [],
   "source": [
    "options = Options()\n",
    "options.headless = True\n",
    "driver = webdriver.Firefox()\n",
    "driver.get(\"https://thebook.io/080228/application/\")\n",
    "\n",
    "num = 1    # 파일번호를 매기기 위한 변수\n",
    "for i in tqdm(range(500)):    # 전체페이지수를 몰라 임의의 수 500설정\n",
    "    # 전체 페이지의 사이즈를 구하여 브라우저의 창 크기를 확대하고 스크린캡처를 합니다.\n",
    "#   page_width = driver.execute_script('return document.body.parentNode.scrollWidth')\n",
    "#   page_height = driver.execute_script('return document.body.parentNode.scrollHeight')\n",
    "    driver.set_window_size(1200, 3800)\n",
    "    png = driver.get_screenshot_as_png()\n",
    "\n",
    "    # 특정 element의 위치와 크기를 구합니다.\n",
    "    element = driver.find_element_by_class_name('thebook-content.mdl-color--white.mdl-shadow--4dp.content.mdl-color-text--grey-800.mdl-cell.mdl-cell--12-col')\n",
    "    image_location = element.location\n",
    "    image_size = element.size\n",
    "\n",
    "    # 이미지를 element의 위치에 맞춰서 crop 하고 저장합니다.\n",
    "    im = Image.open(BytesIO(png))\n",
    "    left = image_location['x']\n",
    "    top = image_location['y']\n",
    "    right = image_location['x'] + image_size['width']\n",
    "    if image_size['height'] == 3800:\n",
    "        bottom = 1200\n",
    "    else:\n",
    "        bottom = image_location['y'] + image_size['height']\n",
    "    im = im.crop((left, top, right, bottom))\n",
    "    im.save('./image/Modu_Deep_{}.png'.format(num))\n",
    "\n",
    "    try:\n",
    "        driver.find_element_by_id('next-page').click()\n",
    "        time.sleep(0.5)\n",
    "        num += 1    # 파일 번호 추가\n",
    "            \n",
    "    except:    # 광고페이지로 넘어갔을 시\n",
    "        os.remove('./image/Modu_Deep_{}.png'.format(num))  # 저장한이미지(광고) 삭제\n",
    "        driver.back()    # 이전페이지로\n",
    "        driver.find_element_by_id('next-page').click()     # 다음페이지 버튼 클릭\n",
    "        time.sleep(0.5)"
   ]
  },
  {
   "cell_type": "code",
   "execution_count": null,
   "metadata": {},
   "outputs": [],
   "source": []
  },
  {
   "cell_type": "code",
   "execution_count": null,
   "metadata": {},
   "outputs": [],
   "source": []
  },
  {
   "cell_type": "code",
   "execution_count": null,
   "metadata": {},
   "outputs": [],
   "source": []
  },
  {
   "cell_type": "code",
   "execution_count": null,
   "metadata": {},
   "outputs": [],
   "source": []
  },
  {
   "cell_type": "code",
   "execution_count": null,
   "metadata": {},
   "outputs": [],
   "source": []
  }
 ],
 "metadata": {
  "kernelspec": {
   "display_name": "Python 3",
   "language": "python",
   "name": "python3"
  },
  "language_info": {
   "codemirror_mode": {
    "name": "ipython",
    "version": 3
   },
   "file_extension": ".py",
   "mimetype": "text/x-python",
   "name": "python",
   "nbconvert_exporter": "python",
   "pygments_lexer": "ipython3",
   "version": "3.8.5"
  },
  "toc": {
   "base_numbering": 1,
   "nav_menu": {},
   "number_sections": true,
   "sideBar": true,
   "skip_h1_title": false,
   "title_cell": "Table of Contents",
   "title_sidebar": "Contents",
   "toc_cell": false,
   "toc_position": {},
   "toc_section_display": true,
   "toc_window_display": false
  },
  "varInspector": {
   "cols": {
    "lenName": 16,
    "lenType": 16,
    "lenVar": 40
   },
   "kernels_config": {
    "python": {
     "delete_cmd_postfix": "",
     "delete_cmd_prefix": "del ",
     "library": "var_list.py",
     "varRefreshCmd": "print(var_dic_list())"
    },
    "r": {
     "delete_cmd_postfix": ") ",
     "delete_cmd_prefix": "rm(",
     "library": "var_list.r",
     "varRefreshCmd": "cat(var_dic_list()) "
    }
   },
   "types_to_exclude": [
    "module",
    "function",
    "builtin_function_or_method",
    "instance",
    "_Feature"
   ],
   "window_display": false
  }
 },
 "nbformat": 4,
 "nbformat_minor": 2
}
