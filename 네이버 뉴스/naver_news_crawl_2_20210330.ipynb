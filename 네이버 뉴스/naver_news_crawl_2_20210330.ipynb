{
 "cells": [
  {
   "cell_type": "code",
   "execution_count": 1,
   "metadata": {},
   "outputs": [
    {
     "data": {
      "text/plain": [
       "'/Users/jisookwon/Documents/크롤링/네이버 뉴스'"
      ]
     },
     "execution_count": 1,
     "metadata": {},
     "output_type": "execute_result"
    }
   ],
   "source": [
    "pwd"
   ]
  },
  {
   "cell_type": "code",
   "execution_count": 2,
   "metadata": {},
   "outputs": [],
   "source": [
    "# 라이브러리 import\n",
    "import pandas as pd\n",
    "import numpy as np\n",
    "\n",
    "from selenium import webdriver  # 라이브러리(모듈) 가져오라\n",
    "from selenium.webdriver import ActionChains as AC\n",
    "from tqdm import tqdm\n",
    "from tqdm.notebook import tqdm\n",
    "import re\n",
    "from time import sleep\n",
    "import time"
   ]
  },
  {
   "cell_type": "code",
   "execution_count": 3,
   "metadata": {},
   "outputs": [
    {
     "data": {
      "text/plain": [
       "'삼성전자'"
      ]
     },
     "execution_count": 3,
     "metadata": {},
     "output_type": "execute_result"
    }
   ],
   "source": [
    "# 데이터 수집할 키워드 지정\n",
    "keyword = \"삼성전자\"\n",
    "keyword"
   ]
  },
  {
   "cell_type": "markdown",
   "metadata": {},
   "source": [
    "# 네이버뉴스들 url 수집"
   ]
  },
  {
   "cell_type": "code",
   "execution_count": 4,
   "metadata": {},
   "outputs": [],
   "source": [
    "# 크롬창 띄우기\n",
    "driver = webdriver.Chrome(\"/Users/jisookwon/Documents/chromedriver\")  # 맥 : /Users/aiden/Desktop/chromedriver\n",
    "driver.get(\"https://search.naver.com/search.naver?where=news&sm=tab_jum&query={}\".format(keyword))\n",
    "time.sleep(3)"
   ]
  },
  {
   "cell_type": "code",
   "execution_count": 5,
   "metadata": {},
   "outputs": [],
   "source": [
    "# page1에서 네이버뉴스 url 수집하기\n",
    "things = driver.find_elements_by_link_text('네이버뉴스')  \n",
    "\n",
    "url_list = []\n",
    "for thing in things:\n",
    "    url = thing.get_attribute('href')\n",
    "    url_list.append(url)\n",
    "    "
   ]
  },
  {
   "cell_type": "code",
   "execution_count": 6,
   "metadata": {},
   "outputs": [
    {
     "name": "stdout",
     "output_type": "stream",
     "text": [
      "31\n"
     ]
    },
    {
     "data": {
      "text/plain": [
       "['https://news.naver.com/main/read.nhn?mode=LSD&mid=sec&sid1=105&oid=366&aid=0000718024',\n",
       " 'https://news.naver.com/main/read.nhn?mode=LSD&mid=sec&sid1=101&oid=082&aid=0001091152',\n",
       " 'https://news.naver.com/main/read.nhn?mode=LSD&mid=sec&sid1=101&oid=011&aid=0003910608',\n",
       " 'https://news.naver.com/main/read.nhn?mode=LSD&mid=sec&sid1=106&oid=003&aid=0010500378',\n",
       " 'https://news.naver.com/main/read.nhn?mode=LSD&mid=sec&sid1=101&oid=421&aid=0005353409',\n",
       " 'https://news.naver.com/main/read.nhn?mode=LSD&mid=sec&sid1=101&oid=015&aid=0004547384',\n",
       " 'https://news.naver.com/main/read.nhn?mode=LSD&mid=sec&sid1=101&oid=057&aid=0001577132',\n",
       " 'https://news.naver.com/main/read.nhn?mode=LSD&mid=sec&sid1=105&oid=366&aid=0000718442',\n",
       " 'https://news.naver.com/main/read.nhn?mode=LSD&mid=sec&sid1=101&oid=018&aid=0004931681',\n",
       " 'https://news.naver.com/main/read.nhn?mode=LSD&mid=sec&sid1=101&oid=421&aid=0005355146',\n",
       " 'https://news.naver.com/main/read.nhn?mode=LSD&mid=sec&sid1=101&oid=031&aid=0000598976',\n",
       " 'https://news.naver.com/main/read.nhn?mode=LSD&mid=sec&sid1=105&oid=001&aid=0012396264',\n",
       " 'https://news.naver.com/main/read.nhn?mode=LSD&mid=sec&sid1=105&oid=366&aid=0000718017',\n",
       " 'https://news.naver.com/main/read.nhn?mode=LSD&mid=sec&sid1=101&oid=079&aid=0003504707',\n",
       " 'https://news.naver.com/main/read.nhn?mode=LSD&mid=sec&sid1=105&oid=293&aid=0000034700',\n",
       " 'https://news.naver.com/main/read.nhn?mode=LSD&mid=sec&sid1=100&oid=082&aid=0001091266',\n",
       " 'https://news.naver.com/main/read.nhn?mode=LSD&mid=sec&sid1=101&oid=277&aid=0004903496',\n",
       " 'https://news.naver.com/main/read.nhn?mode=LSD&mid=sec&sid1=101&oid=014&aid=0004639553',\n",
       " 'https://news.naver.com/main/read.nhn?mode=LSD&mid=sec&sid1=101&oid=003&aid=0010500258',\n",
       " 'https://news.naver.com/main/read.nhn?mode=LSD&mid=sec&sid1=101&oid=003&aid=0010500530',\n",
       " 'https://news.naver.com/main/read.nhn?mode=LSD&mid=sec&sid1=101&oid=011&aid=0003910579',\n",
       " 'https://news.naver.com/main/read.nhn?mode=LSD&mid=sec&sid1=101&oid=031&aid=0000598824',\n",
       " 'https://news.naver.com/main/read.nhn?mode=LSD&mid=sec&sid1=101&oid=001&aid=0012396354',\n",
       " 'https://news.naver.com/main/read.nhn?mode=LSD&mid=sec&sid1=101&oid=421&aid=0005353260',\n",
       " 'https://news.naver.com/main/read.nhn?mode=LSD&mid=sec&sid1=101&oid=056&aid=0011045114',\n",
       " 'https://news.naver.com/main/read.nhn?mode=LSD&mid=sec&sid1=101&oid=382&aid=0000910098',\n",
       " 'https://news.naver.com/main/read.nhn?mode=LSD&mid=sec&sid1=100&oid=421&aid=0005354188',\n",
       " 'https://news.naver.com/main/read.nhn?mode=LSD&mid=sec&sid1=100&oid=052&aid=0001588972',\n",
       " 'https://news.naver.com/main/read.nhn?mode=LSD&mid=sec&sid1=100&oid=001&aid=0012397269',\n",
       " 'https://news.naver.com/main/read.nhn?mode=LSD&mid=sec&sid1=101&oid=020&aid=0003357845',\n",
       " 'https://news.naver.com/main/read.nhn?mode=LSD&mid=sec&sid1=100&oid=119&aid=0002493491']"
      ]
     },
     "execution_count": 6,
     "metadata": {},
     "output_type": "execute_result"
    }
   ],
   "source": [
    "print(len(url_list))\n",
    "url_list"
   ]
  },
  {
   "cell_type": "code",
   "execution_count": 7,
   "metadata": {
    "scrolled": true
   },
   "outputs": [],
   "source": [
    "df = pd.DataFrame({\"url\":url_list})\n",
    "df.to_csv('navernews_urls.csv')"
   ]
  },
  {
   "cell_type": "markdown",
   "metadata": {},
   "source": [
    "# 뉴스 별 댓글 수집"
   ]
  },
  {
   "cell_type": "code",
   "execution_count": 8,
   "metadata": {
    "scrolled": true
   },
   "outputs": [
    {
     "data": {
      "text/plain": [
       "0     https://news.naver.com/main/read.nhn?mode=LSD&...\n",
       "1     https://news.naver.com/main/read.nhn?mode=LSD&...\n",
       "2     https://news.naver.com/main/read.nhn?mode=LSD&...\n",
       "3     https://news.naver.com/main/read.nhn?mode=LSD&...\n",
       "4     https://news.naver.com/main/read.nhn?mode=LSD&...\n",
       "5     https://news.naver.com/main/read.nhn?mode=LSD&...\n",
       "6     https://news.naver.com/main/read.nhn?mode=LSD&...\n",
       "7     https://news.naver.com/main/read.nhn?mode=LSD&...\n",
       "8     https://news.naver.com/main/read.nhn?mode=LSD&...\n",
       "9     https://news.naver.com/main/read.nhn?mode=LSD&...\n",
       "10    https://news.naver.com/main/read.nhn?mode=LSD&...\n",
       "11    https://news.naver.com/main/read.nhn?mode=LSD&...\n",
       "12    https://news.naver.com/main/read.nhn?mode=LSD&...\n",
       "13    https://news.naver.com/main/read.nhn?mode=LSD&...\n",
       "14    https://news.naver.com/main/read.nhn?mode=LSD&...\n",
       "15    https://news.naver.com/main/read.nhn?mode=LSD&...\n",
       "16    https://news.naver.com/main/read.nhn?mode=LSD&...\n",
       "17    https://news.naver.com/main/read.nhn?mode=LSD&...\n",
       "18    https://news.naver.com/main/read.nhn?mode=LSD&...\n",
       "19    https://news.naver.com/main/read.nhn?mode=LSD&...\n",
       "20    https://news.naver.com/main/read.nhn?mode=LSD&...\n",
       "21    https://news.naver.com/main/read.nhn?mode=LSD&...\n",
       "22    https://news.naver.com/main/read.nhn?mode=LSD&...\n",
       "23    https://news.naver.com/main/read.nhn?mode=LSD&...\n",
       "24    https://news.naver.com/main/read.nhn?mode=LSD&...\n",
       "25    https://news.naver.com/main/read.nhn?mode=LSD&...\n",
       "26    https://news.naver.com/main/read.nhn?mode=LSD&...\n",
       "27    https://news.naver.com/main/read.nhn?mode=LSD&...\n",
       "28    https://news.naver.com/main/read.nhn?mode=LSD&...\n",
       "29    https://news.naver.com/main/read.nhn?mode=LSD&...\n",
       "30    https://news.naver.com/main/read.nhn?mode=LSD&...\n",
       "Name: url, dtype: object"
      ]
     },
     "execution_count": 8,
     "metadata": {},
     "output_type": "execute_result"
    }
   ],
   "source": [
    "# 저장해둔 url 불러오기\n",
    "df = pd.read_csv('navernews_urls.csv')\n",
    "df['url']"
   ]
  },
  {
   "cell_type": "code",
   "execution_count": 9,
   "metadata": {},
   "outputs": [
    {
     "data": {
      "text/plain": [
       "31"
      ]
     },
     "execution_count": 9,
     "metadata": {},
     "output_type": "execute_result"
    }
   ],
   "source": [
    "len(df['url'])"
   ]
  },
  {
   "cell_type": "code",
   "execution_count": 11,
   "metadata": {},
   "outputs": [],
   "source": [
    "# 뉴스 크롬창 띄우기\n",
    "driver = webdriver.Chrome(\"/Users/jisookwon/Documents/chromedriver\")  # 맥 : /Users/aiden/Desktop/chromedriver\n",
    "driver.get(df['url'][0])"
   ]
  },
  {
   "cell_type": "markdown",
   "metadata": {},
   "source": [
    "## 기사 제목,날짜,추천수 수집"
   ]
  },
  {
   "cell_type": "code",
   "execution_count": 12,
   "metadata": {},
   "outputs": [
    {
     "name": "stdout",
     "output_type": "stream",
     "text": [
      "삼성 갤럭시 S21로 방탄소년단 만난다\n",
      "2021.05.16. 오전 11:01\n",
      "144\n"
     ]
    }
   ],
   "source": [
    "# 기사 제목\n",
    "title = driver.find_element_by_css_selector('.tts_head')\n",
    "title = title.text\n",
    "print(title)\n",
    "\n",
    "# 기사 날짜\n",
    "date = driver.find_element_by_css_selector('.t11')\n",
    "date = date.text\n",
    "print(date)\n",
    "\n",
    "# 기사 추천수 날짜\n",
    "up = driver.find_element_by_css_selector('.u_cnt._count')\n",
    "up = up.text\n",
    "print(up)\n"
   ]
  },
  {
   "cell_type": "markdown",
   "metadata": {},
   "source": [
    "## 기사감정 수집(좋아요, 훈훈해요, 슬퍼요, 화나요)"
   ]
  },
  {
   "cell_type": "code",
   "execution_count": 13,
   "metadata": {},
   "outputs": [
    {
     "name": "stdout",
     "output_type": "stream",
     "text": [
      "299\n",
      "6\n",
      "1\n",
      "27\n",
      "1\n"
     ]
    }
   ],
   "source": [
    "# 좋아요\n",
    "like = driver.find_element_by_css_selector(\".end_btn .u_likeit_list.good .u_likeit_list_count._count\")\n",
    "like = like.text\n",
    "print(like)\n",
    "\n",
    "# 훈훈해요\n",
    "warm = driver.find_element_by_css_selector(\".end_btn .u_likeit_list.warm .u_likeit_list_count._count\")\n",
    "warm = warm.text\n",
    "print(warm)\n",
    "\n",
    "# 슬퍼요\n",
    "sad = driver.find_element_by_css_selector(\".end_btn .u_likeit_list.sad .u_likeit_list_count._count\")\n",
    "sad = sad.text\n",
    "print(sad)\n",
    "\n",
    "# 화나요\n",
    "angry = driver.find_element_by_css_selector(\".end_btn .u_likeit_list.angry .u_likeit_list_count._count\")\n",
    "angry = angry.text\n",
    "print(angry)\n",
    "\n",
    "# 후속기사 원해요\n",
    "want = driver.find_element_by_css_selector(\".end_btn .u_likeit_list.want .u_likeit_list_count._count\")\n",
    "want = want.text\n",
    "print(want)"
   ]
  },
  {
   "cell_type": "markdown",
   "metadata": {},
   "source": [
    "## 댓글 수집"
   ]
  },
  {
   "cell_type": "code",
   "execution_count": 14,
   "metadata": {
    "scrolled": true
   },
   "outputs": [
    {
     "data": {
      "text/plain": [
       "21"
      ]
     },
     "execution_count": 14,
     "metadata": {},
     "output_type": "execute_result"
    }
   ],
   "source": [
    "# 기사 댓글 갯수 \n",
    "review_count = driver.find_element_by_css_selector(\".u_cbox_count\").text\n",
    "review_count = int(review_count.replace(',', ''))\n",
    "review_count"
   ]
  },
  {
   "cell_type": "code",
   "execution_count": 15,
   "metadata": {},
   "outputs": [
    {
     "data": {
      "text/plain": [
       "1"
      ]
     },
     "execution_count": 15,
     "metadata": {},
     "output_type": "execute_result"
    }
   ],
   "source": [
    "# 더보기 클릭 횟수\n",
    "moreview_num = review_count//20\n",
    "moreview_num"
   ]
  },
  {
   "cell_type": "code",
   "execution_count": 16,
   "metadata": {},
   "outputs": [],
   "source": [
    "# 댓글 버튼 클릭\n",
    "driver.find_element_by_css_selector(\".lo_txt\").click()\n",
    "time.sleep(1)"
   ]
  },
  {
   "cell_type": "code",
   "execution_count": 17,
   "metadata": {},
   "outputs": [],
   "source": [
    "# 더보기 버튼 여러번 클릭하기\n",
    "k=0\n",
    "while k <= moreview_num:  # 더보기 횟수만큼 반복 \n",
    "    try:\n",
    "        driver.find_element_by_css_selector(\".u_cbox_page_more\").click()  # 더보기 버튼 클릭\n",
    "        time.sleep(1)\n",
    "        k = k+1\n",
    "    except:        \n",
    "        break   # 에러나면 클릭 반복문을 빠져나가라"
   ]
  },
  {
   "cell_type": "code",
   "execution_count": 18,
   "metadata": {},
   "outputs": [
    {
     "data": {
      "application/vnd.jupyter.widget-view+json": {
       "model_id": "e405be8c0a124579959295beaed9cd1d",
       "version_major": 2,
       "version_minor": 0
      },
      "text/plain": [
       "  0%|          | 0/21 [00:00<?, ?it/s]"
      ]
     },
     "metadata": {},
     "output_type": "display_data"
    },
    {
     "name": "stdout",
     "output_type": "stream",
     "text": [
      "21\n"
     ]
    },
    {
     "data": {
      "text/plain": [
       "['우와!',\n",
       " '작성자에 의해 삭제된 댓글입니다.',\n",
       " '작성자에 의해 삭제된 댓글입니다.',\n",
       " 'Lg에서 갈아 탔군아',\n",
       " '작성자에 의해 삭제된 댓글입니다.',\n",
       " '작성자에 의해 삭제된 댓글입니다.',\n",
       " '주가떨어지니 미친듯이 기사쏟아지네 ㅋㅋㅋ',\n",
       " '나는 방탄소년단 팬이 아니라서 앱 안쓸건데',\n",
       " '이러니ㅡ갤럭시가 망해가고있지',\n",
       " '폰에 이젠 관심없다',\n",
       " 'BTS와 SAMSUNG은 이 지구상에 영원할듯!',\n",
       " '재용이 해방시켜라 공산당 추종 놈들아',\n",
       " '사지말아야지',\n",
       " '물들어왔을때 노 저어야지 물빠지기 전에',\n",
       " '몇년전만 해도 갤럭시 진취적이면서 합리적인 이미지였는데 요즘은 그냥 쉰내나느 꼰대 이미지임 방탄 이미지 팔아서 그 꼰대 이미지를 희석해보려고 하는데 폰 디자인도 그렇고 기본앱에 광고 넣는 것도 그렇고 거부감만 더 듬 갤럭시는 기본앱에 광고 넣는 이상한 짓좀 하지 말고 소재 고급화 그리고 갤럭시만의 차별화를 급진적으로 추진해야 중국폰에 안밀린다 유틸리티 확장성 이런 것들이 갤럭시 아이덴티티같은 거였는데 그 이미지를 요즘 중국폰이 가져가고 갤럭시는 이도저도 아니게 되어버림 갤럭시의 희망 폴드가 유망하긴 하지만 글쎄 좀 많이잘만들어야할듯',\n",
       " '이제 핸드폰 광고에 아이돌 넣는건 의미 없지 않나..?방탄 에디션 재고도 남아 도는걸로 아는데 이런 마케팅보다 나은 방법 찾는게 나을듯..',\n",
       " '아이폰13언제나오냐 기다린다',\n",
       " '풉2 손전화광고에 아이돌 쓰는건 낭비입니다걔네들 평시에 99%아이폰 쓰고아이폰 사진올리잖아용~',\n",
       " '풉 ㅋ',\n",
       " '방탄이 뭔가? 문재인 대통령각하를 만나야지...',\n",
       " '방탄 왜뜨는지 모르겠다 노래들어봐도 틴탑 샤이니 이런애들이 노래좋더만 요즘 가요계가 어찌돌아가는지..']"
      ]
     },
     "execution_count": 18,
     "metadata": {},
     "output_type": "execute_result"
    }
   ],
   "source": [
    "# review 수집하기\n",
    "review_list = []\n",
    "\n",
    "overlays1 = \".u_cbox_text_wrap\"\n",
    "reviews = driver.find_elements_by_css_selector(overlays1)\n",
    "\n",
    "for review in tqdm(reviews):    \n",
    "    review = review.text\n",
    "    review_list.append(review)\n",
    "\n",
    "print(len(review_list))\n",
    "review_list"
   ]
  },
  {
   "cell_type": "code",
   "execution_count": 19,
   "metadata": {},
   "outputs": [
    {
     "data": {
      "text/plain": [
       "{'기사명': '삼성 갤럭시 S21로 방탄소년단 만난다',\n",
       " '날짜': '2021.05.16. 오전 11:01',\n",
       " '추천수': '144',\n",
       " '댓글': ['우와!',\n",
       "  '작성자에 의해 삭제된 댓글입니다.',\n",
       "  '작성자에 의해 삭제된 댓글입니다.',\n",
       "  'Lg에서 갈아 탔군아',\n",
       "  '작성자에 의해 삭제된 댓글입니다.',\n",
       "  '작성자에 의해 삭제된 댓글입니다.',\n",
       "  '주가떨어지니 미친듯이 기사쏟아지네 ㅋㅋㅋ',\n",
       "  '나는 방탄소년단 팬이 아니라서 앱 안쓸건데',\n",
       "  '이러니ㅡ갤럭시가 망해가고있지',\n",
       "  '폰에 이젠 관심없다',\n",
       "  'BTS와 SAMSUNG은 이 지구상에 영원할듯!',\n",
       "  '재용이 해방시켜라 공산당 추종 놈들아',\n",
       "  '사지말아야지',\n",
       "  '물들어왔을때 노 저어야지 물빠지기 전에',\n",
       "  '몇년전만 해도 갤럭시 진취적이면서 합리적인 이미지였는데 요즘은 그냥 쉰내나느 꼰대 이미지임 방탄 이미지 팔아서 그 꼰대 이미지를 희석해보려고 하는데 폰 디자인도 그렇고 기본앱에 광고 넣는 것도 그렇고 거부감만 더 듬 갤럭시는 기본앱에 광고 넣는 이상한 짓좀 하지 말고 소재 고급화 그리고 갤럭시만의 차별화를 급진적으로 추진해야 중국폰에 안밀린다 유틸리티 확장성 이런 것들이 갤럭시 아이덴티티같은 거였는데 그 이미지를 요즘 중국폰이 가져가고 갤럭시는 이도저도 아니게 되어버림 갤럭시의 희망 폴드가 유망하긴 하지만 글쎄 좀 많이잘만들어야할듯',\n",
       "  '이제 핸드폰 광고에 아이돌 넣는건 의미 없지 않나..?방탄 에디션 재고도 남아 도는걸로 아는데 이런 마케팅보다 나은 방법 찾는게 나을듯..',\n",
       "  '아이폰13언제나오냐 기다린다',\n",
       "  '풉2 손전화광고에 아이돌 쓰는건 낭비입니다걔네들 평시에 99%아이폰 쓰고아이폰 사진올리잖아용~',\n",
       "  '풉 ㅋ',\n",
       "  '방탄이 뭔가? 문재인 대통령각하를 만나야지...',\n",
       "  '방탄 왜뜨는지 모르겠다 노래들어봐도 틴탑 샤이니 이런애들이 노래좋더만 요즘 가요계가 어찌돌아가는지..'],\n",
       " '좋아요': '299',\n",
       " '훈훈해요': '6',\n",
       " '슬퍼요': '1',\n",
       " '화나요': '27',\n",
       " '후속기사 원해요': '1'}"
      ]
     },
     "execution_count": 19,
     "metadata": {},
     "output_type": "execute_result"
    }
   ],
   "source": [
    "target_info = {}\n",
    "\n",
    "target_info['기사명'] = title\n",
    "target_info['날짜'] = date\n",
    "target_info['추천수'] = up\n",
    "target_info['댓글'] = review_list\n",
    "target_info['좋아요'] = like\n",
    "target_info['훈훈해요'] = warm\n",
    "target_info['슬퍼요'] = sad\n",
    "target_info['화나요'] = angry\n",
    "target_info['후속기사 원해요'] = want\n",
    "            \n",
    "target_info"
   ]
  },
  {
   "cell_type": "markdown",
   "metadata": {},
   "source": [
    "## 전체 기사 for문으로 데이터 수집하기"
   ]
  },
  {
   "cell_type": "code",
   "execution_count": 20,
   "metadata": {},
   "outputs": [
    {
     "data": {
      "text/plain": [
       "31"
      ]
     },
     "execution_count": 20,
     "metadata": {},
     "output_type": "execute_result"
    }
   ],
   "source": [
    "len(df['url'])"
   ]
  },
  {
   "cell_type": "code",
   "execution_count": 22,
   "metadata": {},
   "outputs": [
    {
     "data": {
      "application/vnd.jupyter.widget-view+json": {
       "model_id": "33c9a52f32d14b3e812208478e483974",
       "version_major": 2,
       "version_minor": 0
      },
      "text/plain": [
       "  0%|          | 0/5 [00:00<?, ?it/s]"
      ]
     },
     "metadata": {},
     "output_type": "display_data"
    },
    {
     "data": {
      "application/vnd.jupyter.widget-view+json": {
       "model_id": "0086b0af5341410ea5004f2868ed657d",
       "version_major": 2,
       "version_minor": 0
      },
      "text/plain": [
       "  0%|          | 0/21 [00:00<?, ?it/s]"
      ]
     },
     "metadata": {},
     "output_type": "display_data"
    },
    {
     "name": "stdout",
     "output_type": "stream",
     "text": [
      "삼성 갤럭시 S21로 방탄소년단 만난다 ( 댓글 수: 21 )\n"
     ]
    },
    {
     "data": {
      "application/vnd.jupyter.widget-view+json": {
       "model_id": "fd566cc7482d4abfb07da5875eff2e17",
       "version_major": 2,
       "version_minor": 0
      },
      "text/plain": [
       "  0%|          | 0/1 [00:00<?, ?it/s]"
      ]
     },
     "metadata": {},
     "output_type": "display_data"
    },
    {
     "name": "stdout",
     "output_type": "stream",
     "text": [
      "삼성전자 주요 제품 방탄소년단 박물관에서 만난다 ( 댓글 수: 1 )\n"
     ]
    },
    {
     "data": {
      "application/vnd.jupyter.widget-view+json": {
       "model_id": "b122101d9eab4c6a85f71b214a107bf3",
       "version_major": 2,
       "version_minor": 0
      },
      "text/plain": [
       "  0%|          | 0/2 [00:00<?, ?it/s]"
      ]
     },
     "metadata": {},
     "output_type": "display_data"
    },
    {
     "name": "stdout",
     "output_type": "stream",
     "text": [
      "“삼성 스마트폰·태블릿·TV로 K팝 아티스트 만나요” ( 댓글 수: 2 )\n"
     ]
    },
    {
     "data": {
      "application/vnd.jupyter.widget-view+json": {
       "model_id": "e0cc46f302e94684a0866ad23a9aa3b0",
       "version_major": 2,
       "version_minor": 0
      },
      "text/plain": [
       "  0%|          | 0/1 [00:00<?, ?it/s]"
      ]
     },
     "metadata": {},
     "output_type": "display_data"
    },
    {
     "name": "stdout",
     "output_type": "stream",
     "text": [
      "삼성전자, BTS 소속 '하이브' 뮤지엄서 갤럭시·Neo QLED 체험 ( 댓글 수: 1 )\n",
      "4\n"
     ]
    },
    {
     "data": {
      "text/plain": [
       "{0: {'기사명': '삼성 갤럭시 S21로 방탄소년단 만난다',\n",
       "  '날짜': '2021.05.16. 오전 11:01',\n",
       "  '추천수': '144',\n",
       "  '좋아요': '299',\n",
       "  '훈훈해요': '6',\n",
       "  '슬퍼요': '1',\n",
       "  '화나요': '27',\n",
       "  '후속기사 원해요': '1',\n",
       "  '댓글 수': 21,\n",
       "  '댓글': ['우와!',\n",
       "   '작성자에 의해 삭제된 댓글입니다.',\n",
       "   '작성자에 의해 삭제된 댓글입니다.',\n",
       "   'Lg에서 갈아 탔군아',\n",
       "   '작성자에 의해 삭제된 댓글입니다.',\n",
       "   '작성자에 의해 삭제된 댓글입니다.',\n",
       "   '주가떨어지니 미친듯이 기사쏟아지네 ㅋㅋㅋ',\n",
       "   '나는 방탄소년단 팬이 아니라서 앱 안쓸건데',\n",
       "   '이러니ㅡ갤럭시가 망해가고있지',\n",
       "   '폰에 이젠 관심없다',\n",
       "   'BTS와 SAMSUNG은 이 지구상에 영원할듯!',\n",
       "   '재용이 해방시켜라 공산당 추종 놈들아',\n",
       "   '사지말아야지',\n",
       "   '물들어왔을때 노 저어야지 물빠지기 전에',\n",
       "   '몇년전만 해도 갤럭시 진취적이면서 합리적인 이미지였는데 요즘은 그냥 쉰내나느 꼰대 이미지임 방탄 이미지 팔아서 그 꼰대 이미지를 희석해보려고 하는데 폰 디자인도 그렇고 기본앱에 광고 넣는 것도 그렇고 거부감만 더 듬 갤럭시는 기본앱에 광고 넣는 이상한 짓좀 하지 말고 소재 고급화 그리고 갤럭시만의 차별화를 급진적으로 추진해야 중국폰에 안밀린다 유틸리티 확장성 이런 것들이 갤럭시 아이덴티티같은 거였는데 그 이미지를 요즘 중국폰이 가져가고 갤럭시는 이도저도 아니게 되어버림 갤럭시의 희망 폴드가 유망하긴 하지만 글쎄 좀 많이잘만들어야할듯',\n",
       "   '이제 핸드폰 광고에 아이돌 넣는건 의미 없지 않나..?방탄 에디션 재고도 남아 도는걸로 아는데 이런 마케팅보다 나은 방법 찾는게 나을듯..',\n",
       "   '아이폰13언제나오냐 기다린다',\n",
       "   '풉2 손전화광고에 아이돌 쓰는건 낭비입니다걔네들 평시에 99%아이폰 쓰고아이폰 사진올리잖아용~',\n",
       "   '풉 ㅋ',\n",
       "   '방탄이 뭔가? 문재인 대통령각하를 만나야지...',\n",
       "   '방탄 왜뜨는지 모르겠다 노래들어봐도 틴탑 샤이니 이런애들이 노래좋더만 요즘 가요계가 어찌돌아가는지..']},\n",
       " 1: {'기사명': '삼성전자 주요 제품 방탄소년단 박물관에서 만난다',\n",
       "  '날짜': '2021.05.16. 오후 12:18',\n",
       "  '추천수': '13',\n",
       "  '좋아요': '30',\n",
       "  '훈훈해요': '4',\n",
       "  '슬퍼요': '0',\n",
       "  '화나요': '0',\n",
       "  '후속기사 원해요': '0',\n",
       "  '댓글 수': 1,\n",
       "  '댓글': ['네네네']},\n",
       " 2: {'기사명': '“삼성 스마트폰·태블릿·TV로 K팝 아티스트 만나요”',\n",
       "  '날짜': '2021.05.16. 오전 11:01',\n",
       "  '추천수': '3',\n",
       "  '좋아요': '12',\n",
       "  '훈훈해요': '1',\n",
       "  '슬퍼요': '0',\n",
       "  '화나요': '0',\n",
       "  '후속기사 원해요': '0',\n",
       "  '댓글 수': 2,\n",
       "  '댓글': ['인기가없어 아무도 안보는 나말고 봐줄사람도 없제', '작성자에 의해 삭제된 댓글입니다.']},\n",
       " 4: {'기사명': \"삼성전자, BTS 소속 '하이브' 뮤지엄서 갤럭시·Neo QLED 체험\",\n",
       "  '날짜': '2021.05.16. 오전 11:00',\n",
       "  '추천수': '3',\n",
       "  '좋아요': '8',\n",
       "  '훈훈해요': '0',\n",
       "  '슬퍼요': '0',\n",
       "  '화나요': '0',\n",
       "  '후속기사 원해요': '0',\n",
       "  '댓글 수': 1,\n",
       "  '댓글': ['클린봇이 부적절한 표현을 감지한 댓글입니다.']}}"
      ]
     },
     "execution_count": 22,
     "metadata": {},
     "output_type": "execute_result"
    }
   ],
   "source": [
    "dict = {}\n",
    "\n",
    "# 페이지당 기사 수집\n",
    "for i in tqdm(range(0, 5)):   # len(df['url'])\n",
    "    try:\n",
    "        # 뉴스 크롬창 띄우기\n",
    "        driver = webdriver.Chrome(\"/Users/jisookwon/Documents/chromedriver\")  # 맥 : /Users/aiden/Desktop/chromedriver\n",
    "        driver.get(df['url'][i])\n",
    "        time.sleep(1)\n",
    "\n",
    "        # 기사 데이터 수집\n",
    "        title = driver.find_element_by_css_selector('.tts_head').text\n",
    "        date = driver.find_element_by_css_selector('.t11').text\n",
    "        up = driver.find_element_by_css_selector('.u_cnt._count').text\n",
    "        like = driver.find_element_by_css_selector(\".end_btn .u_likeit_list.good .u_likeit_list_count._count\").text\n",
    "        warm = driver.find_element_by_css_selector(\".end_btn .u_likeit_list.warm .u_likeit_list_count._count\").text\n",
    "        sad = driver.find_element_by_css_selector(\".end_btn .u_likeit_list.sad .u_likeit_list_count._count\").text\n",
    "        angry = driver.find_element_by_css_selector(\".end_btn .u_likeit_list.angry .u_likeit_list_count._count\").text\n",
    "        want = driver.find_element_by_css_selector(\".end_btn .u_likeit_list.want .u_likeit_list_count._count\").text\n",
    "\n",
    "        # 기사 댓글 갯수 \n",
    "        review_count = int(driver.find_element_by_css_selector(\".u_cbox_count\").text.replace(',', ''))\n",
    "\n",
    "        # 더보기 클릭 횟수\n",
    "        moreview_num = review_count//20\n",
    "\n",
    "        # 댓글 버튼 클릭\n",
    "        driver.find_element_by_css_selector(\".lo_txt\").click()\n",
    "        time.sleep(1)\n",
    "\n",
    "        # 더보기 버튼 여러번 클릭하기\n",
    "        k=0\n",
    "        while k <= moreview_num:  # 더보기 횟수만큼 반복 \n",
    "            try:\n",
    "                driver.find_element_by_css_selector(\".u_cbox_page_more\").click()  # 더보기 버튼 클릭\n",
    "                time.sleep(1)\n",
    "                k = k+1\n",
    "            except:        \n",
    "                break   # 에러나면 클릭 반복문을 빠져나가라\n",
    "\n",
    "        # review 수집하기\n",
    "        review_list = []\n",
    "        overlays1 = \".u_cbox_text_wrap\"\n",
    "        reviews = driver.find_elements_by_css_selector(overlays1)\n",
    "        for review in tqdm(reviews):    \n",
    "            review = review.text\n",
    "            review_list.append(review)\n",
    "\n",
    "        target_info = {}\n",
    "        target_info['기사명'] = title\n",
    "        target_info['날짜'] = date\n",
    "        target_info['추천수'] = up\n",
    "        target_info['좋아요'] = like\n",
    "        target_info['훈훈해요'] = warm\n",
    "        target_info['슬퍼요'] = sad\n",
    "        target_info['화나요'] = angry\n",
    "        target_info['후속기사 원해요'] = want\n",
    "        target_info['댓글 수'] = len(review_list)\n",
    "        target_info['댓글'] = review_list\n",
    "\n",
    "        dict[i] = target_info\n",
    "        \n",
    "        print(title, '( 댓글 수:', len(review_list),')')\n",
    "\n",
    "        driver.close()\n",
    "        time.sleep(1)\n",
    "        \n",
    "    except:\n",
    "        driver.close()\n",
    "        continue\n",
    "\n",
    "print(len(dict))\n",
    "dict"
   ]
  },
  {
   "cell_type": "code",
   "execution_count": 23,
   "metadata": {},
   "outputs": [
    {
     "data": {
      "text/html": [
       "<div>\n",
       "<style scoped>\n",
       "    .dataframe tbody tr th:only-of-type {\n",
       "        vertical-align: middle;\n",
       "    }\n",
       "\n",
       "    .dataframe tbody tr th {\n",
       "        vertical-align: top;\n",
       "    }\n",
       "\n",
       "    .dataframe thead th {\n",
       "        text-align: right;\n",
       "    }\n",
       "</style>\n",
       "<table border=\"1\" class=\"dataframe\">\n",
       "  <thead>\n",
       "    <tr style=\"text-align: right;\">\n",
       "      <th></th>\n",
       "      <th>기사명</th>\n",
       "      <th>날짜</th>\n",
       "      <th>추천수</th>\n",
       "      <th>좋아요</th>\n",
       "      <th>훈훈해요</th>\n",
       "      <th>슬퍼요</th>\n",
       "      <th>화나요</th>\n",
       "      <th>후속기사 원해요</th>\n",
       "      <th>댓글 수</th>\n",
       "      <th>댓글</th>\n",
       "    </tr>\n",
       "  </thead>\n",
       "  <tbody>\n",
       "    <tr>\n",
       "      <th>0</th>\n",
       "      <td>삼성 갤럭시 S21로 방탄소년단 만난다</td>\n",
       "      <td>2021.05.16. 오전 11:01</td>\n",
       "      <td>144</td>\n",
       "      <td>299</td>\n",
       "      <td>6</td>\n",
       "      <td>1</td>\n",
       "      <td>27</td>\n",
       "      <td>1</td>\n",
       "      <td>21</td>\n",
       "      <td>[우와!, 작성자에 의해 삭제된 댓글입니다., 작성자에 의해 삭제된 댓글입니다., ...</td>\n",
       "    </tr>\n",
       "    <tr>\n",
       "      <th>1</th>\n",
       "      <td>삼성전자 주요 제품 방탄소년단 박물관에서 만난다</td>\n",
       "      <td>2021.05.16. 오후 12:18</td>\n",
       "      <td>13</td>\n",
       "      <td>30</td>\n",
       "      <td>4</td>\n",
       "      <td>0</td>\n",
       "      <td>0</td>\n",
       "      <td>0</td>\n",
       "      <td>1</td>\n",
       "      <td>[네네네]</td>\n",
       "    </tr>\n",
       "    <tr>\n",
       "      <th>2</th>\n",
       "      <td>“삼성 스마트폰·태블릿·TV로 K팝 아티스트 만나요”</td>\n",
       "      <td>2021.05.16. 오전 11:01</td>\n",
       "      <td>3</td>\n",
       "      <td>12</td>\n",
       "      <td>1</td>\n",
       "      <td>0</td>\n",
       "      <td>0</td>\n",
       "      <td>0</td>\n",
       "      <td>2</td>\n",
       "      <td>[인기가없어 아무도 안보는 나말고 봐줄사람도 없제, 작성자에 의해 삭제된 댓글입니다.]</td>\n",
       "    </tr>\n",
       "    <tr>\n",
       "      <th>4</th>\n",
       "      <td>삼성전자, BTS 소속 '하이브' 뮤지엄서 갤럭시·Neo QLED 체험</td>\n",
       "      <td>2021.05.16. 오전 11:00</td>\n",
       "      <td>3</td>\n",
       "      <td>8</td>\n",
       "      <td>0</td>\n",
       "      <td>0</td>\n",
       "      <td>0</td>\n",
       "      <td>0</td>\n",
       "      <td>1</td>\n",
       "      <td>[클린봇이 부적절한 표현을 감지한 댓글입니다.]</td>\n",
       "    </tr>\n",
       "  </tbody>\n",
       "</table>\n",
       "</div>"
      ],
      "text/plain": [
       "                                       기사명                    날짜  추천수  좋아요  \\\n",
       "0                    삼성 갤럭시 S21로 방탄소년단 만난다  2021.05.16. 오전 11:01  144  299   \n",
       "1               삼성전자 주요 제품 방탄소년단 박물관에서 만난다  2021.05.16. 오후 12:18   13   30   \n",
       "2            “삼성 스마트폰·태블릿·TV로 K팝 아티스트 만나요”  2021.05.16. 오전 11:01    3   12   \n",
       "4  삼성전자, BTS 소속 '하이브' 뮤지엄서 갤럭시·Neo QLED 체험  2021.05.16. 오전 11:00    3    8   \n",
       "\n",
       "  훈훈해요 슬퍼요 화나요 후속기사 원해요  댓글 수  \\\n",
       "0    6   1  27        1    21   \n",
       "1    4   0   0        0     1   \n",
       "2    1   0   0        0     2   \n",
       "4    0   0   0        0     1   \n",
       "\n",
       "                                                  댓글  \n",
       "0  [우와!, 작성자에 의해 삭제된 댓글입니다., 작성자에 의해 삭제된 댓글입니다., ...  \n",
       "1                                              [네네네]  \n",
       "2   [인기가없어 아무도 안보는 나말고 봐줄사람도 없제, 작성자에 의해 삭제된 댓글입니다.]  \n",
       "4                         [클린봇이 부적절한 표현을 감지한 댓글입니다.]  "
      ]
     },
     "execution_count": 23,
     "metadata": {},
     "output_type": "execute_result"
    }
   ],
   "source": [
    "# 판다스로 만들기\n",
    "import pandas as pd\n",
    "result_df = pd.DataFrame.from_dict(dict, 'index')\n",
    "result_df\n",
    "# result_df.rename(columns={result_df.columns[0] : name}, inplace=True)"
   ]
  },
  {
   "cell_type": "code",
   "execution_count": 24,
   "metadata": {},
   "outputs": [],
   "source": [
    "# 파일로 저장\n",
    "result_df.to_excel(\"naver_article_({}).xlsx\".format(keyword))"
   ]
  },
  {
   "cell_type": "code",
   "execution_count": null,
   "metadata": {},
   "outputs": [],
   "source": []
  },
  {
   "cell_type": "code",
   "execution_count": null,
   "metadata": {},
   "outputs": [],
   "source": []
  },
  {
   "cell_type": "code",
   "execution_count": null,
   "metadata": {},
   "outputs": [],
   "source": []
  }
 ],
 "metadata": {
  "kernelspec": {
   "display_name": "Python 3",
   "language": "python",
   "name": "python3"
  },
  "language_info": {
   "codemirror_mode": {
    "name": "ipython",
    "version": 3
   },
   "file_extension": ".py",
   "mimetype": "text/x-python",
   "name": "python",
   "nbconvert_exporter": "python",
   "pygments_lexer": "ipython3",
   "version": "3.8.8"
  },
  "varInspector": {
   "cols": {
    "lenName": 16,
    "lenType": 16,
    "lenVar": 40
   },
   "kernels_config": {
    "python": {
     "delete_cmd_postfix": "",
     "delete_cmd_prefix": "del ",
     "library": "var_list.py",
     "varRefreshCmd": "print(var_dic_list())"
    },
    "r": {
     "delete_cmd_postfix": ") ",
     "delete_cmd_prefix": "rm(",
     "library": "var_list.r",
     "varRefreshCmd": "cat(var_dic_list()) "
    }
   },
   "types_to_exclude": [
    "module",
    "function",
    "builtin_function_or_method",
    "instance",
    "_Feature"
   ],
   "window_display": false
  }
 },
 "nbformat": 4,
 "nbformat_minor": 2
}
