{
 "cells": [
  {
   "cell_type": "code",
   "execution_count": 1,
   "metadata": {},
   "outputs": [],
   "source": [
    "import pandas as pd\n",
    "import numpy as np"
   ]
  },
  {
   "cell_type": "code",
   "execution_count": 2,
   "metadata": {},
   "outputs": [],
   "source": [
    "# 라이브러리 import\n",
    "# 라이브러리 : 필요한 도구\n",
    "from selenium import webdriver  # 라이브러리(모듈) 가져오라\n",
    "from selenium.webdriver import ActionChains as AC\n",
    "from tqdm import tqdm\n",
    "from tqdm import tqdm_notebook\n",
    "import re\n",
    "from time import sleep\n",
    "import time"
   ]
  },
  {
   "cell_type": "code",
   "execution_count": 3,
   "metadata": {},
   "outputs": [
    {
     "data": {
      "text/plain": [
       "'김치볶음밥'"
      ]
     },
     "execution_count": 3,
     "metadata": {},
     "output_type": "execute_result"
    }
   ],
   "source": [
    "# 데이터 수집할 키워드 지정\n",
    "keyword = \"김치볶음밥\"\n",
    "keyword"
   ]
  },
  {
   "cell_type": "markdown",
   "metadata": {},
   "source": [
    "## 크롤링 준비"
   ]
  },
  {
   "cell_type": "code",
   "execution_count": 5,
   "metadata": {},
   "outputs": [],
   "source": [
    "# 크롬창 띄우기\n",
    "driver = webdriver.Chrome(\"/Users/jisookwon/Documents/chromedriver\")  # 윈도우 : \"chromedriver.exe\"\n",
    "driver.get(\"https://www.instagram.com/\")\n",
    "time.sleep(3)"
   ]
  },
  {
   "cell_type": "raw",
   "metadata": {},
   "source": [
    "수동 로그인\n",
    "알림 설정 나중에"
   ]
  },
  {
   "cell_type": "code",
   "execution_count": 6,
   "metadata": {},
   "outputs": [],
   "source": [
    "# 검색창에 커서 클릭\n",
    "element = driver.find_element_by_css_selector(\".pbgfb.Di7vw\")\n",
    "element.click()\n",
    "time.sleep(1)\n",
    "\n",
    "# 검색 창에 검색어 입력\n",
    "element = driver.find_element_by_css_selector(\".XTCLo.x3qfX\")\n",
    "element.send_keys(keyword)\n",
    "time.sleep(3)"
   ]
  },
  {
   "cell_type": "code",
   "execution_count": 7,
   "metadata": {},
   "outputs": [],
   "source": [
    "# 검색어 리스트 중 첫번째 검색어 클릭\n",
    "query_list = driver.find_elements_by_css_selector(\".-qQT3\")\n",
    "query_list[0].click()\n",
    "time.sleep(3)"
   ]
  },
  {
   "cell_type": "code",
   "execution_count": 8,
   "metadata": {},
   "outputs": [],
   "source": [
    "# 사진 클릭\n",
    "CSS_tran=\"div.Nnq7C.weEfm\"                         # 사진 버튼 정의 (\"div.Nnq7C.weEfm\")\n",
    "tran_button = driver.find_element_by_css_selector(CSS_tran)     # 사진 버튼 찾기\n",
    "AC(driver).move_to_element(tran_button).click().perform()       # 사진 버튼 클릭\n",
    "time.sleep(1)"
   ]
  },
  {
   "cell_type": "code",
   "execution_count": 9,
   "metadata": {},
   "outputs": [
    {
     "data": {
      "text/plain": [
       "'https://scontent-ssn1-1.cdninstagram.com/v/t51.2885-15/e35/s1080x1080/186762533_748512935842730_831592466621009787_n.jpg?tp=1&_nc_ht=scontent-ssn1-1.cdninstagram.com&_nc_cat=102&_nc_ohc=5W2ka1w1LfoAX8LkIk2&edm=AP_V10EBAAAA&ccb=7-4&oh=c4f4c9f2b9ab3e74975c6ee83e035924&oe=60C9856F&_nc_sid=4f375e'"
      ]
     },
     "execution_count": 9,
     "metadata": {},
     "output_type": "execute_result"
    }
   ],
   "source": [
    "# 사진(pic) 크롤링 시작\n",
    "overlays1 = \"div._2dDPU.CkGkG .FFVAD\"                   # 사진창 속 사진   \n",
    "img = driver.find_element_by_css_selector(overlays1)    # 사진 선택\n",
    "pic = img.get_attribute('src')                          # 사진 url 크롤링 완료\n",
    "pic"
   ]
  },
  {
   "cell_type": "code",
   "execution_count": 10,
   "metadata": {},
   "outputs": [
    {
     "data": {
      "text/plain": [
       "'2021년 5월 17일'"
      ]
     },
     "execution_count": 10,
     "metadata": {},
     "output_type": "execute_result"
    }
   ],
   "source": [
    "# 날짜(date) 크롤링 시작\n",
    "overlays2 = \"div._2dDPU.CkGkG .c-Yi7 > time\"                  # 날짜 지정\n",
    "datum2 = driver.find_element_by_css_selector(overlays2)     # 날짜 선택\n",
    "datum2.get_attribute('title')"
   ]
  },
  {
   "cell_type": "code",
   "execution_count": 11,
   "metadata": {},
   "outputs": [
    {
     "data": {
      "text/plain": [
       "'syafiahfhazly\\n님 \\n여러 명\\n이 좋아합니다'"
      ]
     },
     "execution_count": 11,
     "metadata": {},
     "output_type": "execute_result"
    }
   ],
   "source": [
    "# 좋아요(like) 크롤링 시작\n",
    "overlays3 = \".Nm9Fw\"                                        # 리뷰창 속 날짜\n",
    "datum3 = driver.find_element_by_css_selector(overlays3)     # 리뷰 선택\n",
    "like = datum3.text                                          # 좋아요 크롤링 완료\n",
    "like"
   ]
  },
  {
   "cell_type": "code",
   "execution_count": 12,
   "metadata": {},
   "outputs": [
    {
     "data": {
      "text/plain": [
       "' 맛나분식 라면 볶음밥 제육라면 김치볶음밥 빱수니'"
      ]
     },
     "execution_count": 12,
     "metadata": {},
     "output_type": "execute_result"
    }
   ],
   "source": [
    "# 해시태그(tag) 크롤링 시작\n",
    "overlays4 = \".C7I1f.X7jCj\"                                  # 태그 지정\n",
    "datum3 = driver.find_element_by_css_selector(overlays4)     # 태그 선택\n",
    "tag_raw = datum3.text\n",
    "tags = re.findall('#[A-Za-z0-9가-힣]+', tag_raw)            # \"\"#OOO\"만 뽑아오기(OOO: 한글,숫자,영어,_)\n",
    "tag = ''.join(tags).replace(\"#\",\" \")                        # \"#\" 제거\n",
    "tag\n",
    "# print(target_info)"
   ]
  },
  {
   "cell_type": "code",
   "execution_count": 13,
   "metadata": {},
   "outputs": [],
   "source": [
    "# 다음장 클릭\n",
    "CSS_tran2=\"a._65Bje.coreSpriteRightPaginationArrow\"             # 다음 버튼 정의\n",
    "tran_button2 = driver.find_element_by_css_selector(CSS_tran2)  # 다음 버튼 find\n",
    "AC(driver).move_to_element(tran_button2).click().perform()     # 다음 버튼 클릭"
   ]
  },
  {
   "cell_type": "code",
   "execution_count": null,
   "metadata": {},
   "outputs": [],
   "source": []
  },
  {
   "cell_type": "code",
   "execution_count": null,
   "metadata": {},
   "outputs": [],
   "source": []
  },
  {
   "cell_type": "markdown",
   "metadata": {},
   "source": [
    "## 크롤링 시작!"
   ]
  },
  {
   "cell_type": "code",
   "execution_count": 15,
   "metadata": {},
   "outputs": [],
   "source": [
    "# 크롬창 띄우기\n",
    "driver = webdriver.Chrome(\"/Users/jisookwon/Documents/chromedriver\")  # 윈도우 : \"chromedriver.exe\"\n",
    "driver.get(\"https://www.instagram.com/\")\n",
    "time.sleep(3)"
   ]
  },
  {
   "cell_type": "raw",
   "metadata": {},
   "source": [
    "수동 로그인\n",
    "설정 나중에 하기"
   ]
  },
  {
   "cell_type": "code",
   "execution_count": 16,
   "metadata": {},
   "outputs": [
    {
     "data": {
      "text/plain": [
       "'/Users/jisookwon/Documents/크롤링/인스타그램'"
      ]
     },
     "execution_count": 16,
     "metadata": {},
     "output_type": "execute_result"
    }
   ],
   "source": [
    "pwd"
   ]
  },
  {
   "cell_type": "code",
   "execution_count": 17,
   "metadata": {
    "scrolled": false
   },
   "outputs": [
    {
     "name": "stderr",
     "output_type": "stream",
     "text": [
      "<ipython-input-17-2dc596a275d7>:27: TqdmDeprecationWarning: This function will be removed in tqdm==5.0.0\n",
      "Please use `tqdm.notebook.tqdm` instead of `tqdm.tqdm_notebook`\n",
      "  for i in tqdm_notebook(range(0, len_insta)):    # range : 숫자가 1씩하는 함수\n"
     ]
    },
    {
     "data": {
      "application/vnd.jupyter.widget-view+json": {
       "model_id": "890c0a6d94474748a347bd005c9f0c8b",
       "version_major": 2,
       "version_minor": 0
      },
      "text/plain": [
       "  0%|          | 0/10 [00:00<?, ?it/s]"
      ]
     },
     "metadata": {},
     "output_type": "display_data"
    },
    {
     "name": "stdout",
     "output_type": "stream",
     "text": [
      "0  김치볶음밥 겨우저거만드는데한시간\n",
      "1  맛나분식 라면 볶음밥 제육라면 김치볶음밥 빱수니\n",
      "3  김치볶음밥 목살김치볶음밥 점심 둘이서 한그릇뚝딱 반숙계란후라이 집밥 집밥스타그램 홈쿡 홈쿡스타그램 cookstagram koreanfood homecook 살림하는여자 주부일상그램 밥상차리는여자\n",
      "4  제품지원 후라이팬추천 인덕션후라이팬 프라이팬 김치볶음밥 스팸김치볶음밥 스텐코팅팬\n",
      "5  삼겹살김치볶음밥\n",
      "6 \n",
      "7  식음연구소 뉴프로젝트 lucakitchen grandopen lobsterroll 문어전복명란솥밥 떡볶이 치킨버거 김치볶음밥 seafoodplatter nomadicsicialdining luca831 casia 루카키친 식음연구소 rnd 운영팀\n",
      "9  서키메이드 루꼴라페스토 루꼴라볶음밥 김치볶음밥 명란미역국 서키의주방 서키의냉파 마법사서키 사랑해\n",
      "{0: {'picture': 'https://scontent-ssn1-1.cdninstagram.com/v/t51.2885-15/e35/s1080x1080/186760854_538433897320401_5946605331776096166_n.jpg?tp=1&_nc_ht=scontent-ssn1-1.cdninstagram.com&_nc_cat=109&_nc_ohc=e5Wuz3i52McAX_xRQYC&edm=AP_V10EBAAAA&ccb=7-4&oh=242b20ffc92506df342c091a665f36b5&oe=60CBB413&_nc_sid=4f375e', 'date': '2021년 5월 17일', 'like': 's._.n517\\n님 \\n여러 명\\n이 좋아합니다', 'tag': ' 김치볶음밥 겨우저거만드는데한시간'}, 1: {'picture': 'https://scontent-ssn1-1.cdninstagram.com/v/t51.2885-15/e35/s1080x1080/186762533_748512935842730_831592466621009787_n.jpg?tp=1&_nc_ht=scontent-ssn1-1.cdninstagram.com&_nc_cat=102&_nc_ohc=5W2ka1w1LfoAX8LkIk2&edm=AP_V10EBAAAA&ccb=7-4&oh=c4f4c9f2b9ab3e74975c6ee83e035924&oe=60C9856F&_nc_sid=4f375e', 'date': '2021년 5월 17일', 'like': 'syafiahfhazly\\n님 \\n여러 명\\n이 좋아합니다', 'tag': ' 맛나분식 라면 볶음밥 제육라면 김치볶음밥 빱수니'}, 3: {'picture': 'https://scontent-ssn1-1.cdninstagram.com/v/t51.2885-15/e35/p1080x1080/178158416_112887030914685_638509966810572892_n.jpg?tp=1&_nc_ht=scontent-ssn1-1.cdninstagram.com&_nc_cat=109&_nc_ohc=sCqqUCqPpc8AX9kN5ec&edm=AP_V10EBAAAA&ccb=7-4&oh=eea427a6af9fdac5b0abe87f4b888383&oe=60CA63F7&_nc_sid=4f375e', 'date': '2021년 4월 29일', 'like': 'gourmet_82\\n님 \\n여러 명\\n이 좋아합니다', 'tag': ' 김치볶음밥 목살김치볶음밥 점심 둘이서 한그릇뚝딱 반숙계란후라이 집밥 집밥스타그램 홈쿡 홈쿡스타그램 cookstagram koreanfood homecook 살림하는여자 주부일상그램 밥상차리는여자'}, 4: {'picture': 'https://scontent-ssn1-1.cdninstagram.com/v/t51.2885-15/e35/s1080x1080/181140226_306090987688982_8226622945344541781_n.jpg?tp=1&_nc_ht=scontent-ssn1-1.cdninstagram.com&_nc_cat=102&_nc_ohc=4z2XfAYMs_MAX8p1Lj8&edm=AP_V10EBAAAA&ccb=7-4&oh=57a0dcf97a01dfc29461a51c3da6070f&oe=60C9AF21&_nc_sid=4f375e', 'date': '2021년 5월 4일', 'like': 'malak2001669\\n님 \\n여러 명\\n이 좋아합니다', 'tag': ' 제품지원 후라이팬추천 인덕션후라이팬 프라이팬 김치볶음밥 스팸김치볶음밥 스텐코팅팬'}, 5: {'picture': 'https://scontent-ssn1-1.cdninstagram.com/v/t51.2885-15/e35/s1080x1080/177312299_812079329742154_1407507071473292574_n.jpg?tp=1&_nc_ht=scontent-ssn1-1.cdninstagram.com&_nc_cat=110&_nc_ohc=tD2TWCPjnYEAX9hxepv&edm=AP_V10EBAAAA&ccb=7-4&oh=74682bf009041c31015a1a9f25e1c57c&oe=60C968F6&_nc_sid=4f375e', 'date': '2021년 4월 26일', 'like': 'homingstory\\n님 \\n여러 명\\n이 좋아합니다', 'tag': ' 삼겹살김치볶음밥'}, 6: {'picture': 'https://scontent-ssn1-1.cdninstagram.com/v/t51.2885-15/e35/s1080x1080/174456951_448597306366505_4592817534356692223_n.jpg?tp=1&_nc_ht=scontent-ssn1-1.cdninstagram.com&_nc_cat=105&_nc_ohc=O8ZngoxEBQ4AX-sH5TB&edm=AP_V10EBAAAA&ccb=7-4&oh=2c6b19cb4e6bc0373990fff04a850e11&oe=60CB8A3E&_nc_sid=4f375e', 'date': '2021년 4월 16일', 'like': 'blueannie794\\n님 \\n여러 명\\n이 좋아합니다', 'tag': ''}, 7: {'picture': 'https://scontent-ssn1-1.cdninstagram.com/v/t51.2885-15/e35/p1080x1080/178134350_2014315772044562_2659577245649133240_n.jpg?tp=1&_nc_ht=scontent-ssn1-1.cdninstagram.com&_nc_cat=102&_nc_ohc=aAa-pHnjuCYAX_0CYQO&edm=AP_V10EBAAAA&ccb=7-4&oh=794d7a6d8ec6d4b584e64eb54d06edb5&oe=60C9FDE7&_nc_sid=4f375e', 'date': '2021년 4월 27일', 'like': 'mindy515\\n님 \\n여러 명\\n이 좋아합니다', 'tag': ' 식음연구소 뉴프로젝트 lucakitchen grandopen lobsterroll 문어전복명란솥밥 떡볶이 치킨버거 김치볶음밥 seafoodplatter nomadicsicialdining luca831 casia 루카키친 식음연구소 rnd 운영팀'}, 9: {'picture': 'https://scontent-ssn1-1.cdninstagram.com/v/t51.2885-15/e35/s1080x1080/188008723_472017097227049_1408445544516922849_n.jpg?tp=1&_nc_ht=scontent-ssn1-1.cdninstagram.com&_nc_cat=101&_nc_ohc=CTkdjKwyiA8AX9yje3f&edm=AP_V10EBAAAA&ccb=7-4&oh=893e0702f5561ec858649e7c45f949ec&oe=60CA2A14&_nc_sid=4f375e', 'date': '2021년 5월 19일', 'like': '_sojun\\n님 \\n여러 명\\n이 좋아합니다', 'tag': ' 서키메이드 루꼴라페스토 루꼴라볶음밥 김치볶음밥 명란미역국 서키의주방 서키의냉파 마법사서키 사랑해'}}\n"
     ]
    }
   ],
   "source": [
    "dict = {}   # 전체 데이터를 담을 딕셔너리 생성\n",
    "\n",
    "# 검색창에 커서 클릭\n",
    "element = driver.find_element_by_css_selector(\".pbgfb.Di7vw\")\n",
    "element.click()\n",
    "time.sleep(1)\n",
    "\n",
    "# 검색 창에 검색어 입력\n",
    "element = driver.find_element_by_css_selector(\".XTCLo.x3qfX\")\n",
    "element.send_keys(keyword)\n",
    "time.sleep(3)\n",
    "\n",
    "# 검색어 리스트 중 첫번째 검색어 클릭\n",
    "query_list = driver.find_elements_by_css_selector(\".-qQT3\")\n",
    "query_list[0].click()\n",
    "time.sleep(7)\n",
    "\n",
    "# 사진 클릭\n",
    "CSS_tran=\"div.Nnq7C.weEfm\"                                      # 사진 버튼 정의 \n",
    "tran_button = driver.find_element_by_css_selector(CSS_tran)     # 사진 버튼 찾기\n",
    "AC(driver).move_to_element(tran_button).click().perform()       # 사진 버튼 클릭\n",
    "time.sleep(1)\n",
    "\n",
    "# 크롤링 시작\n",
    "len_insta = 10   # 몇 개 글을 크롤링 할건지\n",
    "\n",
    "for i in tqdm_notebook(range(0, len_insta)):    # range : 숫자가 1씩하는 함수\n",
    "\n",
    "    target_info = {}                                            # 사진별 데이터를 담을 딕셔너리 생성\n",
    "\n",
    "    try:    # 크롤링을 시도해라.\n",
    "        # 사진(pic) 크롤링 시작\n",
    "        overlays1 = \"div._2dDPU.CkGkG .FFVAD\"                   # 사진창 속 사진   \n",
    "        img = driver.find_element_by_css_selector(overlays1)    # 사진 선택\n",
    "        pic = img.get_attribute('src')                          # 사진 url 크롤링 완료\n",
    "        target_info['picture'] = pic\n",
    "        # print(target_info)\n",
    "\n",
    "        # 날짜(date) 크롤링 시작\n",
    "        overlays2 = \"div._2dDPU.CkGkG .c-Yi7 > time\"                  # 날짜 지정\n",
    "        datum2 = driver.find_element_by_css_selector(overlays2)     # 날짜 선택\n",
    "        date = datum2.get_attribute('title')\n",
    "#         get_attribute('title')                                    # 날짜 크롤링 완료\n",
    "        target_info['date'] = date\n",
    "        # print(target_info)\n",
    "        # print(datalist)\n",
    "\n",
    "        # 좋아요(like) 크롤링 시작\n",
    "        overlays3 = \".Nm9Fw\"                                        # 리뷰창 속 날짜\n",
    "        datum3 = driver.find_element_by_css_selector(overlays3)     # 리뷰 선택\n",
    "        like = datum3.text                                          # 좋아요 크롤링 완료\n",
    "        target_info['like'] = like\n",
    "        # print(target_info)\n",
    "\n",
    "        # 해시태그(tag) 크롤링 시작\n",
    "        overlays4 = \".C7I1f.X7jCj\"                                  # 태그 지정\n",
    "        datum3 = driver.find_element_by_css_selector(overlays4)     # 태그 선택\n",
    "        tag_raw = datum3.text\n",
    "        tags = re.findall('#[A-Za-z0-9가-힣]+', tag_raw)            # \"\"#OOO\"만 뽑아오기(OOO: 한글,숫자,영어,_)\n",
    "        tag = ''.join(tags).replace(\"#\",\" \")                        # \"#\" 제거\n",
    "        target_info['tag'] = tag\n",
    "        # print(target_info)\n",
    "\n",
    "        dict[i] = target_info            # 토탈 딕셔너리로 만들기\n",
    "\n",
    "        print(\"{0}\".format(i), tag)\n",
    "\n",
    "        # 다음장 클릭\n",
    "        CSS_tran2=\"a._65Bje.coreSpriteRightPaginationArrow\"             # 다음 버튼 정의\n",
    "        tran_button2 = driver.find_element_by_css_selector(CSS_tran2)  # 다음 버튼 find\n",
    "        AC(driver).move_to_element(tran_button2).click().perform()     # 다음 버튼 클릭\n",
    "        time.sleep(2)\n",
    "\n",
    "    except:  # 에러가 나면 다음장을 클릭해라\n",
    "        # 다음장 클릭\n",
    "        CSS_tran2=\"a._65Bje.coreSpriteRightPaginationArrow\"             # 다음 버튼 정의\n",
    "        tran_button2 = driver.find_element_by_css_selector(CSS_tran2)  # 다음 버튼 find\n",
    "        AC(driver).move_to_element(tran_button2).click().perform()     # 다음 버튼 클릭\n",
    "        time.sleep(2)\n",
    "\n",
    "print(dict)\n",
    "\n",
    "# 판다스로 만들기 : 엑셀(테이블) 형식으로 만들기\n",
    "import pandas as pd\n",
    "result_df = pd.DataFrame.from_dict(dict, 'index')\n",
    "\n",
    "n = result_df['picture'].count()\n",
    "\n",
    "# csv 형식(엑셀이랑 비슷한 파일)으로 저장\n",
    "result_df.to_csv(\"insta({}).csv\".format(keyword), encoding='euc-kr')"
   ]
  },
  {
   "cell_type": "code",
   "execution_count": 18,
   "metadata": {},
   "outputs": [
    {
     "data": {
      "text/html": [
       "<div>\n",
       "<style scoped>\n",
       "    .dataframe tbody tr th:only-of-type {\n",
       "        vertical-align: middle;\n",
       "    }\n",
       "\n",
       "    .dataframe tbody tr th {\n",
       "        vertical-align: top;\n",
       "    }\n",
       "\n",
       "    .dataframe thead th {\n",
       "        text-align: right;\n",
       "    }\n",
       "</style>\n",
       "<table border=\"1\" class=\"dataframe\">\n",
       "  <thead>\n",
       "    <tr style=\"text-align: right;\">\n",
       "      <th></th>\n",
       "      <th>picture</th>\n",
       "      <th>date</th>\n",
       "      <th>like</th>\n",
       "      <th>tag</th>\n",
       "    </tr>\n",
       "  </thead>\n",
       "  <tbody>\n",
       "    <tr>\n",
       "      <th>0</th>\n",
       "      <td>https://scontent-ssn1-1.cdninstagram.com/v/t51...</td>\n",
       "      <td>2021년 5월 17일</td>\n",
       "      <td>s._.n517\\n님 \\n여러 명\\n이 좋아합니다</td>\n",
       "      <td>김치볶음밥 겨우저거만드는데한시간</td>\n",
       "    </tr>\n",
       "    <tr>\n",
       "      <th>1</th>\n",
       "      <td>https://scontent-ssn1-1.cdninstagram.com/v/t51...</td>\n",
       "      <td>2021년 5월 17일</td>\n",
       "      <td>syafiahfhazly\\n님 \\n여러 명\\n이 좋아합니다</td>\n",
       "      <td>맛나분식 라면 볶음밥 제육라면 김치볶음밥 빱수니</td>\n",
       "    </tr>\n",
       "    <tr>\n",
       "      <th>3</th>\n",
       "      <td>https://scontent-ssn1-1.cdninstagram.com/v/t51...</td>\n",
       "      <td>2021년 4월 29일</td>\n",
       "      <td>gourmet_82\\n님 \\n여러 명\\n이 좋아합니다</td>\n",
       "      <td>김치볶음밥 목살김치볶음밥 점심 둘이서 한그릇뚝딱 반숙계란후라이 집밥 집밥스타그램 ...</td>\n",
       "    </tr>\n",
       "    <tr>\n",
       "      <th>4</th>\n",
       "      <td>https://scontent-ssn1-1.cdninstagram.com/v/t51...</td>\n",
       "      <td>2021년 5월 4일</td>\n",
       "      <td>malak2001669\\n님 \\n여러 명\\n이 좋아합니다</td>\n",
       "      <td>제품지원 후라이팬추천 인덕션후라이팬 프라이팬 김치볶음밥 스팸김치볶음밥 스텐코팅팬</td>\n",
       "    </tr>\n",
       "    <tr>\n",
       "      <th>5</th>\n",
       "      <td>https://scontent-ssn1-1.cdninstagram.com/v/t51...</td>\n",
       "      <td>2021년 4월 26일</td>\n",
       "      <td>homingstory\\n님 \\n여러 명\\n이 좋아합니다</td>\n",
       "      <td>삼겹살김치볶음밥</td>\n",
       "    </tr>\n",
       "    <tr>\n",
       "      <th>6</th>\n",
       "      <td>https://scontent-ssn1-1.cdninstagram.com/v/t51...</td>\n",
       "      <td>2021년 4월 16일</td>\n",
       "      <td>blueannie794\\n님 \\n여러 명\\n이 좋아합니다</td>\n",
       "      <td></td>\n",
       "    </tr>\n",
       "    <tr>\n",
       "      <th>7</th>\n",
       "      <td>https://scontent-ssn1-1.cdninstagram.com/v/t51...</td>\n",
       "      <td>2021년 4월 27일</td>\n",
       "      <td>mindy515\\n님 \\n여러 명\\n이 좋아합니다</td>\n",
       "      <td>식음연구소 뉴프로젝트 lucakitchen grandopen lobsterroll...</td>\n",
       "    </tr>\n",
       "    <tr>\n",
       "      <th>9</th>\n",
       "      <td>https://scontent-ssn1-1.cdninstagram.com/v/t51...</td>\n",
       "      <td>2021년 5월 19일</td>\n",
       "      <td>_sojun\\n님 \\n여러 명\\n이 좋아합니다</td>\n",
       "      <td>서키메이드 루꼴라페스토 루꼴라볶음밥 김치볶음밥 명란미역국 서키의주방 서키의냉파 마...</td>\n",
       "    </tr>\n",
       "  </tbody>\n",
       "</table>\n",
       "</div>"
      ],
      "text/plain": [
       "                                             picture          date  \\\n",
       "0  https://scontent-ssn1-1.cdninstagram.com/v/t51...  2021년 5월 17일   \n",
       "1  https://scontent-ssn1-1.cdninstagram.com/v/t51...  2021년 5월 17일   \n",
       "3  https://scontent-ssn1-1.cdninstagram.com/v/t51...  2021년 4월 29일   \n",
       "4  https://scontent-ssn1-1.cdninstagram.com/v/t51...   2021년 5월 4일   \n",
       "5  https://scontent-ssn1-1.cdninstagram.com/v/t51...  2021년 4월 26일   \n",
       "6  https://scontent-ssn1-1.cdninstagram.com/v/t51...  2021년 4월 16일   \n",
       "7  https://scontent-ssn1-1.cdninstagram.com/v/t51...  2021년 4월 27일   \n",
       "9  https://scontent-ssn1-1.cdninstagram.com/v/t51...  2021년 5월 19일   \n",
       "\n",
       "                               like  \\\n",
       "0       s._.n517\\n님 \\n여러 명\\n이 좋아합니다   \n",
       "1  syafiahfhazly\\n님 \\n여러 명\\n이 좋아합니다   \n",
       "3     gourmet_82\\n님 \\n여러 명\\n이 좋아합니다   \n",
       "4   malak2001669\\n님 \\n여러 명\\n이 좋아합니다   \n",
       "5    homingstory\\n님 \\n여러 명\\n이 좋아합니다   \n",
       "6   blueannie794\\n님 \\n여러 명\\n이 좋아합니다   \n",
       "7       mindy515\\n님 \\n여러 명\\n이 좋아합니다   \n",
       "9         _sojun\\n님 \\n여러 명\\n이 좋아합니다   \n",
       "\n",
       "                                                 tag  \n",
       "0                                  김치볶음밥 겨우저거만드는데한시간  \n",
       "1                         맛나분식 라면 볶음밥 제육라면 김치볶음밥 빱수니  \n",
       "3   김치볶음밥 목살김치볶음밥 점심 둘이서 한그릇뚝딱 반숙계란후라이 집밥 집밥스타그램 ...  \n",
       "4       제품지원 후라이팬추천 인덕션후라이팬 프라이팬 김치볶음밥 스팸김치볶음밥 스텐코팅팬  \n",
       "5                                           삼겹살김치볶음밥  \n",
       "6                                                     \n",
       "7   식음연구소 뉴프로젝트 lucakitchen grandopen lobsterroll...  \n",
       "9   서키메이드 루꼴라페스토 루꼴라볶음밥 김치볶음밥 명란미역국 서키의주방 서키의냉파 마...  "
      ]
     },
     "execution_count": 18,
     "metadata": {},
     "output_type": "execute_result"
    }
   ],
   "source": [
    "result_df"
   ]
  },
  {
   "cell_type": "code",
   "execution_count": 19,
   "metadata": {},
   "outputs": [
    {
     "data": {
      "text/plain": [
       "8"
      ]
     },
     "execution_count": 19,
     "metadata": {},
     "output_type": "execute_result"
    }
   ],
   "source": [
    "num_pic = len(result_df['picture'])\n",
    "num_pic"
   ]
  },
  {
   "cell_type": "code",
   "execution_count": 20,
   "metadata": {},
   "outputs": [
    {
     "data": {
      "text/plain": [
       "'/Users/jisookwon/Documents/크롤링/인스타그램'"
      ]
     },
     "execution_count": 20,
     "metadata": {},
     "output_type": "execute_result"
    }
   ],
   "source": [
    "pwd"
   ]
  },
  {
   "cell_type": "code",
   "execution_count": 21,
   "metadata": {},
   "outputs": [],
   "source": [
    "# 이미지들 image_insta 폴더에 다운받기\n",
    "import os\n",
    "import urllib.request\n",
    "\n",
    "# 만약 폴더가 없으면 만들어라\n",
    "if not os.path.exists(\"image_insta\"):\n",
    "    os.makedirs(\"image_insta\")\n",
    "        \n",
    "for i in range(0, 50):\n",
    "    \n",
    "    try:\n",
    "        index = result_df['picture'][i]\n",
    "        date = result_df['date'][i]\n",
    "        urllib.request.urlretrieve(index, \"image_insta/{0}_{1}.jpg\".format(date, i))        \n",
    "    except:\n",
    "        pass"
   ]
  },
  {
   "cell_type": "markdown",
   "metadata": {},
   "source": [
    "끝"
   ]
  },
  {
   "cell_type": "code",
   "execution_count": null,
   "metadata": {},
   "outputs": [],
   "source": []
  }
 ],
 "metadata": {
  "kernelspec": {
   "display_name": "Python 3",
   "language": "python",
   "name": "python3"
  },
  "language_info": {
   "codemirror_mode": {
    "name": "ipython",
    "version": 3
   },
   "file_extension": ".py",
   "mimetype": "text/x-python",
   "name": "python",
   "nbconvert_exporter": "python",
   "pygments_lexer": "ipython3",
   "version": "3.8.8"
  },
  "varInspector": {
   "cols": {
    "lenName": 16,
    "lenType": 16,
    "lenVar": 40
   },
   "kernels_config": {
    "python": {
     "delete_cmd_postfix": "",
     "delete_cmd_prefix": "del ",
     "library": "var_list.py",
     "varRefreshCmd": "print(var_dic_list())"
    },
    "r": {
     "delete_cmd_postfix": ") ",
     "delete_cmd_prefix": "rm(",
     "library": "var_list.r",
     "varRefreshCmd": "cat(var_dic_list()) "
    }
   },
   "types_to_exclude": [
    "module",
    "function",
    "builtin_function_or_method",
    "instance",
    "_Feature"
   ],
   "window_display": false
  }
 },
 "nbformat": 4,
 "nbformat_minor": 2
}
