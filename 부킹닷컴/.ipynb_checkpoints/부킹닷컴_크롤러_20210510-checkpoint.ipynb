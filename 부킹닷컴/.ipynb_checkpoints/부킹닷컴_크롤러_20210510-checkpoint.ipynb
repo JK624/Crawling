{
 "cells": [
  {
   "cell_type": "code",
   "execution_count": 1,
   "metadata": {},
   "outputs": [
    {
     "data": {
      "text/plain": [
       "'/Users/jisookwon/Documents/크롤링/부킹닷컴'"
      ]
     },
     "execution_count": 1,
     "metadata": {},
     "output_type": "execute_result"
    }
   ],
   "source": [
    "pwd"
   ]
  },
  {
   "cell_type": "raw",
   "metadata": {},
   "source": [
    "성인 1명이 이번 주 주말에 놀러갈 제주도 숙소 리스트를 가져오고 싶을 때"
   ]
  },
  {
   "cell_type": "code",
   "execution_count": 2,
   "metadata": {},
   "outputs": [],
   "source": [
    "# Step 0. 필요한 모듈과 라이브러리를 로딩합니다.\n",
    "import sys # 시스템\n",
    "import os  # 시스템\n",
    "\n",
    "import pandas as pd  # 판다스 : 데이터분석 라이브러리\n",
    "import numpy as np   # 넘파이 : 숫자, 행렬 데이터 라이브러리\n",
    "\n",
    "from bs4 import BeautifulSoup    # html 데이터를 전처리\n",
    "from selenium import webdriver   # 웹 브라우저 자동화\n",
    "import time    # 서버와 통신할 때 중간중간 시간 지연. 보통은 1초\n",
    "from tqdm import tqdm_notebook   # for문 돌릴 때 진행상황을 %게이지로 알려준다."
   ]
  },
  {
   "cell_type": "code",
   "execution_count": 7,
   "metadata": {},
   "outputs": [],
   "source": [
    "# 스크롤을 밑으로 내려주는 함수\n",
    "def scroll_down(driver):\n",
    "    driver.execute_script(\"window.scrollTo(0, 7000)\")\n",
    "    time.sleep(1)\n",
    "scroll_down(driver)"
   ]
  },
  {
   "cell_type": "code",
   "execution_count": 6,
   "metadata": {},
   "outputs": [],
   "source": [
    "# Step 1. 크롬 웹브라우저 실행\n",
    "driver = webdriver.Chrome(\"/Users/jisookwon/Documents/chromedriver\")  # 윈도우는 \"chromedriver.exe\"\n",
    "url = \"https://www.booking.com/searchresults.ko.html?aid=397648&label=nav105jc-1FCAEoggI46AdIM1gDaH2IAQGYARe4AQfIAQzYAQHoAQH4AQyIAgGoAgO4Aov74IQGwAIB0gIkN2VjZDJjNjktMjAxZS00NjBlLTg3ZWQtY2JhMjY2MDljMmM42AIG4AIB&sid=e19b301d9f2ba429173c4b6aaa971bcd&tmpl=searchresults&checkin_month=5&checkin_monthday=15&checkin_year=2021&checkout_month=5&checkout_monthday=16&checkout_year=2021&class_interval=1&dest_id=4170&dest_type=region&dtdisc=0&from_sf=1&group_adults=1&group_children=0&inac=0&index_postcard=0&label_click=undef&no_rooms=1&postcard=0&raw_dest_type=region&room1=A&sb_price_type=total&search_selected=1&shw_aparth=1&slp_r_match=0&src=index&src_elem=sb&srpvid=d60890e0e8ae0830&ss=%EC%A0%9C%EC%A3%BC%EB%8F%84%2C%20%EB%8C%80%ED%95%9C%EB%AF%BC%EA%B5%AD&ss_all=0&ssb=empty&sshis=0&top_ufis=1&rows=25\\\n",
    "&offset=0\"\n",
    "driver.get(url)\n",
    "time.sleep(2)"
   ]
  },
  {
   "cell_type": "markdown",
   "metadata": {},
   "source": [
    "# 데이터 크롤링"
   ]
  },
  {
   "cell_type": "code",
   "execution_count": 8,
   "metadata": {
    "scrolled": true
   },
   "outputs": [
    {
     "name": "stdout",
     "output_type": "stream",
     "text": [
      "크롤링 성공: \n",
      "hotel rating price room url\n",
      "25 25 0 0 25\n",
      "50 50 0 0 50\n",
      "75 75 0 0 75\n",
      "100 100 0 0 100\n",
      "125 125 0 0 125\n",
      "150 150 0 0 150\n",
      "175 175 0 0 175\n",
      "200 200 0 0 200\n",
      "225 225 0 0 225\n",
      "250 250 0 0 250\n",
      "275 275 0 0 275\n",
      "300 300 0 0 300\n",
      "325 325 0 0 325\n",
      "350 350 0 0 350\n",
      "375 375 0 0 375\n",
      "400 400 0 0 400\n",
      "425 425 0 0 425\n",
      "450 450 0 0 450\n",
      "475 475 0 0 475\n",
      "500 500 0 0 500\n",
      "크롤링 완료\n"
     ]
    }
   ],
   "source": [
    "# Step 1. 크롬 웹브라우저 실행\n",
    "driver = webdriver.Chrome(\"/Users/jisookwon/Documents/chromedriver\")  # 윈도우는 \"chromedriver.exe\"\n",
    "url = \"https://www.booking.com/searchresults.ko.html?aid=397648&label=nav105jc-1FCAEoggI46AdIM1gDaH2IAQGYARe4AQfIAQzYAQHoAQH4AQyIAgGoAgO4Aov74IQGwAIB0gIkN2VjZDJjNjktMjAxZS00NjBlLTg3ZWQtY2JhMjY2MDljMmM42AIG4AIB&sid=e19b301d9f2ba429173c4b6aaa971bcd&tmpl=searchresults&checkin_month=5&checkin_monthday=15&checkin_year=2021&checkout_month=5&checkout_monthday=16&checkout_year=2021&class_interval=1&dest_id=4170&dest_type=region&dtdisc=0&from_sf=1&group_adults=1&group_children=0&inac=0&index_postcard=0&label_click=undef&no_rooms=1&postcard=0&raw_dest_type=region&room1=A&sb_price_type=total&search_selected=1&shw_aparth=1&slp_r_match=0&src=index&src_elem=sb&srpvid=d60890e0e8ae0830&ss=%EC%A0%9C%EC%A3%BC%EB%8F%84%2C%20%EB%8C%80%ED%95%9C%EB%AF%BC%EA%B5%AD&ss_all=0&ssb=empty&sshis=0&top_ufis=1&rows=25\\\n",
    "&offset=0\"\n",
    "driver.get(url)\n",
    "time.sleep(2)\n",
    "\n",
    "hotel_list = []\n",
    "url_list=[]\n",
    "rating_list = []\n",
    "price_list = []\n",
    "room_list = []\n",
    "\n",
    "print(\"크롤링 성공: \")\n",
    "print('hotel', 'rating', 'price', 'room', 'url')\n",
    "\n",
    "page = 20   # 크롤링 원하는 페이지 수\n",
    "for i in range(0, page):\n",
    "    \n",
    "    # 호텔 이름\n",
    "    hotel_raw = driver.find_elements_by_css_selector('.sr-hotel__name')\n",
    "    for hotel in hotel_raw:\n",
    "        hotel = hotel.text\n",
    "        hotel_list.append(hotel)\n",
    "    # hotel_list = [ x for x in hotel_list if not x =='']\n",
    "    \n",
    "    # 별점 가져오기\n",
    "    rating_raw = driver.find_elements_by_css_selector('.sr_item_review_block')\n",
    "    for rating in rating_raw:\n",
    "        if '\\n' in rating.text:\n",
    "            rating = rating.text.split('\\n')[0]\n",
    "        else:\n",
    "            rating = rating.text\n",
    "        rating_list.append(rating)\n",
    "    \n",
    "    # 가격 가져오기\n",
    "    price_raw = driver.find_elements_by_css_selector('.roomPrice.sr_discount')\n",
    "    for price in price_raw:\n",
    "        if price.text.split('\\n') != ['']:\n",
    "            price = price.text.split('\\n')\n",
    "            price = int([ x for x in price if x != '1박, 성인 1명'][0].split(' ')[-1].replace('₩', '').replace(',', ''))\n",
    "            price_list.append(price)\n",
    "    price_list = [x for x in price_list if not x =='']\n",
    "    \n",
    "    # 방 정보\n",
    "    room_raw = driver.find_elements_by_css_selector(\".room_link\")\n",
    "    for room in room_raw:\n",
    "        room_list.append(room.text.split('\\n')[0].replace(' -','').strip())\n",
    "    room_list = [ x for x in room_list if not x =='']\n",
    "    \n",
    "    # url\n",
    "    url_raw = driver.find_elements_by_css_selector(\".sr_item_photo_link.sr_hotel_preview_track\")\n",
    "    for url in url_raw:\n",
    "        url = url.get_attribute('href')\n",
    "        url_list.append(url)\n",
    "    time.sleep(1)\n",
    "    # url_list = [ x for x in url_list if not x =='']\n",
    "    \n",
    "    # 크롤링 성공한 갯수\n",
    "    print(len(hotel_list),len(rating_list),len(price_list),len(room_list),len(url_list))\n",
    "    \n",
    "    # 다음 페이지 이동\n",
    "    driver.find_element_by_css_selector('.bk-icon.-iconset-navarrow_right.bui-pagination__icon').click()\n",
    "    time.sleep(3)\n",
    "    scroll_down(driver)\n",
    "    \n",
    "print(\"크롤링 완료\")"
   ]
  },
  {
   "cell_type": "code",
   "execution_count": 9,
   "metadata": {},
   "outputs": [
    {
     "name": "stdout",
     "output_type": "stream",
     "text": [
      "500\n",
      "0\n",
      "0\n",
      "500\n",
      "500\n"
     ]
    }
   ],
   "source": [
    "print(len(hotel_list))\n",
    "print(len(room_list))\n",
    "print(len(price_list))\n",
    "print(len(rating_list))\n",
    "print(len(url_list))"
   ]
  },
  {
   "cell_type": "code",
   "execution_count": 12,
   "metadata": {},
   "outputs": [
    {
     "ename": "ValueError",
     "evalue": "arrays must all be same length",
     "output_type": "error",
     "traceback": [
      "\u001b[0;31m---------------------------------------------------------------------------\u001b[0m",
      "\u001b[0;31mValueError\u001b[0m                                Traceback (most recent call last)",
      "\u001b[0;32m<ipython-input-12-2c42bfef4176>\u001b[0m in \u001b[0;36m<module>\u001b[0;34m\u001b[0m\n\u001b[1;32m      1\u001b[0m \u001b[0;31m# 데이터 프레임으로 만들기\u001b[0m\u001b[0;34m\u001b[0m\u001b[0;34m\u001b[0m\u001b[0;34m\u001b[0m\u001b[0m\n\u001b[0;32m----> 2\u001b[0;31m \u001b[0mdf\u001b[0m \u001b[0;34m=\u001b[0m \u001b[0mpd\u001b[0m\u001b[0;34m.\u001b[0m\u001b[0mDataFrame\u001b[0m\u001b[0;34m(\u001b[0m\u001b[0;34m{\u001b[0m\u001b[0;34m'hotel'\u001b[0m\u001b[0;34m:\u001b[0m\u001b[0mhotel_list\u001b[0m\u001b[0;34m,\u001b[0m \u001b[0;34m'rating'\u001b[0m\u001b[0;34m:\u001b[0m\u001b[0mrating_list\u001b[0m\u001b[0;34m,\u001b[0m \u001b[0;34m'room'\u001b[0m\u001b[0;34m:\u001b[0m\u001b[0mroom_list\u001b[0m\u001b[0;34m,\u001b[0m \u001b[0;34m'url'\u001b[0m\u001b[0;34m:\u001b[0m\u001b[0murl_list\u001b[0m\u001b[0;34m,\u001b[0m \u001b[0;34m'price(won)'\u001b[0m\u001b[0;34m:\u001b[0m\u001b[0mprice_list\u001b[0m\u001b[0;34m}\u001b[0m\u001b[0;34m)\u001b[0m\u001b[0;34m\u001b[0m\u001b[0;34m\u001b[0m\u001b[0m\n\u001b[0m\u001b[1;32m      3\u001b[0m \u001b[0mdf\u001b[0m\u001b[0;34m\u001b[0m\u001b[0;34m\u001b[0m\u001b[0m\n",
      "\u001b[0;32m/opt/anaconda3/lib/python3.8/site-packages/pandas/core/frame.py\u001b[0m in \u001b[0;36m__init__\u001b[0;34m(self, data, index, columns, dtype, copy)\u001b[0m\n\u001b[1;32m    527\u001b[0m \u001b[0;34m\u001b[0m\u001b[0m\n\u001b[1;32m    528\u001b[0m         \u001b[0;32melif\u001b[0m \u001b[0misinstance\u001b[0m\u001b[0;34m(\u001b[0m\u001b[0mdata\u001b[0m\u001b[0;34m,\u001b[0m \u001b[0mdict\u001b[0m\u001b[0;34m)\u001b[0m\u001b[0;34m:\u001b[0m\u001b[0;34m\u001b[0m\u001b[0;34m\u001b[0m\u001b[0m\n\u001b[0;32m--> 529\u001b[0;31m             \u001b[0mmgr\u001b[0m \u001b[0;34m=\u001b[0m \u001b[0minit_dict\u001b[0m\u001b[0;34m(\u001b[0m\u001b[0mdata\u001b[0m\u001b[0;34m,\u001b[0m \u001b[0mindex\u001b[0m\u001b[0;34m,\u001b[0m \u001b[0mcolumns\u001b[0m\u001b[0;34m,\u001b[0m \u001b[0mdtype\u001b[0m\u001b[0;34m=\u001b[0m\u001b[0mdtype\u001b[0m\u001b[0;34m)\u001b[0m\u001b[0;34m\u001b[0m\u001b[0;34m\u001b[0m\u001b[0m\n\u001b[0m\u001b[1;32m    530\u001b[0m         \u001b[0;32melif\u001b[0m \u001b[0misinstance\u001b[0m\u001b[0;34m(\u001b[0m\u001b[0mdata\u001b[0m\u001b[0;34m,\u001b[0m \u001b[0mma\u001b[0m\u001b[0;34m.\u001b[0m\u001b[0mMaskedArray\u001b[0m\u001b[0;34m)\u001b[0m\u001b[0;34m:\u001b[0m\u001b[0;34m\u001b[0m\u001b[0;34m\u001b[0m\u001b[0m\n\u001b[1;32m    531\u001b[0m             \u001b[0;32mimport\u001b[0m \u001b[0mnumpy\u001b[0m\u001b[0;34m.\u001b[0m\u001b[0mma\u001b[0m\u001b[0;34m.\u001b[0m\u001b[0mmrecords\u001b[0m \u001b[0;32mas\u001b[0m \u001b[0mmrecords\u001b[0m\u001b[0;34m\u001b[0m\u001b[0;34m\u001b[0m\u001b[0m\n",
      "\u001b[0;32m/opt/anaconda3/lib/python3.8/site-packages/pandas/core/internals/construction.py\u001b[0m in \u001b[0;36minit_dict\u001b[0;34m(data, index, columns, dtype)\u001b[0m\n\u001b[1;32m    285\u001b[0m             \u001b[0marr\u001b[0m \u001b[0;32mif\u001b[0m \u001b[0;32mnot\u001b[0m \u001b[0mis_datetime64tz_dtype\u001b[0m\u001b[0;34m(\u001b[0m\u001b[0marr\u001b[0m\u001b[0;34m)\u001b[0m \u001b[0;32melse\u001b[0m \u001b[0marr\u001b[0m\u001b[0;34m.\u001b[0m\u001b[0mcopy\u001b[0m\u001b[0;34m(\u001b[0m\u001b[0;34m)\u001b[0m \u001b[0;32mfor\u001b[0m \u001b[0marr\u001b[0m \u001b[0;32min\u001b[0m \u001b[0marrays\u001b[0m\u001b[0;34m\u001b[0m\u001b[0;34m\u001b[0m\u001b[0m\n\u001b[1;32m    286\u001b[0m         ]\n\u001b[0;32m--> 287\u001b[0;31m     \u001b[0;32mreturn\u001b[0m \u001b[0marrays_to_mgr\u001b[0m\u001b[0;34m(\u001b[0m\u001b[0marrays\u001b[0m\u001b[0;34m,\u001b[0m \u001b[0mdata_names\u001b[0m\u001b[0;34m,\u001b[0m \u001b[0mindex\u001b[0m\u001b[0;34m,\u001b[0m \u001b[0mcolumns\u001b[0m\u001b[0;34m,\u001b[0m \u001b[0mdtype\u001b[0m\u001b[0;34m=\u001b[0m\u001b[0mdtype\u001b[0m\u001b[0;34m)\u001b[0m\u001b[0;34m\u001b[0m\u001b[0;34m\u001b[0m\u001b[0m\n\u001b[0m\u001b[1;32m    288\u001b[0m \u001b[0;34m\u001b[0m\u001b[0m\n\u001b[1;32m    289\u001b[0m \u001b[0;34m\u001b[0m\u001b[0m\n",
      "\u001b[0;32m/opt/anaconda3/lib/python3.8/site-packages/pandas/core/internals/construction.py\u001b[0m in \u001b[0;36marrays_to_mgr\u001b[0;34m(arrays, arr_names, index, columns, dtype, verify_integrity)\u001b[0m\n\u001b[1;32m     78\u001b[0m         \u001b[0;31m# figure out the index, if necessary\u001b[0m\u001b[0;34m\u001b[0m\u001b[0;34m\u001b[0m\u001b[0;34m\u001b[0m\u001b[0m\n\u001b[1;32m     79\u001b[0m         \u001b[0;32mif\u001b[0m \u001b[0mindex\u001b[0m \u001b[0;32mis\u001b[0m \u001b[0;32mNone\u001b[0m\u001b[0;34m:\u001b[0m\u001b[0;34m\u001b[0m\u001b[0;34m\u001b[0m\u001b[0m\n\u001b[0;32m---> 80\u001b[0;31m             \u001b[0mindex\u001b[0m \u001b[0;34m=\u001b[0m \u001b[0mextract_index\u001b[0m\u001b[0;34m(\u001b[0m\u001b[0marrays\u001b[0m\u001b[0;34m)\u001b[0m\u001b[0;34m\u001b[0m\u001b[0;34m\u001b[0m\u001b[0m\n\u001b[0m\u001b[1;32m     81\u001b[0m         \u001b[0;32melse\u001b[0m\u001b[0;34m:\u001b[0m\u001b[0;34m\u001b[0m\u001b[0;34m\u001b[0m\u001b[0m\n\u001b[1;32m     82\u001b[0m             \u001b[0mindex\u001b[0m \u001b[0;34m=\u001b[0m \u001b[0mensure_index\u001b[0m\u001b[0;34m(\u001b[0m\u001b[0mindex\u001b[0m\u001b[0;34m)\u001b[0m\u001b[0;34m\u001b[0m\u001b[0;34m\u001b[0m\u001b[0m\n",
      "\u001b[0;32m/opt/anaconda3/lib/python3.8/site-packages/pandas/core/internals/construction.py\u001b[0m in \u001b[0;36mextract_index\u001b[0;34m(data)\u001b[0m\n\u001b[1;32m    399\u001b[0m             \u001b[0mlengths\u001b[0m \u001b[0;34m=\u001b[0m \u001b[0mlist\u001b[0m\u001b[0;34m(\u001b[0m\u001b[0mset\u001b[0m\u001b[0;34m(\u001b[0m\u001b[0mraw_lengths\u001b[0m\u001b[0;34m)\u001b[0m\u001b[0;34m)\u001b[0m\u001b[0;34m\u001b[0m\u001b[0;34m\u001b[0m\u001b[0m\n\u001b[1;32m    400\u001b[0m             \u001b[0;32mif\u001b[0m \u001b[0mlen\u001b[0m\u001b[0;34m(\u001b[0m\u001b[0mlengths\u001b[0m\u001b[0;34m)\u001b[0m \u001b[0;34m>\u001b[0m \u001b[0;36m1\u001b[0m\u001b[0;34m:\u001b[0m\u001b[0;34m\u001b[0m\u001b[0;34m\u001b[0m\u001b[0m\n\u001b[0;32m--> 401\u001b[0;31m                 \u001b[0;32mraise\u001b[0m \u001b[0mValueError\u001b[0m\u001b[0;34m(\u001b[0m\u001b[0;34m\"arrays must all be same length\"\u001b[0m\u001b[0;34m)\u001b[0m\u001b[0;34m\u001b[0m\u001b[0;34m\u001b[0m\u001b[0m\n\u001b[0m\u001b[1;32m    402\u001b[0m \u001b[0;34m\u001b[0m\u001b[0m\n\u001b[1;32m    403\u001b[0m             \u001b[0;32mif\u001b[0m \u001b[0mhave_dicts\u001b[0m\u001b[0;34m:\u001b[0m\u001b[0;34m\u001b[0m\u001b[0;34m\u001b[0m\u001b[0m\n",
      "\u001b[0;31mValueError\u001b[0m: arrays must all be same length"
     ]
    }
   ],
   "source": [
    "# 데이터 프레임으로 만들기\n",
    "df = pd.DataFrame({'hotel':hotel_list, 'rating':rating_list, 'room':room_list, 'url':url_list, 'price(won)':price_list})\n",
    "df"
   ]
  },
  {
   "cell_type": "code",
   "execution_count": 110,
   "metadata": {},
   "outputs": [],
   "source": [
    "# 엑셀로 저장하기\n",
    "df.to_excel(\"booking_com.xlsx\", encoding='utf-8-sig')"
   ]
  },
  {
   "cell_type": "code",
   "execution_count": null,
   "metadata": {},
   "outputs": [],
   "source": []
  },
  {
   "cell_type": "code",
   "execution_count": null,
   "metadata": {},
   "outputs": [],
   "source": []
  },
  {
   "cell_type": "code",
   "execution_count": null,
   "metadata": {},
   "outputs": [],
   "source": []
  },
  {
   "cell_type": "code",
   "execution_count": null,
   "metadata": {},
   "outputs": [],
   "source": []
  },
  {
   "cell_type": "code",
   "execution_count": null,
   "metadata": {},
   "outputs": [],
   "source": []
  },
  {
   "cell_type": "markdown",
   "metadata": {},
   "source": [
    "# (참고 코드)"
   ]
  },
  {
   "cell_type": "code",
   "execution_count": 83,
   "metadata": {
    "scrolled": true
   },
   "outputs": [
    {
     "name": "stdout",
     "output_type": "stream",
     "text": [
      "25\n"
     ]
    },
    {
     "data": {
      "text/plain": [
       "['신신호텔 서귀포',\n",
       " '롯데호텔 제주',\n",
       " '랜딩관 제주신화월드 호텔앤리조트',\n",
       " '서머셋 제주신화월드',\n",
       " '메종 글래드 제주',\n",
       " '신화관 제주신화월드 호텔 앤 리조트',\n",
       " '메리어트관 제주신화월드 호텔앤리조트',\n",
       " '그랜드 하얏트 제주',\n",
       " '롯데시티호텔 제주',\n",
       " '브라운 스위트 호텔 & 리조트',\n",
       " '호텔 휘슬락',\n",
       " '라마다 프라자 호텔',\n",
       " '그라벨 호텔 제주',\n",
       " '호텔난타 제주',\n",
       " '코업시티호텔 하버뷰',\n",
       " '휘닉스 제주 섭지코지',\n",
       " '해비치 호텔 & 리조트',\n",
       " '골든 데이지 호텔',\n",
       " '퍼스트70 호텔',\n",
       " '그랜드 조선 제주',\n",
       " '더 그랜드 섬오름',\n",
       " '코업시티호텔 성산',\n",
       " '제주 센트럴 시티호텔',\n",
       " '위 호텔 제주',\n",
       " '신신호텔 제주공항']"
      ]
     },
     "execution_count": 83,
     "metadata": {},
     "output_type": "execute_result"
    }
   ],
   "source": [
    "# 호텔 이름\n",
    "hotel_raw = driver.find_elements_by_css_selector('.sr-hotel__name')\n",
    "hotel_list = []\n",
    "for hotel in hotel_raw:\n",
    "    hotel = hotel.text\n",
    "    hotel_list.append(hotel)\n",
    "    \n",
    "# hotel_list = [ x for x in hotel_list if not x =='']\n",
    "print(len(hotel_list))\n",
    "hotel_list"
   ]
  },
  {
   "cell_type": "code",
   "execution_count": 84,
   "metadata": {},
   "outputs": [
    {
     "name": "stdout",
     "output_type": "stream",
     "text": [
      "25\n"
     ]
    },
    {
     "data": {
      "text/plain": [
       "['https://www.booking.com/hotel/kr/sinsinhotel-seogwipo.ko.html?aid=397648&label=nav105jc-1FCAEoggI46AdIM1gDaH2IAQGYARe4AQfIAQzYAQHoAQH4AQyIAgGoAgO4Aov74IQGwAIB0gIkN2VjZDJjNjktMjAxZS00NjBlLTg3ZWQtY2JhMjY2MDljMmM42AIG4AIB&sid=8511f825a3887039737ca4f646a464e1&all_sr_blocks=696587412_287464310_1_2_0&checkin=2021-05-15&checkout=2021-05-16&dest_id=4170&dest_type=region&group_adults=1&group_children=0&hapos=1&highlighted_blocks=696587412_287464310_1_2_0&hpos=1&no_rooms=1&req_adults=1&req_children=0&room1=A&sr_order=popularity&sr_pri_blocks=696587412_287464310_1_2_0__4393400&srepoch=1620707855&srpvid=1da1208719b0009d&ucfs=1&from=searchresults&tpi_r=2#hotelTmpl',\n",
       " 'https://www.booking.com/hotel/kr/lotte-jeju.ko.html?aid=397648&label=nav105jc-1FCAEoggI46AdIM1gDaH2IAQGYARe4AQfIAQzYAQHoAQH4AQyIAgGoAgO4Aov74IQGwAIB0gIkN2VjZDJjNjktMjAxZS00NjBlLTg3ZWQtY2JhMjY2MDljMmM42AIG4AIB&sid=8511f825a3887039737ca4f646a464e1&all_sr_blocks=23513931_235897805_2_42_0&checkin=2021-05-15&checkout=2021-05-16&dest_id=4170&dest_type=region&group_adults=1&group_children=0&hapos=2&highlighted_blocks=23513931_235897805_2_42_0&hpos=2&no_rooms=1&req_adults=1&req_children=0&room1=A&sr_order=popularity&sr_pri_blocks=23513931_235897805_2_42_0__51455199&srepoch=1620707855&srpvid=1da1208719b0009d&ucfs=1&from=searchresults&tpi_r=2#hotelTmpl',\n",
       " 'https://www.booking.com/hotel/kr/jeju-shinhwa-world-landing-resort.ko.html?aid=397648&label=nav105jc-1FCAEoggI46AdIM1gDaH2IAQGYARe4AQfIAQzYAQHoAQH4AQyIAgGoAgO4Aov74IQGwAIB0gIkN2VjZDJjNjktMjAxZS00NjBlLTg3ZWQtY2JhMjY2MDljMmM42AIG4AIB&sid=8511f825a3887039737ca4f646a464e1&all_sr_blocks=270947501_255155516_2_2_0&checkin=2021-05-15&checkout=2021-05-16&dest_id=4170&dest_type=region&group_adults=1&group_children=0&hapos=3&highlighted_blocks=270947501_255155516_2_2_0&hpos=3&no_rooms=1&req_adults=1&req_children=0&room1=A&sr_order=popularity&sr_pri_blocks=270947501_255155516_2_2_0__21999999&srepoch=1620707855&srpvid=1da1208719b0009d&ucfs=1&from=searchresults&tpi_r=1#hotelTmpl',\n",
       " 'https://www.booking.com/hotel/kr/somerset-jeju-shinwha-world.ko.html?aid=397648&label=nav105jc-1FCAEoggI46AdIM1gDaH2IAQGYARe4AQfIAQzYAQHoAQH4AQyIAgGoAgO4Aov74IQGwAIB0gIkN2VjZDJjNjktMjAxZS00NjBlLTg3ZWQtY2JhMjY2MDljMmM42AIG4AIB&sid=8511f825a3887039737ca4f646a464e1&all_sr_blocks=225454431_255155676_4_2_0&checkin=2021-05-15&checkout=2021-05-16&dest_id=4170&dest_type=region&group_adults=1&group_children=0&hapos=4&highlighted_blocks=225454431_255155676_4_2_0&hpos=4&no_rooms=1&req_adults=1&req_children=0&room1=A&sr_order=popularity&sr_pri_blocks=225454431_255155676_4_2_0__66000000&srepoch=1620707855&srpvid=1da1208719b0009d&ucfs=1&from=searchresults&tpi_r=2#hotelTmpl',\n",
       " 'https://www.booking.com/hotel/kr/jeju-grand.ko.html?aid=397648&label=nav105jc-1FCAEoggI46AdIM1gDaH2IAQGYARe4AQfIAQzYAQHoAQH4AQyIAgGoAgO4Aov74IQGwAIB0gIkN2VjZDJjNjktMjAxZS00NjBlLTg3ZWQtY2JhMjY2MDljMmM42AIG4AIB&sid=8511f825a3887039737ca4f646a464e1&all_sr_blocks=55924901_202522112_0_2_0&checkin=2021-05-15&checkout=2021-05-16&dest_id=4170&dest_type=region&group_adults=1&group_children=0&hapos=5&highlighted_blocks=55924901_202522112_0_2_0&hpos=5&no_rooms=1&req_adults=1&req_children=0&room1=A&sr_order=popularity&sr_pri_blocks=55924901_202522112_0_2_0__17549999&srepoch=1620707855&srpvid=1da1208719b0009d&ucfs=1&from=searchresults&tpi_r=2#hotelTmpl',\n",
       " 'https://www.booking.com/hotel/kr/sinhwagwan-jejusinhwaweoldeu-aen-rijoteu.ko.html?aid=397648&label=nav105jc-1FCAEoggI46AdIM1gDaH2IAQGYARe4AQfIAQzYAQHoAQH4AQyIAgGoAgO4Aov74IQGwAIB0gIkN2VjZDJjNjktMjAxZS00NjBlLTg3ZWQtY2JhMjY2MDljMmM42AIG4AIB&sid=8511f825a3887039737ca4f646a464e1&all_sr_blocks=387585702_255155444_0_2_0&checkin=2021-05-15&checkout=2021-05-16&dest_id=4170&dest_type=region&group_adults=1&group_children=0&hapos=6&highlighted_blocks=387585702_255155444_0_2_0&hpos=6&no_rooms=1&req_adults=1&req_children=0&room1=A&sr_order=popularity&sr_pri_blocks=387585702_255155444_0_2_0__30800000&srepoch=1620707855&srpvid=1da1208719b0009d&ucfs=1&from=searchresults&tpi_r=1#hotelTmpl',\n",
       " 'https://www.booking.com/hotel/kr/jeju-shinhwa-world-marriott-resort.ko.html?aid=397648&label=nav105jc-1FCAEoggI46AdIM1gDaH2IAQGYARe4AQfIAQzYAQHoAQH4AQyIAgGoAgO4Aov74IQGwAIB0gIkN2VjZDJjNjktMjAxZS00NjBlLTg3ZWQtY2JhMjY2MDljMmM42AIG4AIB&sid=8511f825a3887039737ca4f646a464e1&all_sr_blocks=287497021_256375466_2_2_0&checkin=2021-05-15&checkout=2021-05-16&dest_id=4170&dest_type=region&group_adults=1&group_children=0&hapos=7&highlighted_blocks=287497021_256375466_2_2_0&hpos=7&no_rooms=1&req_adults=1&req_children=0&room1=A&sr_order=popularity&sr_pri_blocks=287497021_256375466_2_2_0__33000000&srepoch=1620707855&srpvid=1da1208719b0009d&ucfs=1&from=searchresults&tpi_r=2#hotelTmpl',\n",
       " 'https://www.booking.com/hotel/kr/grand-hyatt-jeju.ko.html?aid=397648&label=nav105jc-1FCAEoggI46AdIM1gDaH2IAQGYARe4AQfIAQzYAQHoAQH4AQyIAgGoAgO4Aov74IQGwAIB0gIkN2VjZDJjNjktMjAxZS00NjBlLTg3ZWQtY2JhMjY2MDljMmM42AIG4AIB&sid=8511f825a3887039737ca4f646a464e1&all_sr_blocks=678232202_288466178_2_2_0&checkin=2021-05-15&checkout=2021-05-16&dest_id=4170&dest_type=region&group_adults=1&group_children=0&hapos=8&highlighted_blocks=678232202_288466178_2_2_0&hpos=8&no_rooms=1&req_adults=1&req_children=0&room1=A&sr_order=popularity&sr_pri_blocks=678232202_288466178_2_2_0__55242000&srepoch=1620707855&srpvid=1da1208719b0009d&ucfs=1&from=searchresults&tpi_r=2#hotelTmpl',\n",
       " 'https://www.booking.com/hotel/kr/lotte-city-jeju.ko.html?aid=397648&label=nav105jc-1FCAEoggI46AdIM1gDaH2IAQGYARe4AQfIAQzYAQHoAQH4AQyIAgGoAgO4Aov74IQGwAIB0gIkN2VjZDJjNjktMjAxZS00NjBlLTg3ZWQtY2JhMjY2MDljMmM42AIG4AIB&sid=8511f825a3887039737ca4f646a464e1&all_sr_blocks=89448567_134358957_0_42_0&checkin=2021-05-15&checkout=2021-05-16&dest_id=4170&dest_type=region&group_adults=1&group_children=0&hapos=9&highlighted_blocks=89448567_134358957_0_42_0&hpos=9&no_rooms=1&req_adults=1&req_children=0&room1=A&sr_order=popularity&sr_pri_blocks=89448567_134358957_0_42_0__19800000&srepoch=1620707855&srpvid=1da1208719b0009d&ucfs=1&from=searchresults&tpi_r=2#hotelTmpl',\n",
       " 'https://www.booking.com/hotel/kr/the-island-marina-resort.ko.html?aid=397648&label=nav105jc-1FCAEoggI46AdIM1gDaH2IAQGYARe4AQfIAQzYAQHoAQH4AQyIAgGoAgO4Aov74IQGwAIB0gIkN2VjZDJjNjktMjAxZS00NjBlLTg3ZWQtY2JhMjY2MDljMmM42AIG4AIB&sid=8511f825a3887039737ca4f646a464e1&all_sr_blocks=135791801_266374439_2_0_0&checkin=2021-05-15&checkout=2021-05-16&dest_id=4170&dest_type=region&group_adults=1&group_children=0&hapos=10&highlighted_blocks=135791801_266374439_2_0_0&hpos=10&no_rooms=1&req_adults=1&req_children=0&room1=A&sr_order=popularity&sr_pri_blocks=135791801_266374439_2_0_0__4570999&srepoch=1620707855&srpvid=1da1208719b0009d&ucfs=1&from=searchresults&tpi_r=2#hotelTmpl',\n",
       " 'https://www.booking.com/hotel/kr/whistle.ko.html?aid=397648&label=nav105jc-1FCAEoggI46AdIM1gDaH2IAQGYARe4AQfIAQzYAQHoAQH4AQyIAgGoAgO4Aov74IQGwAIB0gIkN2VjZDJjNjktMjAxZS00NjBlLTg3ZWQtY2JhMjY2MDljMmM42AIG4AIB&sid=8511f825a3887039737ca4f646a464e1&all_sr_blocks=214436122_101506820_2_2_0&checkin=2021-05-15&checkout=2021-05-16&dest_id=4170&dest_type=region&group_adults=1&group_children=0&hapos=11&highlighted_blocks=214436122_101506820_2_2_0&hpos=11&no_rooms=1&req_adults=1&req_children=0&room1=A&sr_order=popularity&sr_pri_blocks=214436122_101506820_2_2_0__9499999&srepoch=1620707855&srpvid=1da1208719b0009d&ucfs=1&from=searchresults&tpi_r=1#hotelTmpl',\n",
       " 'https://www.booking.com/hotel/kr/ramada-plaza-jeju.ko.html?aid=397648&label=nav105jc-1FCAEoggI46AdIM1gDaH2IAQGYARe4AQfIAQzYAQHoAQH4AQyIAgGoAgO4Aov74IQGwAIB0gIkN2VjZDJjNjktMjAxZS00NjBlLTg3ZWQtY2JhMjY2MDljMmM42AIG4AIB&sid=8511f825a3887039737ca4f646a464e1&all_sr_blocks=134218050_246075633_3_2_0&checkin=2021-05-15&checkout=2021-05-16&dest_id=4170&dest_type=region&group_adults=1&group_children=0&hapos=12&highlighted_blocks=134218050_246075633_3_2_0&hpos=12&no_rooms=1&req_adults=1&req_children=0&room1=A&sr_order=popularity&sr_pri_blocks=134218050_246075633_3_2_0__17499999&srepoch=1620707855&srpvid=1da1208719b0009d&ucfs=1&from=searchresults&tpi_r=2#hotelTmpl',\n",
       " 'https://www.booking.com/hotel/kr/grabel-jeju.ko.html?aid=397648&label=nav105jc-1FCAEoggI46AdIM1gDaH2IAQGYARe4AQfIAQzYAQHoAQH4AQyIAgGoAgO4Aov74IQGwAIB0gIkN2VjZDJjNjktMjAxZS00NjBlLTg3ZWQtY2JhMjY2MDljMmM42AIG4AIB&sid=8511f825a3887039737ca4f646a464e1&all_sr_blocks=115109704_263107883_2_2_0&checkin=2021-05-15&checkout=2021-05-16&dest_id=4170&dest_type=region&group_adults=1&group_children=0&hapos=13&highlighted_blocks=115109704_263107883_2_2_0&hpos=13&no_rooms=1&req_adults=1&req_children=0&room1=A&sr_order=popularity&sr_pri_blocks=115109704_263107883_2_2_0__13000000&srepoch=1620707855&srpvid=1da1208719b0009d&ucfs=1&from=searchresults&tpi_r=2#hotelTmpl',\n",
       " 'https://www.booking.com/hotel/kr/nanta-jeju.ko.html?aid=397648&label=nav105jc-1FCAEoggI46AdIM1gDaH2IAQGYARe4AQfIAQzYAQHoAQH4AQyIAgGoAgO4Aov74IQGwAIB0gIkN2VjZDJjNjktMjAxZS00NjBlLTg3ZWQtY2JhMjY2MDljMmM42AIG4AIB&sid=8511f825a3887039737ca4f646a464e1&all_sr_blocks=213857402_204968013_2_2_0&checkin=2021-05-15&checkout=2021-05-16&dest_id=4170&dest_type=region&group_adults=1&group_children=0&hapos=14&highlighted_blocks=213857402_204968013_2_2_0&hpos=14&no_rooms=1&req_adults=1&req_children=0&room1=A&sr_order=popularity&sr_pri_blocks=213857402_204968013_2_2_0__8910000&srepoch=1620707855&srpvid=1da1208719b0009d&ucfs=1&from=searchresults&tpi_r=2#hotelTmpl',\n",
       " 'https://www.booking.com/hotel/kr/koeobsitihotel-habeobyu-seogwipo.ko.html?aid=397648&label=nav105jc-1FCAEoggI46AdIM1gDaH2IAQGYARe4AQfIAQzYAQHoAQH4AQyIAgGoAgO4Aov74IQGwAIB0gIkN2VjZDJjNjktMjAxZS00NjBlLTg3ZWQtY2JhMjY2MDljMmM42AIG4AIB&sid=8511f825a3887039737ca4f646a464e1&all_sr_blocks=468881401_270632576_2_2_0&checkin=2021-05-15&checkout=2021-05-16&dest_id=4170&dest_type=region&group_adults=1&group_children=0&hapos=15&highlighted_blocks=468881401_270632576_2_2_0&hpos=15&no_rooms=1&req_adults=1&req_children=0&room1=A&sr_order=popularity&sr_pri_blocks=468881401_270632576_2_2_0__5040000&srepoch=1620707855&srpvid=1da1208719b0009d&ucfs=1&from=searchresults&tpi_r=1#hotelTmpl',\n",
       " 'https://www.booking.com/hotel/kr/phoenix-island.ko.html?aid=397648&label=nav105jc-1FCAEoggI46AdIM1gDaH2IAQGYARe4AQfIAQzYAQHoAQH4AQyIAgGoAgO4Aov74IQGwAIB0gIkN2VjZDJjNjktMjAxZS00NjBlLTg3ZWQtY2JhMjY2MDljMmM42AIG4AIB&sid=8511f825a3887039737ca4f646a464e1&all_sr_blocks=100923659_243381262_4_2_0&checkin=2021-05-15&checkout=2021-05-16&dest_id=4170&dest_type=region&group_adults=1&group_children=0&hapos=16&highlighted_blocks=100923659_243381262_4_2_0&hpos=16&no_rooms=1&req_adults=1&req_children=0&room1=A&sr_order=popularity&sr_pri_blocks=100923659_243381262_4_2_0__45000000&srepoch=1620707855&srpvid=1da1208719b0009d&ucfs=1&from=searchresults&tpi_r=2#hotelTmpl',\n",
       " 'https://www.booking.com/hotel/kr/haevichi.ko.html?aid=397648&label=nav105jc-1FCAEoggI46AdIM1gDaH2IAQGYARe4AQfIAQzYAQHoAQH4AQyIAgGoAgO4Aov74IQGwAIB0gIkN2VjZDJjNjktMjAxZS00NjBlLTg3ZWQtY2JhMjY2MDljMmM42AIG4AIB&sid=8511f825a3887039737ca4f646a464e1&all_sr_blocks=54385040_272860279_4_0_0&checkin=2021-05-15&checkout=2021-05-16&dest_id=4170&dest_type=region&group_adults=1&group_children=0&hapos=17&highlighted_blocks=54385040_272860279_4_0_0&hpos=17&no_rooms=1&req_adults=1&req_children=0&room1=A&sr_order=popularity&sr_pri_blocks=54385040_272860279_4_0_0__58080000&srepoch=1620707855&srpvid=1da1208719b0009d&ucfs=1&from=searchresults&tpi_r=2#hotelTmpl',\n",
       " 'https://www.booking.com/hotel/kr/days-jeju-seogwipo-ocean.ko.html?aid=397648&label=nav105jc-1FCAEoggI46AdIM1gDaH2IAQGYARe4AQfIAQzYAQHoAQH4AQyIAgGoAgO4Aov74IQGwAIB0gIkN2VjZDJjNjktMjAxZS00NjBlLTg3ZWQtY2JhMjY2MDljMmM42AIG4AIB&sid=8511f825a3887039737ca4f646a464e1&all_sr_blocks=195769339_246072784_0_0_0&checkin=2021-05-15&checkout=2021-05-16&dest_id=4170&dest_type=region&group_adults=1&group_children=0&hapos=18&highlighted_blocks=195769339_246072784_0_0_0&hpos=18&no_rooms=1&req_adults=1&req_children=0&room1=A&sr_order=popularity&sr_pri_blocks=195769339_246072784_0_0_0__5460000&srepoch=1620707855&srpvid=1da1208719b0009d&ucfs=1&from=searchresults&tpi_r=1#hotelTmpl',\n",
       " 'https://www.booking.com/hotel/kr/the-first70.ko.html?aid=397648&label=nav105jc-1FCAEoggI46AdIM1gDaH2IAQGYARe4AQfIAQzYAQHoAQH4AQyIAgGoAgO4Aov74IQGwAIB0gIkN2VjZDJjNjktMjAxZS00NjBlLTg3ZWQtY2JhMjY2MDljMmM42AIG4AIB&sid=8511f825a3887039737ca4f646a464e1&all_sr_blocks=276544102_295225053_2_2_0&checkin=2021-05-15&checkout=2021-05-16&dest_id=4170&dest_type=region&group_adults=1&group_children=0&hapos=19&highlighted_blocks=276544102_295225053_2_2_0&hpos=19&no_rooms=1&req_adults=1&req_children=0&room1=A&sr_order=popularity&sr_pri_blocks=276544102_295225053_2_2_0__6299999&srepoch=1620707855&srpvid=1da1208719b0009d&ucfs=1&from=searchresults&tpi_r=2#hotelTmpl',\n",
       " 'https://www.booking.com/hotel/kr/grand-josun-jeju.ko.html?aid=397648&label=nav105jc-1FCAEoggI46AdIM1gDaH2IAQGYARe4AQfIAQzYAQHoAQH4AQyIAgGoAgO4Aov74IQGwAIB0gIkN2VjZDJjNjktMjAxZS00NjBlLTg3ZWQtY2JhMjY2MDljMmM42AIG4AIB&sid=8511f825a3887039737ca4f646a464e1&all_sr_blocks=689297505_279741395_2_2_0&checkin=2021-05-15&checkout=2021-05-16&dest_id=4170&dest_type=region&group_adults=1&group_children=0&hapos=20&highlighted_blocks=689297505_279741395_2_2_0&hpos=20&no_rooms=1&req_adults=1&req_children=0&room1=A&sr_order=popularity&sr_pri_blocks=689297505_279741395_2_2_0__62700000&srepoch=1620707855&srpvid=1da1208719b0009d&ucfs=1&from=searchresults&tpi_r=2#hotelTmpl',\n",
       " 'https://www.booking.com/hotel/kr/sumorum.ko.html?aid=397648&label=nav105jc-1FCAEoggI46AdIM1gDaH2IAQGYARe4AQfIAQzYAQHoAQH4AQyIAgGoAgO4Aov74IQGwAIB0gIkN2VjZDJjNjktMjAxZS00NjBlLTg3ZWQtY2JhMjY2MDljMmM42AIG4AIB&sid=8511f825a3887039737ca4f646a464e1&all_sr_blocks=81332630_147195036_2_2_0&checkin=2021-05-15&checkout=2021-05-16&dest_id=4170&dest_type=region&group_adults=1&group_children=0&hapos=21&highlighted_blocks=81332630_147195036_2_2_0&hpos=21&no_rooms=1&req_adults=1&req_children=0&room1=A&sr_order=popularity&sr_pri_blocks=81332630_147195036_2_2_0__19360000&srepoch=1620707855&srpvid=1da1208719b0009d&ucfs=1&from=searchresults&tpi_r=2#hotelTmpl',\n",
       " 'https://www.booking.com/hotel/kr/coopcityhotel-seongsan.ko.html?aid=397648&label=nav105jc-1FCAEoggI46AdIM1gDaH2IAQGYARe4AQfIAQzYAQHoAQH4AQyIAgGoAgO4Aov74IQGwAIB0gIkN2VjZDJjNjktMjAxZS00NjBlLTg3ZWQtY2JhMjY2MDljMmM42AIG4AIB&sid=8511f825a3887039737ca4f646a464e1&all_sr_blocks=208856007_235296645_2_0_0&checkin=2021-05-15&checkout=2021-05-16&dest_id=4170&dest_type=region&group_adults=1&group_children=0&hapos=22&highlighted_blocks=208856007_235296645_2_0_0&hpos=22&no_rooms=1&req_adults=1&req_children=0&room1=A&sr_order=popularity&sr_pri_blocks=208856007_235296645_2_0_0__7899999&srepoch=1620707855&srpvid=1da1208719b0009d&ucfs=1&from=searchresults&tpi_r=1#hotelTmpl',\n",
       " 'https://www.booking.com/hotel/kr/jeju-central-city.ko.html?aid=397648&label=nav105jc-1FCAEoggI46AdIM1gDaH2IAQGYARe4AQfIAQzYAQHoAQH4AQyIAgGoAgO4Aov74IQGwAIB0gIkN2VjZDJjNjktMjAxZS00NjBlLTg3ZWQtY2JhMjY2MDljMmM42AIG4AIB&sid=8511f825a3887039737ca4f646a464e1&all_sr_blocks=173986801_264928121_2_0_0&checkin=2021-05-15&checkout=2021-05-16&dest_id=4170&dest_type=region&group_adults=1&group_children=0&hapos=23&highlighted_blocks=173986801_264928121_2_0_0&hpos=23&no_rooms=1&req_adults=1&req_children=0&room1=A&sr_order=popularity&sr_pri_blocks=173986801_264928121_2_0_0__6000000&srepoch=1620707855&srpvid=1da1208719b0009d&ucfs=1&from=searchresults&tpi_r=1#hotelTmpl',\n",
       " 'https://www.booking.com/hotel/kr/the-we.ko.html?aid=397648&label=nav105jc-1FCAEoggI46AdIM1gDaH2IAQGYARe4AQfIAQzYAQHoAQH4AQyIAgGoAgO4Aov74IQGwAIB0gIkN2VjZDJjNjktMjAxZS00NjBlLTg3ZWQtY2JhMjY2MDljMmM42AIG4AIB&sid=8511f825a3887039737ca4f646a464e1&all_sr_blocks=128027224_325981514_2_1_0&checkin=2021-05-15&checkout=2021-05-16&dest_id=4170&dest_type=region&group_adults=1&group_children=0&hapos=24&highlighted_blocks=128027224_325981514_2_1_0&hpos=24&no_rooms=1&req_adults=1&req_children=0&room1=A&sr_order=popularity&sr_pri_blocks=128027224_325981514_2_1_0__68200020&srepoch=1620707855&srpvid=1da1208719b0009d&ucfs=1&from=searchresults&tpi_r=1#hotelTmpl',\n",
       " 'https://www.booking.com/hotel/kr/jk-ramada-encore-jeju.ko.html?aid=397648&label=nav105jc-1FCAEoggI46AdIM1gDaH2IAQGYARe4AQfIAQzYAQHoAQH4AQyIAgGoAgO4Aov74IQGwAIB0gIkN2VjZDJjNjktMjAxZS00NjBlLTg3ZWQtY2JhMjY2MDljMmM42AIG4AIB&sid=8511f825a3887039737ca4f646a464e1&all_sr_blocks=159585512_310491176_2_0_0&checkin=2021-05-15&checkout=2021-05-16&dest_id=4170&dest_type=region&group_adults=1&group_children=0&hapos=25&highlighted_blocks=159585512_310491176_2_0_0&hpos=25&no_rooms=1&req_adults=1&req_children=0&room1=A&sr_order=popularity&sr_pri_blocks=159585512_310491176_2_0_0__5112000&srepoch=1620707855&srpvid=1da1208719b0009d&ucfs=1&from=searchresults&tpi_r=2#hotelTmpl']"
      ]
     },
     "execution_count": 84,
     "metadata": {},
     "output_type": "execute_result"
    }
   ],
   "source": [
    "# url \n",
    "url_list=[]\n",
    "url_raw = driver.find_elements_by_css_selector(\".sr_item_photo_link.sr_hotel_preview_track\")\n",
    "\n",
    "for url in url_raw:\n",
    "    url = url.get_attribute('href')\n",
    "    url_list.append(url)\n",
    "    \n",
    "# url_list = [ x for x in url_list if not x =='']\n",
    "print(len(url_list))\n",
    "url_list"
   ]
  },
  {
   "cell_type": "code",
   "execution_count": 34,
   "metadata": {},
   "outputs": [
    {
     "data": {
      "text/plain": [
       "'https://www.booking.com/hotel/kr/noblesse-jeju.ko.html?aid=397648&label=nav105jc-1FCAEoggI46AdIM1gDaH2IAQGYARe4AQfIAQzYAQHoAQH4AQyIAgGoAgO4Aov74IQGwAIB0gIkN2VjZDJjNjktMjAxZS00NjBlLTg3ZWQtY2JhMjY2MDljMmM42AIG4AIB&sid=a8969e8a7e83a3dfff572abb1c6df87a&all_sr_blocks=148081801_114185930_2_0_0&checkin=2021-05-15&checkout=2021-05-16&dest_id=4170&dest_type=region&group_adults=1&group_children=0&hapos=251&highlighted_blocks=148081801_114185930_2_0_0&hpos=1&no_rooms=1&req_adults=1&req_children=0&room1=A&sr_order=popularity&sr_pri_blocks=148081801_114185930_2_0_0__5400000&srepoch=1620699854&srpvid=b14010e61385012c&ucfs=1&from=searchresults&tpi_r=2#hotelTmpl'"
      ]
     },
     "execution_count": 34,
     "metadata": {},
     "output_type": "execute_result"
    }
   ],
   "source": [
    "url_raw = driver.find_elements_by_css_selector(\".sr_item_photo_link.sr_hotel_preview_track\")\n",
    "url_raw[0].get_attribute('href')"
   ]
  },
  {
   "cell_type": "code",
   "execution_count": 105,
   "metadata": {
    "scrolled": true
   },
   "outputs": [
    {
     "name": "stdout",
     "output_type": "stream",
     "text": [
      "25\n"
     ]
    },
    {
     "data": {
      "text/plain": [
       "['7.8',\n",
       " '9.4',\n",
       " '8.4',\n",
       " '7.1',\n",
       " '',\n",
       " '8.0',\n",
       " '7.5',\n",
       " '8.1',\n",
       " '8.5',\n",
       " '8.2',\n",
       " '7.8',\n",
       " '9.5',\n",
       " '6.8',\n",
       " '7.7',\n",
       " '8.9',\n",
       " '8.7',\n",
       " '5.8',\n",
       " '8.8',\n",
       " '9.6',\n",
       " '6.3',\n",
       " '7.6',\n",
       " '9.1',\n",
       " '8.9',\n",
       " '7.7',\n",
       " '9.2']"
      ]
     },
     "execution_count": 105,
     "metadata": {},
     "output_type": "execute_result"
    }
   ],
   "source": [
    "# 별점 가져오기\n",
    "rating_raw = driver.find_elements_by_css_selector('.sr_item_review_block')\n",
    "rating_list = []\n",
    "for rating in rating_raw:\n",
    "    if '\\n' in rating.text:\n",
    "        rating = rating.text.split('\\n')[0]\n",
    "    else:\n",
    "        rating = rating.text\n",
    "    rating_list.append(rating)\n",
    "    \n",
    "# rating_list = [ x for x in rating_list if not x =='']\n",
    "print(len(rating_list))\n",
    "rating_list"
   ]
  },
  {
   "cell_type": "code",
   "execution_count": 44,
   "metadata": {
    "scrolled": false
   },
   "outputs": [
    {
     "name": "stdout",
     "output_type": "stream",
     "text": [
      "6.6\n",
      "이용 후기 평점\n",
      "13개 이용 후기\n",
      "새창에서 열기 \n",
      "\n",
      "8.2\n",
      "매우 좋음\n",
      "160개 이용 후기\n",
      "새창에서 열기 \n",
      "\n",
      "7.2\n",
      "좋음\n",
      "13개 이용 후기\n",
      "새창에서 열기 \n",
      "\n",
      "6.9\n",
      "이용 후기 평점\n",
      "9개 이용 후기\n",
      "새창에서 열기 \n",
      "\n",
      "9.8\n",
      "강력 추천\n",
      "155개 이용 후기\n",
      "새창에서 열기\n",
      "위치 9.6\n",
      "새창에서 열기 \n",
      "\n",
      "8.0\n",
      "매우 좋음\n",
      "159개 이용 후기\n",
      "새창에서 열기 \n",
      "\n",
      "8.4\n",
      "매우 좋음\n",
      "5개 이용 후기\n",
      "새창에서 열기\n",
      "위치 9.5\n",
      "새창에서 열기 \n",
      "\n",
      "6.6\n",
      "이용 후기 평점\n",
      "51개 이용 후기\n",
      "새창에서 열기 \n",
      "\n",
      "7.8\n",
      "좋음\n",
      "31개 이용 후기\n",
      "새창에서 열기 \n",
      "\n",
      "6.7\n",
      "이용 후기 평점\n",
      "10개 이용 후기\n",
      "새창에서 열기 \n",
      "\n",
      "8.1\n",
      "매우 좋음\n",
      "92개 이용 후기\n",
      "새창에서 열기 \n",
      "\n",
      "7.9\n",
      "좋음\n",
      "12개 이용 후기\n",
      "새창에서 열기 \n",
      "\n",
      "8.6\n",
      "우수함\n",
      "28개 이용 후기\n",
      "새창에서 열기 \n",
      "\n",
      "8.1\n",
      "매우 좋음\n",
      "20개 이용 후기\n",
      "새창에서 열기 \n",
      "\n",
      "9.4\n",
      "최고\n",
      "113개 이용 후기\n",
      "새창에서 열기 \n",
      "\n",
      " \n",
      "\n",
      "7.5\n",
      "좋음\n",
      "10개 이용 후기\n",
      "새창에서 열기 \n",
      "\n",
      "8.2\n",
      "매우 좋음\n",
      "142개 이용 후기\n",
      "새창에서 열기 \n",
      "\n",
      "9.0\n",
      "최고\n",
      "10개 이용 후기\n",
      "새창에서 열기 \n",
      "\n",
      "7.8\n",
      "좋음\n",
      "14개 이용 후기\n",
      "새창에서 열기 \n",
      "\n",
      "8.1\n",
      "매우 좋음\n",
      "7개 이용 후기\n",
      "새창에서 열기 \n",
      "\n",
      "7.6\n",
      "좋음\n",
      "12개 이용 후기\n",
      "새창에서 열기 \n",
      "\n",
      "6.6\n",
      "이용 후기 평점\n",
      "45개 이용 후기\n",
      "새창에서 열기 \n",
      "\n",
      "7.6\n",
      "좋음\n",
      "7개 이용 후기\n",
      "새창에서 열기 \n",
      "\n",
      "7.3\n",
      "좋음\n",
      "22개 이용 후기\n",
      "새창에서 열기 \n",
      "\n"
     ]
    }
   ],
   "source": [
    "rating_raw = driver.find_elements_by_css_selector('.sr_item_review_block')\n",
    "for i in rating_raw:    \n",
    "    print(i.text, '\\n')"
   ]
  },
  {
   "cell_type": "code",
   "execution_count": 90,
   "metadata": {
    "scrolled": true
   },
   "outputs": [
    {
     "name": "stdout",
     "output_type": "stream",
     "text": [
      "25\n"
     ]
    },
    {
     "data": {
      "text/plain": [
       "[43934,\n",
       " 514552,\n",
       " 176411,\n",
       " 660000,\n",
       " 175500,\n",
       " 285474,\n",
       " 330000,\n",
       " 552420,\n",
       " 198000,\n",
       " 45710,\n",
       " 91626,\n",
       " 175000,\n",
       " 130000,\n",
       " 89100,\n",
       " 48599,\n",
       " 450000,\n",
       " 580800,\n",
       " 49754,\n",
       " 63000,\n",
       " 627000,\n",
       " 193600,\n",
       " 60699,\n",
       " 52692,\n",
       " 277041,\n",
       " 51120]"
      ]
     },
     "execution_count": 90,
     "metadata": {},
     "output_type": "execute_result"
    }
   ],
   "source": [
    "# 가격 가져오기\n",
    "price_raw = driver.find_elements_by_css_selector('.roomPrice.sr_discount')\n",
    "price_list = []\n",
    "for price in price_raw:\n",
    "    if price.text.split('\\n') != ['']:\n",
    "        price = price.text.split('\\n')\n",
    "        price = int([ x for x in price if x != '1박, 성인 1명'][0].split(' ')[-1].replace('₩', '').replace(',', ''))\n",
    "        price_list.append(price)\n",
    "price_list = [x for x in price_list if not x =='']\n",
    "print(len(price_list))\n",
    "price_list"
   ]
  },
  {
   "cell_type": "code",
   "execution_count": 89,
   "metadata": {},
   "outputs": [
    {
     "name": "stdout",
     "output_type": "stream",
     "text": [
      "['1박, 성인 1명', '₩97,628 ₩43,934', '기존 요금 ₩97,628 현재 요금 ₩43,934', '세금 및 기타 요금 포함', '예약 가능 옵션 보기', '새창에서 열기']\n",
      "['1박, 성인 1명', '₩514,552', '요금 ₩514,552', '세금 및 기타 요금 포함', '예약 가능 옵션 보기', '새창에서 열기']\n",
      "['']\n",
      "['₩176,411', '세금 및 기타 요금 포함']\n",
      "['1박, 성인 1명', '₩660,000', '요금 ₩660,000', '세금 및 기타 요금 포함', '예약 가능 옵션 보기', '새창에서 열기']\n",
      "['1박, 성인 1명', '₩270,164 ₩175,500', '기존 요금 ₩270,164 현재 요금 ₩175,500', '세금 및 기타 요금 포함', '예약 가능 옵션 보기', '새창에서 열기']\n",
      "['']\n",
      "['₩285,474', '세금 및 기타 요금 포함']\n",
      "['1박, 성인 1명', '₩330,000', '요금 ₩330,000', '세금 및 기타 요금 포함', '예약 가능 옵션 보기', '새창에서 열기']\n",
      "['1박, 성인 1명', '₩552,420', '요금 ₩552,420', '세금 및 기타 요금 포함', '예약 가능 옵션 보기', '새창에서 열기']\n",
      "['1박, 성인 1명', '₩198,000', '요금 ₩198,000', '세금 및 기타 요금 포함', '예약 가능 옵션 보기', '새창에서 열기']\n",
      "['1박, 성인 1명', '₩45,710', '요금 ₩45,710', '세금 및 기타 요금 포함', '예약 가능 옵션 보기', '새창에서 열기']\n",
      "['']\n",
      "['₩91,626', '세금 및 기타 요금 포함']\n",
      "['1박, 성인 1명', '₩205,787 ₩175,000', '기존 요금 ₩205,787 현재 요금 ₩175,000', '세금 및 기타 요금 포함', '예약 가능 옵션 보기', '새창에서 열기']\n",
      "['1박, 성인 1명', '₩200,121 ₩130,000', '기존 요금 ₩200,121 현재 요금 ₩130,000', '세금 및 기타 요금 포함', '예약 가능 옵션 보기', '새창에서 열기']\n",
      "['1박, 성인 1명', '₩89,100', '요금 ₩89,100', '세금 및 기타 요금 포함', '예약 가능 옵션 보기', '새창에서 열기']\n",
      "['']\n",
      "['₩48,599', '세금 및 기타 요금 포함']\n",
      "['1박, 성인 1명', '₩642,135 ₩450,000', '기존 요금 ₩642,135 현재 요금 ₩450,000', '세금 및 기타 요금 포함', '예약 가능 옵션 보기', '새창에서 열기']\n",
      "['1박, 성인 1명', '₩726,715 ₩580,800', '기존 요금 ₩726,715 현재 요금 ₩580,800', '세금 및 기타 요금 포함', '예약 가능 옵션 보기', '새창에서 열기']\n",
      "['']\n",
      "['₩49,754', '세금 및 기타 요금 포함']\n",
      "['1박, 성인 1명', '₩89,899 ₩63,000', '기존 요금 ₩89,899 현재 요금 ₩63,000', '세금 및 기타 요금 포함', '예약 가능 옵션 보기', '새창에서 열기']\n",
      "['1박, 성인 1명', '₩894,708 ₩627,000', '기존 요금 ₩894,708 현재 요금 ₩627,000', '세금 및 기타 요금 포함', '예약 가능 옵션 보기', '새창에서 열기']\n",
      "['1박, 성인 1명', '₩193,600', '요금 ₩193,600', '세금 및 기타 요금 포함', '예약 가능 옵션 보기', '새창에서 열기']\n",
      "['']\n",
      "['₩60,699', '세금 및 기타 요금 포함', '무료취소']\n",
      "['']\n",
      "['₩52,692', '세금 및 기타 요금 포함']\n",
      "['']\n",
      "['₩277,041', '세금 및 기타 요금 포함']\n",
      "['1박, 성인 1명', '₩51,120', '요금 ₩51,120', '세금 및 기타 요금 포함', '예약 가능 옵션 보기', '새창에서 열기']\n"
     ]
    }
   ],
   "source": [
    "price_raw = driver.find_elements_by_css_selector('.roomPrice.sr_discount')\n",
    "for i in price_raw:\n",
    "    print(i.text.split('\\n'))    "
   ]
  },
  {
   "cell_type": "code",
   "execution_count": null,
   "metadata": {},
   "outputs": [],
   "source": []
  },
  {
   "cell_type": "code",
   "execution_count": 91,
   "metadata": {},
   "outputs": [
    {
     "name": "stdout",
     "output_type": "stream",
     "text": [
      "25\n"
     ]
    },
    {
     "data": {
      "text/plain": [
       "['Standard Ondol Room(Single use)',\n",
       " '한실 패밀리룸',\n",
       " '수페리어 트윈',\n",
       " '패밀리 스위트룸 한실 (온돌)',\n",
       " '디럭스 트윈룸',\n",
       " '수페리어 트윈',\n",
       " '디럭스 트윈룸',\n",
       " '객실 킹침대 1개, 도시 전망',\n",
       " '스탠다드 트윈룸',\n",
       " '스탠다드 트윈룸',\n",
       " '디럭스 더블룸',\n",
       " '수페리어 트윈룸 산 전망',\n",
       " '디럭스 트윈룸 바다 전망',\n",
       " '디럭스 트윈룸',\n",
       " '마운틴 뷰 더블룸',\n",
       " '로얄룸',\n",
       " '[리조트] 스튜디오 트윈 빌리지',\n",
       " '수페리어 더블룸',\n",
       " '수페리어 트윈룸',\n",
       " '디럭스 트윈룸 산의 전망',\n",
       " '수페리어 더블룸 신관',\n",
       " '스탠다드 더블룸',\n",
       " '수페리어 더블룸',\n",
       " '트윈룸',\n",
       " '체크인 시 객실 배정 주차 불가']"
      ]
     },
     "execution_count": 91,
     "metadata": {},
     "output_type": "execute_result"
    }
   ],
   "source": [
    "# 방 정보\n",
    "room_raw = driver.find_elements_by_css_selector(\".room_link\")\n",
    "room_list = []\n",
    "for room in room_raw:\n",
    "    room_list.append(room.text.split('\\n')[0].replace(' -','').strip())\n",
    "    \n",
    "room_list = [ x for x in room_list if not x =='']\n",
    "print(len(room_list))\n",
    "room_list"
   ]
  },
  {
   "cell_type": "code",
   "execution_count": null,
   "metadata": {},
   "outputs": [],
   "source": []
  },
  {
   "cell_type": "code",
   "execution_count": null,
   "metadata": {},
   "outputs": [],
   "source": []
  },
  {
   "cell_type": "code",
   "execution_count": null,
   "metadata": {},
   "outputs": [],
   "source": []
  },
  {
   "cell_type": "code",
   "execution_count": null,
   "metadata": {},
   "outputs": [],
   "source": []
  },
  {
   "cell_type": "code",
   "execution_count": null,
   "metadata": {},
   "outputs": [],
   "source": []
  },
  {
   "cell_type": "code",
   "execution_count": null,
   "metadata": {},
   "outputs": [],
   "source": []
  },
  {
   "cell_type": "code",
   "execution_count": null,
   "metadata": {},
   "outputs": [],
   "source": []
  },
  {
   "cell_type": "code",
   "execution_count": null,
   "metadata": {},
   "outputs": [],
   "source": []
  },
  {
   "cell_type": "code",
   "execution_count": null,
   "metadata": {},
   "outputs": [],
   "source": []
  },
  {
   "cell_type": "code",
   "execution_count": null,
   "metadata": {},
   "outputs": [],
   "source": []
  },
  {
   "cell_type": "code",
   "execution_count": null,
   "metadata": {},
   "outputs": [],
   "source": []
  },
  {
   "cell_type": "code",
   "execution_count": null,
   "metadata": {},
   "outputs": [],
   "source": []
  },
  {
   "cell_type": "code",
   "execution_count": null,
   "metadata": {},
   "outputs": [],
   "source": []
  },
  {
   "cell_type": "code",
   "execution_count": null,
   "metadata": {},
   "outputs": [],
   "source": []
  }
 ],
 "metadata": {
  "kernelspec": {
   "display_name": "Python 3",
   "language": "python",
   "name": "python3"
  },
  "language_info": {
   "codemirror_mode": {
    "name": "ipython",
    "version": 3
   },
   "file_extension": ".py",
   "mimetype": "text/x-python",
   "name": "python",
   "nbconvert_exporter": "python",
   "pygments_lexer": "ipython3",
   "version": "3.8.8"
  },
  "varInspector": {
   "cols": {
    "lenName": 16,
    "lenType": 16,
    "lenVar": 40
   },
   "kernels_config": {
    "python": {
     "delete_cmd_postfix": "",
     "delete_cmd_prefix": "del ",
     "library": "var_list.py",
     "varRefreshCmd": "print(var_dic_list())"
    },
    "r": {
     "delete_cmd_postfix": ") ",
     "delete_cmd_prefix": "rm(",
     "library": "var_list.r",
     "varRefreshCmd": "cat(var_dic_list()) "
    }
   },
   "types_to_exclude": [
    "module",
    "function",
    "builtin_function_or_method",
    "instance",
    "_Feature"
   ],
   "window_display": false
  }
 },
 "nbformat": 4,
 "nbformat_minor": 4
}
