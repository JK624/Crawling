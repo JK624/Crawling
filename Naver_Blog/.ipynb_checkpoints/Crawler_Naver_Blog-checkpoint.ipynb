{
 "cells": [
  {
   "cell_type": "code",
   "execution_count": 2,
   "metadata": {},
   "outputs": [],
   "source": [
    "# 네이버에서 검색어 입력받아 검색 한 후 블로그 메뉴를 선택하고\n",
    "# 오른쪽에 있는 검색옵션 버튼을 눌러서\n",
    "# 정렬 방식과 기간을 입력하기\n",
    "\n",
    "#Step 0. 필요한 모듈과 라이브러리를 로딩합니다.\n",
    "import sys # 시스템\n",
    "import os  # 시스템\n",
    "\n",
    "import pandas as pd  # 판다스 : 데이터분석 라이브러리\n",
    "import numpy as np   # 넘파이 : 숫자, 행렬 데이터 라이브러리\n",
    "\n",
    "from bs4 import BeautifulSoup    # html 데이터를 전처리\n",
    "from selenium import webdriver   # 웹 브라우저 자동화\n",
    "import time    # 서버와 통신할 때 중간중간 시간 지연. 보통은 1초\n",
    "from tqdm import tqdm_notebook   # for문 돌릴 때 진행상황을 %게이지로 알려준다."
   ]
  },
  {
   "cell_type": "code",
   "execution_count": 3,
   "metadata": {},
   "outputs": [
    {
     "name": "stdout",
     "output_type": "stream",
     "text": [
      "Python 3.9.6\r\n"
     ]
    }
   ],
   "source": [
    "# python 버전 확인\n",
    "!python --version"
   ]
  },
  {
   "cell_type": "code",
   "execution_count": 4,
   "metadata": {},
   "outputs": [
    {
     "data": {
      "text/plain": [
       "'1.3.1'"
      ]
     },
     "execution_count": 4,
     "metadata": {},
     "output_type": "execute_result"
    }
   ],
   "source": [
    "# 판다스 버전 확인\n",
    "pd.__version__"
   ]
  },
  {
   "cell_type": "code",
   "execution_count": 5,
   "metadata": {},
   "outputs": [
    {
     "name": "stdout",
     "output_type": "stream",
     "text": [
      "1.크롤링할 키워드는 무엇입니까?: 대전맛집\n",
      "4.조회를 시작할 날짜를 입력하세요(예:20170101) :20210101\n",
      "5.조회를 종료할 날짜를 입력하세요(예:20171231): 20210928\n"
     ]
    }
   ],
   "source": [
    "# 검색어, 검색 기간 정의\n",
    "query_txt = input('1.크롤링할 키워드는 무엇입니까?: ')\n",
    "# query_txt2 = input('2.제외할 첫번째 키워드를 입력하세요: ')\n",
    "# query_txt3 = input('3.제외할 두번째 키워드를 입력하세요: ')\n",
    "\n",
    "start_date = input('4.조회를 시작할 날짜를 입력하세요(예:20170101) :')\n",
    "end_date = input('5.조회를 종료할 날짜를 입력하세요(예:20171231): ')"
   ]
  },
  {
   "cell_type": "code",
   "execution_count": 6,
   "metadata": {},
   "outputs": [],
   "source": [
    "query_txt=\"대전맛집\"\n",
    "start_date=\"20210101\"\n",
    "end_date=\"20210928\""
   ]
  },
  {
   "cell_type": "markdown",
   "metadata": {},
   "source": [
    "# 크롤링할 블로그 url 수집하기"
   ]
  },
  {
   "cell_type": "code",
   "execution_count": 10,
   "metadata": {},
   "outputs": [
    {
     "data": {
      "text/plain": [
       "'/Users/jisookwon/Documents/Crawling/Naver_Blog'"
      ]
     },
     "execution_count": 10,
     "metadata": {},
     "output_type": "execute_result"
    }
   ],
   "source": [
    "pwd"
   ]
  },
  {
   "cell_type": "code",
   "execution_count": 12,
   "metadata": {
    "code_folding": []
   },
   "outputs": [
    {
     "ename": "WebDriverException",
     "evalue": "Message: Service /Users/jisookwon/Documents/Crawling/chromedriver unexpectedly exited. Status code was: -9\n",
     "output_type": "error",
     "traceback": [
      "\u001b[0;31m---------------------------------------------------------------------------\u001b[0m",
      "\u001b[0;31mWebDriverException\u001b[0m                        Traceback (most recent call last)",
      "\u001b[0;32m/var/folders/dd/p03cpd850nx3bbxblv922vsm0000gn/T/ipykernel_10657/2913001338.py\u001b[0m in \u001b[0;36m<module>\u001b[0;34m\u001b[0m\n\u001b[1;32m      2\u001b[0m \u001b[0mpath\u001b[0m \u001b[0;34m=\u001b[0m \u001b[0;34m\"/Users/jisookwon/Documents/Crawling/chromedriver\"\u001b[0m       \u001b[0;31m# 윈도우는 \"chromedriver.exe\"\u001b[0m\u001b[0;34m\u001b[0m\u001b[0;34m\u001b[0m\u001b[0m\n\u001b[1;32m      3\u001b[0m \u001b[0;34m\u001b[0m\u001b[0m\n\u001b[0;32m----> 4\u001b[0;31m \u001b[0mdriver\u001b[0m \u001b[0;34m=\u001b[0m \u001b[0mwebdriver\u001b[0m\u001b[0;34m.\u001b[0m\u001b[0mChrome\u001b[0m\u001b[0;34m(\u001b[0m\u001b[0mpath\u001b[0m\u001b[0;34m)\u001b[0m\u001b[0;34m\u001b[0m\u001b[0;34m\u001b[0m\u001b[0m\n\u001b[0m\u001b[1;32m      5\u001b[0m \u001b[0;31m# 사이트 주소는 네이버\u001b[0m\u001b[0;34m\u001b[0m\u001b[0;34m\u001b[0m\u001b[0;34m\u001b[0m\u001b[0m\n\u001b[1;32m      6\u001b[0m \u001b[0;31m# driver.get('http://www.naver.com')\u001b[0m\u001b[0;34m\u001b[0m\u001b[0;34m\u001b[0m\u001b[0;34m\u001b[0m\u001b[0m\n",
      "\u001b[0;32m/opt/homebrew/Caskroom/miniforge/base/envs/tensorflow/lib/python3.9/site-packages/selenium/webdriver/chrome/webdriver.py\u001b[0m in \u001b[0;36m__init__\u001b[0;34m(self, executable_path, port, options, service_args, desired_capabilities, service_log_path, chrome_options, keep_alive)\u001b[0m\n\u001b[1;32m     71\u001b[0m             \u001b[0mservice_args\u001b[0m\u001b[0;34m=\u001b[0m\u001b[0mservice_args\u001b[0m\u001b[0;34m,\u001b[0m\u001b[0;34m\u001b[0m\u001b[0;34m\u001b[0m\u001b[0m\n\u001b[1;32m     72\u001b[0m             log_path=service_log_path)\n\u001b[0;32m---> 73\u001b[0;31m         \u001b[0mself\u001b[0m\u001b[0;34m.\u001b[0m\u001b[0mservice\u001b[0m\u001b[0;34m.\u001b[0m\u001b[0mstart\u001b[0m\u001b[0;34m(\u001b[0m\u001b[0;34m)\u001b[0m\u001b[0;34m\u001b[0m\u001b[0;34m\u001b[0m\u001b[0m\n\u001b[0m\u001b[1;32m     74\u001b[0m \u001b[0;34m\u001b[0m\u001b[0m\n\u001b[1;32m     75\u001b[0m         \u001b[0;32mtry\u001b[0m\u001b[0;34m:\u001b[0m\u001b[0;34m\u001b[0m\u001b[0;34m\u001b[0m\u001b[0m\n",
      "\u001b[0;32m/opt/homebrew/Caskroom/miniforge/base/envs/tensorflow/lib/python3.9/site-packages/selenium/webdriver/common/service.py\u001b[0m in \u001b[0;36mstart\u001b[0;34m(self)\u001b[0m\n\u001b[1;32m     96\u001b[0m         \u001b[0mcount\u001b[0m \u001b[0;34m=\u001b[0m \u001b[0;36m0\u001b[0m\u001b[0;34m\u001b[0m\u001b[0;34m\u001b[0m\u001b[0m\n\u001b[1;32m     97\u001b[0m         \u001b[0;32mwhile\u001b[0m \u001b[0;32mTrue\u001b[0m\u001b[0;34m:\u001b[0m\u001b[0;34m\u001b[0m\u001b[0;34m\u001b[0m\u001b[0m\n\u001b[0;32m---> 98\u001b[0;31m             \u001b[0mself\u001b[0m\u001b[0;34m.\u001b[0m\u001b[0massert_process_still_running\u001b[0m\u001b[0;34m(\u001b[0m\u001b[0;34m)\u001b[0m\u001b[0;34m\u001b[0m\u001b[0;34m\u001b[0m\u001b[0m\n\u001b[0m\u001b[1;32m     99\u001b[0m             \u001b[0;32mif\u001b[0m \u001b[0mself\u001b[0m\u001b[0;34m.\u001b[0m\u001b[0mis_connectable\u001b[0m\u001b[0;34m(\u001b[0m\u001b[0;34m)\u001b[0m\u001b[0;34m:\u001b[0m\u001b[0;34m\u001b[0m\u001b[0;34m\u001b[0m\u001b[0m\n\u001b[1;32m    100\u001b[0m                 \u001b[0;32mbreak\u001b[0m\u001b[0;34m\u001b[0m\u001b[0;34m\u001b[0m\u001b[0m\n",
      "\u001b[0;32m/opt/homebrew/Caskroom/miniforge/base/envs/tensorflow/lib/python3.9/site-packages/selenium/webdriver/common/service.py\u001b[0m in \u001b[0;36massert_process_still_running\u001b[0;34m(self)\u001b[0m\n\u001b[1;32m    107\u001b[0m         \u001b[0mreturn_code\u001b[0m \u001b[0;34m=\u001b[0m \u001b[0mself\u001b[0m\u001b[0;34m.\u001b[0m\u001b[0mprocess\u001b[0m\u001b[0;34m.\u001b[0m\u001b[0mpoll\u001b[0m\u001b[0;34m(\u001b[0m\u001b[0;34m)\u001b[0m\u001b[0;34m\u001b[0m\u001b[0;34m\u001b[0m\u001b[0m\n\u001b[1;32m    108\u001b[0m         \u001b[0;32mif\u001b[0m \u001b[0mreturn_code\u001b[0m \u001b[0;32mis\u001b[0m \u001b[0;32mnot\u001b[0m \u001b[0;32mNone\u001b[0m\u001b[0;34m:\u001b[0m\u001b[0;34m\u001b[0m\u001b[0;34m\u001b[0m\u001b[0m\n\u001b[0;32m--> 109\u001b[0;31m             raise WebDriverException(\n\u001b[0m\u001b[1;32m    110\u001b[0m                 \u001b[0;34m'Service %s unexpectedly exited. Status code was: %s'\u001b[0m\u001b[0;34m\u001b[0m\u001b[0;34m\u001b[0m\u001b[0m\n\u001b[1;32m    111\u001b[0m                 \u001b[0;34m%\u001b[0m \u001b[0;34m(\u001b[0m\u001b[0mself\u001b[0m\u001b[0;34m.\u001b[0m\u001b[0mpath\u001b[0m\u001b[0;34m,\u001b[0m \u001b[0mreturn_code\u001b[0m\u001b[0;34m)\u001b[0m\u001b[0;34m\u001b[0m\u001b[0;34m\u001b[0m\u001b[0m\n",
      "\u001b[0;31mWebDriverException\u001b[0m: Message: Service /Users/jisookwon/Documents/Crawling/chromedriver unexpectedly exited. Status code was: -9\n"
     ]
    }
   ],
   "source": [
    "#Step 1. 크롬 웹브라우저 실행\n",
    "path = \"/Users/jisookwon/Documents/Crawling/chromedriver\"       # 윈도우는 \"chromedriver.exe\"\n",
    "\n",
    "driver = webdriver.Chrome(path)\n",
    "# 사이트 주소는 네이버\n",
    "# driver.get('http://www.naver.com')\n",
    "# time.sleep(2)  # 2초간 정지"
   ]
  },
  {
   "cell_type": "code",
   "execution_count": 16,
   "metadata": {},
   "outputs": [
    {
     "data": {
      "text/plain": [
       "'/Users/jisookwon/Documents/크롤링/네이버블로그 '"
      ]
     },
     "execution_count": 16,
     "metadata": {},
     "output_type": "execute_result"
    }
   ],
   "source": [
    "pwd"
   ]
  },
  {
   "cell_type": "code",
   "execution_count": 17,
   "metadata": {
    "code_folding": []
   },
   "outputs": [],
   "source": [
    "#Step 2. 네이버 검색창에 \"검색어\" 검색\n",
    "element = driver.find_element_by_id(\"query\")\n",
    "element.send_keys(query_txt)  # query_txt는 위에서 입력한 키워드\n",
    "element.submit()\n",
    "time.sleep(1)\n",
    "\n",
    "# 'VIEW' 클릭\n",
    "driver.find_element_by_link_text(\"VIEW\").click( )\n",
    "\n",
    "# '블로그' 클릭\n",
    "driver.find_element_by_link_text(\"블로그\").click( )\n",
    "time.sleep(1)\n",
    "\n",
    "# '옵션' 클릭\n",
    "driver.find_element_by_link_text(\"옵션\").click( )\n",
    "time.sleep(1)"
   ]
  },
  {
   "cell_type": "code",
   "execution_count": 18,
   "metadata": {
    "code_folding": []
   },
   "outputs": [
    {
     "name": "stdout",
     "output_type": "stream",
     "text": [
      "전체\n",
      "블로그\n",
      "카페\n",
      "관련도순\n",
      "최신순\n",
      "전체\n",
      "1시간\n",
      "1일\n",
      "1주\n",
      "1개월\n",
      "3개월\n",
      "6개월\n",
      "1년\n",
      "직접입력옵션펼치기\n"
     ]
    }
   ],
   "source": [
    "# 검색옵션 확인\n",
    "item_li = driver.find_elements_by_css_selector('.option .txt')\n",
    "\n",
    "for i in range(0, len(item_li)):\n",
    "    print(item_li[i].text)\n"
   ]
  },
  {
   "cell_type": "code",
   "execution_count": 19,
   "metadata": {
    "scrolled": true
   },
   "outputs": [
    {
     "name": "stdout",
     "output_type": "stream",
     "text": [
      "3개월\n"
     ]
    }
   ],
   "source": [
    "# 검색기간 '3개월' 클릭\n",
    "print(item_li[10].text)\n",
    "\n",
    "item_li[10].click()"
   ]
  },
  {
   "cell_type": "code",
   "execution_count": 20,
   "metadata": {},
   "outputs": [],
   "source": [
    "# 스크롤 다운\n",
    "# driver.execute_script(\"window.scrollTo(0, 500)\")\n",
    "# time.sleep(2)\n",
    "\n",
    "# 스크롤을 밑으로 내려주는 함수\n",
    "def scroll_down(driver):\n",
    "    driver.execute_script(\"window.scrollTo(0, 19431049)\")\n",
    "    time.sleep(1)\n",
    "\n",
    "# n: 스크롤할 횟수 설정\n",
    "n = 5\n",
    "i = 0\n",
    "while i < 5: # 이 조건이 만족되는 동안 반복 실행\n",
    "    scroll_down(driver) # 스크롤 다운\n",
    "    i = i+1"
   ]
  },
  {
   "cell_type": "code",
   "execution_count": 21,
   "metadata": {},
   "outputs": [
    {
     "data": {
      "text/plain": [
       "<selenium.webdriver.remote.webelement.WebElement (session=\"9cb1ca134ee64302ac2195e992429a3c\", element=\"362b0a58-803e-4b12-93a9-d4f1a7e5fa76\")>"
      ]
     },
     "execution_count": 21,
     "metadata": {},
     "output_type": "execute_result"
    }
   ],
   "source": [
    "# 블로그 글 url들 수집\n",
    "url_list = []\n",
    "title_list = []\n",
    "\n",
    "# URL_raw 크롤링 시작\n",
    "articles = \".api_txt_lines.total_tit\"\n",
    "article_raw = driver.find_elements_by_css_selector(articles)\n",
    "article_raw[0]"
   ]
  },
  {
   "cell_type": "code",
   "execution_count": 22,
   "metadata": {},
   "outputs": [
    {
     "data": {
      "text/plain": [
       "'https://blog.naver.com/nolamanal?Redirect=Log&logNo=222328343070'"
      ]
     },
     "execution_count": 22,
     "metadata": {},
     "output_type": "execute_result"
    }
   ],
   "source": [
    "article_raw[0].get_attribute('href')"
   ]
  },
  {
   "cell_type": "code",
   "execution_count": 23,
   "metadata": {
    "scrolled": false
   },
   "outputs": [
    {
     "name": "stdout",
     "output_type": "stream",
     "text": [
      "원탑인 대전 맛집 리스트\n",
      "입이 호강한 대전 맛집 소개\n",
      "구수했던 대전 맛집 모음\n",
      "강렬했던 # 대전 맛집 모음\n",
      "꼭 가봐야할 대전 맛집 리스트\n",
      "식욕 폭발했던 대전 맛집 리스트\n",
      "깜짝놀랠 대전 맛집\n",
      "[곱창맛집 & 대전맛집 - 군자대한곱창 대전엑스포점]\n",
      "자꾸 생각나는 대전 맛집 모음\n",
      "정성이 깃든 대전맛집 공유\n",
      "임팩트 대단한 대전 맛집 리스트\n",
      "대전 맛집 신탄진 구미횟집에서 참치 후기\n",
      "단골이된 대전 맛집 모음\n",
      "초밥이 맛있는 대전맛집\n",
      "대전 맛집 '현대식당', 대흥동 닭볶음탕 노포 맛집\n",
      "대전 대흥동 맛집... 감성 데이트 맛집으로도 너무좋은 대전맛집\n",
      "대전맛집 대동오거리 신선칼국수 매장 후기 + 배달 후기\n",
      "대전 맛집 애슐리퀸즈 집에서 즐기는 홈파티음식 방문포장\n",
      "대전맛집 대게요리맛집 크래버대게나라둔산점 가성비 짱\n",
      "대전맛집)서대전역맛집 소담회\n",
      "[대전맛집/유성구맛집]잡내 없는 양고기를 다양한 식감과 깊은...\n",
      "대전 맛집 반찬이 푸짐한 월평동 태능돌삼겹\n",
      "명랑식당,삼성동맛집,대전맛집,육개장맛집\n",
      "(대전맛집) 대전 육사시미 맛집 '태평소국밥'\n",
      "신성막국수 , 내가 찾던 대전 맛집 ㅠㅠ\n",
      "선화동맛집, 대성집, since 1974 전통의 대전맛집\n",
      "대전 맛집 @포트 키친(port kitchen) 신상 맛집 대만족♥\n",
      "대전 맛집 ㅣ 광천식당 오징어 두루치기, 칼국수 ♥\n",
      "갈마동 족발 맛집, 레트로 분위기 물씬풍기는 대전맛집 대광족\n",
      "#대전맛집 탄방동 대만음식점<바오바뮐러>\n",
      "대전맛집 보문산 반찬식당 보리밥 (feat. 씨앗호떡)\n",
      "[대전 광천식당] 두부두루치기... 오징어두루치기/대전맛집\n",
      "대전 맛집 - '서울촌놈' 추천 맛집 천복순대국밥\n",
      "[대전맛집] 내돈내산/ 광천식당 두부두루치기&수육\n",
      "식객 허영만의 백반기행 대전 맛집 '진로집' 두부두루치기\n",
      "현주민이 찾는 대전맛집 태평소국밥\n",
      "대전맛집 한남대맛집 신화신가네매운떡볶이 배달 후기\n",
      "뜨끈한 대전 맛집 리스트 3 국밥 먹으러 고고!\n",
      "대전 맛집 예담추어정 추어탕 그대로 담았습니다. 유명 맛집...\n",
      "대전 맛집 꼭 가야하는 식당 대선칼국수\n",
      "[대전 맛집]영롱그자체˚✧₊⁎❝᷀ົཽ≀ˍ̮...\n",
      "[대전 맛집의 정석 1탄] 담양애떡갈비(돼지갈비), 커피땅거미...\n",
      "대전 맛집 산밑할머니 묵밥&보리밥 먹방후기\n",
      "대전맛집 - 할매 옹심이 메밀 칼국수 & 메밀회막국수\n",
      "[세종시 맛집/대전 맛집] 세종복칼국수(구,세종면옥)\n",
      "복사꽃피는집 대전점 낙지볶음 & 고르곤졸라 ft. 대전맛집...\n",
      "대전 맛집 복사꽃피는집 쭈꾸미볶음\n",
      "#대전맛집 용전동 <논골집 대전점>\n",
      "[대전 맛집] 흑산도회\n",
      "대전맛집 대흥동맛집 석갈비 월산본가\n",
      "대전 맛집 스마일 찹쌀 꽈배기 팥고로케 치즈고로케 벤토...\n",
      "[대전밥집]두부두루치기 대전맛집 진로집\n",
      "대전맛집\"힘내라고\" 편리한전기로스타설치\n",
      "[대전 맛집] 오씨칼국수 - 물총과 칼국수 맛집!\n",
      "대전맛집 : 중구 오류동 서대전역앞 일품교동짬뽕 ~♪\n",
      "대전 맛집 둔산동 60년전통 대선칼국수\n",
      "대전맛집, 유성구맛집, 봉명동맛집, 만나한우복수집\n",
      "대전맛집 대전 슈바인학센 이태리다홍\n",
      "[대전 맛집] 유성 레스토랑 3MK\n",
      "대전맛집♪ 유성 태평소국밥 따로국밥 맛있어요 엄지척\n",
      "대전 맛집 꽁뚜\n",
      "대전 맛집ㅣ'신선한우마을' 한우 소고기 가수원동 맛집\n",
      "대전 성심당♪ 성심당 롯데백화점대전점 대전맛집 성심당...\n",
      "[대전맛집] 대전역 원동 물총 칼국수 맛집 : 오씨칼국수\n",
      "대전맛집추천 비래키키\n",
      "#대전맛집 탄방동 베트남음식점<아시안탄방>\n",
      "[대전 맛집] 앨리스스프링스, 만년동 브런치 카페\n",
      "대전맛집, 서구맛집, 갈마동맛집, 한우맛집, 꽃한우\n",
      "#대전맛집 자양동 포트<PORT>\n",
      "대전맛집, 오리수육/오리탕이... 감나무집 (서울촌놈 박세리 맛집)\n",
      "대전맛집 한멘뚝배기\n",
      "대전 맛집 궁동 Ato 고등어봉초밥 + 국가대표 챔피언 김사홍...\n",
      "[대전맛집] 가격도 착한데 맛도 있는 괴곡동 맛집 장수오리...\n",
      "[대전맛집] 대전 대흥동 맛집, 동원식당 황태해장국 (21.03.31)\n",
      "[대전 맛집]화덕피자계의 전국구 맛집이라는 피제리아 다알리...\n",
      "대전 맛집ㅣ유성 '아웃백' 스테이크 하우스, 블랙라벨 셰프...\n",
      "#대전맛집 은행동 <소싯적>\n",
      "대전맛집 봉명동맛집 대손관 후기\n",
      "[대전맛집] 어두리\n",
      "대전 맛집 제가 여러분들에게 보여드리고 싶은 곳\n",
      "대전 맛집ㅣ둔산동 '대선칼국수' 두부두루치기 칼국수 맛집\n",
      "[대전 정식당] 닭볶음탕... 골목맛집/대전맛집추천/노포본점\n",
      "봉봉원,중국집봉봉원,양장피가맛있는곳봉봉원,대전맛집,중구맛집\n",
      "[대전맛집/현충원맛집]감칠맛 나는 양념과 불맛이 일품이...\n",
      "트라이엄프 로켓3 대전맛집 서울갈비집 추천!\n",
      "#대전맛집 은행동 <동그라미>\n",
      "<대전맛집,통닭맛집> 대전 탄방동 부여통닭, 창민아...\n",
      "솔밭 묵집, 닭볶음탕 맛집, 대전 맛집, 신탄진 맛집\n",
      "[대전맛집]테판마루(feat.철판요리),자작나무\n",
      "대전 맛집: 광천식당\n",
      "대전맛집, 유성구맛집, 노은동맛집, 쭈꾸미맛집, 신화수산\n",
      "대전 맛집 태화원\n",
      "대전맛집 강변식당 닭발 돼지두루치기맛집 맛도 좋고 가성비도...\n",
      "대전맛집 대젓소머리국밥 칭찬해\n",
      "대전 맛집 이차돌 차돌삼겹 해산물몽땅 쫄면\n",
      "대전 유성 구스바베큐, 대전맛집\n",
      "대전 맛집, 가수원동 맛집 \"찜해가\" (해물찜/아구찜/대구뽈찜)\n",
      "추 억 찾아 간 대전 맛집 == 얼큰 칼칼한 방일해장국\n",
      "다시 찾아간 대전 맛집 / 광천식당 / 대전 매운 오징어두루치기\n",
      "대전탄방동맛집/대전 맛집 :: 바오바뮐러 대만레스토랑\n",
      "[대전맛집] 대전 가양동맛집 24시 이바돔 감자탕집 후기\n",
      "[대전맛집] 유성구 궁동 덮밥 맛집 AB마요 에비마요\n",
      "대전 맛집 - 삼유제면소\n",
      "대전맛집, 동구맛집, 가양동맛집, 생대구탕맛집, 예성활어회\n",
      "대전맛집(진짜) - 태평소국밥\n",
      "대전맛집 진로집 두부두루치기랑 수육이 존맛탱\n",
      "대전맛집/불맛나는 낙지볶음이 밥+국수까지 10,000원?\n",
      "[대전 맛집]만년동 맛집, 담양애떡갈비\n",
      "내가 가장 좋아하는 대전 맛집 리스트\n",
      "대전 맛집 가득한 오문창순대국밥\n",
      "대전 맛집 라임키친\n",
      "대전가볼만한곳,대전카페,대전맛집,대전데이트추천\n",
      "[대전맛집] 한민시장맛집 노블레스김밥\n",
      "대전 맛집 산성동 전집 또 올래\n",
      "대전디저트카페,대전햇살맛집,대전가볼만한곳,대전맛집\n",
      "대전맛집, 유성구맛집, 노은동맛집, 짬뽕맛집, 요기루\n",
      "대전맛집 : 현대식당, 닭도리탕맛집◡̈\n",
      "대전맛집 수타우동전문점 토미야\n",
      "마늘의 맛집탐방 대구맛집, 대전맛집 프리뷰 (부제 맛술신잡)\n",
      "[대전맛집] 카라멜 밀키트 후기\n",
      "[대전맛집] 소제동 이탈리아레스토랑 - 파운드(FOUND)\n",
      "대전맛집 오징어 어때 내돈내산 솔직후기\n",
      "[대전맛집] 해물요리&활어회전문점 - 바다황제\n",
      "[대전맛집/선화동맛집] 너그집\n",
      "[대전 맛집]써브웨이 대전관저점 : 써브웨이는 역시 에그마요\n",
      "대전 맛집 잔치국수가 맛있었던 국수집\n",
      "대전 맛집 코리아나 양대창\n",
      "대전맛집베스트 탄방동 밥집 명태마을\n",
      "대전맛집 광천식당\n",
      "대전맛집;계족산 두부전골(매봉식당)\n",
      "앵갤지수 높여주는 대전 맛집 추천[칸 Khan 스테이크하우스]\n",
      "[도룡동맛집] 대전맛집 다로갈비 엑스포점 강추\n",
      "갈마동 릴리쉬 / 대전맛집, 갈마동맛집\n",
      "대전 맛집_가오동 돈돈 숯붗구이\n",
      "대전맛집 옛날 느낌 그대로 한양분식에서\n",
      "[대전맛집] 둔산동 떡반집\n",
      "[대전맛집]관저동 마치광장 찜닭 맛집 안녕, 닭\n",
      "칼칼한게 땡길적이면 늘 가는 대전 맛집 '착한낙지'\n",
      "[대전맛집] 신탄진맛집 울대찌개 찌글이짜글이\n",
      "<대전 맛집>봉명동 \"봉명생갈비\"\n",
      "대전맛집 라멘히로시에서 간단하게 한 끼!\n",
      "대전맛집_갈마동 술집 \"김신문1993\"\n",
      "[대전 맛집] 속이 꽉 찬 만두가 맛있었던 '홍룡수제만두 비래점'\n",
      "대전맛집 추천 : 판암동 맛집 대전밀면 가성비 +맛 대박♡\n",
      "대전 맛집 추천 : 신성동 큰길식당 백반\n",
      "[대전 맛집] 둔산동 두부두루치기 칼국수 맛집 '대선칼국수'\n",
      "[대전맛집] 도안동 / 가수원동 맛집 “배불러 돈까스”\n",
      "이모님좋았던 대전맛집-별난집/두부두루치기\n",
      "[대전맛집] 관저동 김밥 맛집 ‘다보김밥’\n",
      "대전 맛집추천 ‘르몽탁’\n",
      "대전맛집- 유성맛집 차이니스레스토랑 진신\n",
      "대전맛집 스파게띠 리조또 파스타맛집 보문산호랭이\n",
      "[대전맛집56] 싱글벙글복어 둔산본점\n",
      "[대전맛집] 카츠고메이/탄방동맛집\n",
      "[대전맛집/대전카페] #이이디에스프레소바 #대추나무칼국수\n",
      "[대전맛집/대전현대프리미엄아울렛]온더보더\n",
      "대전맛집 산내맛집 산내돌짜장\n",
      "[대전맛집]이설옥(feat.진주냉면)\n",
      "대전가볼만한곳,대전맛집,대전디저트맛집,대전크로플맛집...\n",
      "뜨끈한 미니화로 소고기 대전 맛집 은행동 고베 규카츠\n",
      "[대전맛집/통영카페] #리코타코 #십사점삼도\n",
      "대전맛집술집 *산성동 새마을주점*\n",
      "어은동카페 어은동맛집 | 우디룸 Woodi room 대전맛집\n",
      "대전맛집 도룡동쌀국수맛집 '가남지'\n",
      "대전맛집 돼지김치구이 때론 삼겹살보단 달콤짭쪼름한...\n",
      "[ 대전맛집 / 삼성동 ] 할머니가 애정하는 손칼국수 현지인맛집...\n",
      "[대전맛집]테판마루(feat.철판요리)\n",
      "[대전맛집] 관평동 곱창고 소곱창맛집 추천!(Feat 5번은...\n",
      "[대전맛집] 최애곱창 월평동 \"다래곱창\"\n",
      "대전맛집 삼겹살집 동창\n",
      "대전맛집 보리고개칼국수\n",
      "[대전 맛집] 궁동 딤섬 맛집, 샤오롱바오 면식관 만화쉔\n",
      "[대전맛집/대전한우맛집/유성한우] 뜨랑한우 노은 본점...\n",
      "[대전맛집] 초밥이 먹고 싶을 땐 봉명동 \"스시유이\"\n",
      "[대전맛집] 은행동 아저씨돈까스 오랜만에 다녀온 후기!\n",
      "대전맛집 선화동맛집 두부두루치기맛집 광천식당\n",
      "한영식당,대전한영식당,대전닭도리탕맛집,대전맛집...\n",
      "[대전맛집]뜨랑한우\n",
      "[대전맛집] 원신흥동 분위기 좋은 이태리 식당 | 빛나\n",
      "대전맛집 대전물총칼국수 맛집 오씨칼국수 본점\n",
      "\n",
      "url갯수:  180\n",
      "title갯수:  180\n"
     ]
    }
   ],
   "source": [
    "# 크롤링한 url 정제 시작\n",
    "for article in article_raw:\n",
    "    url = article.get_attribute('href')   \n",
    "    url_list.append(url)\n",
    "\n",
    "# 1초 쉬어 주고,\n",
    "time.sleep(1)\n",
    "    \n",
    "# 제목 크롤링 시작    \n",
    "for article in article_raw:\n",
    "    title = article.text\n",
    "    title_list.append(title)\n",
    "\n",
    "    print(title)\n",
    "\n",
    "print(\"\")\n",
    "print('url갯수: ', len(url_list))\n",
    "print('title갯수: ', len(title_list))"
   ]
  },
  {
   "cell_type": "code",
   "execution_count": 24,
   "metadata": {},
   "outputs": [
    {
     "data": {
      "text/plain": [
       "'/Users/jisookwon/Documents/크롤링/네이버블로그 '"
      ]
     },
     "execution_count": 24,
     "metadata": {},
     "output_type": "execute_result"
    }
   ],
   "source": [
    "pwd"
   ]
  },
  {
   "cell_type": "code",
   "execution_count": 25,
   "metadata": {},
   "outputs": [
    {
     "data": {
      "text/plain": [
       "['https://blog.naver.com/nolamanal?Redirect=Log&logNo=222328343070',\n",
       " 'https://blog.naver.com/lala1010?Redirect=Log&logNo=222347073730',\n",
       " 'https://blog.naver.com/jinmylove?Redirect=Log&logNo=222317287992',\n",
       " 'https://blog.naver.com/jin3641?Redirect=Log&logNo=222311340621',\n",
       " 'https://blog.naver.com/sooya1127?Redirect=Log&logNo=222311344171',\n",
       " 'https://blog.naver.com/mjati?Redirect=Log&logNo=222257706805',\n",
       " 'https://blog.naver.com/coolj21104?Redirect=Log&logNo=222319537797',\n",
       " 'https://blog.naver.com/3357266?Redirect=Log&logNo=222272556433',\n",
       " 'https://blog.naver.com/idhsssh?Redirect=Log&logNo=222289511153',\n",
       " 'https://blog.naver.com/nara2381?Redirect=Log&logNo=222258442674',\n",
       " 'https://blog.naver.com/zz0507?Redirect=Log&logNo=222310705844',\n",
       " 'https://blog.naver.com/cft345?Redirect=Log&logNo=222348516159',\n",
       " 'https://blog.naver.com/2tjsdyd?Redirect=Log&logNo=222255002108',\n",
       " 'https://blog.naver.com/newosilent?Redirect=Log&logNo=222247272471',\n",
       " 'https://blog.naver.com/tnghks8897?Redirect=Log&logNo=222311180679',\n",
       " 'https://blog.naver.com/rlawndud1541?Redirect=Log&logNo=222336387957',\n",
       " 'https://blog.naver.com/anjanjajaj?Redirect=Log&logNo=222292556766',\n",
       " 'https://blog.naver.com/blue5292?Redirect=Log&logNo=222256711435',\n",
       " 'https://blog.naver.com/phrases11?Redirect=Log&logNo=222252557820',\n",
       " 'https://blog.naver.com/jm6920?Redirect=Log&logNo=222268453969',\n",
       " 'https://blog.naver.com/officer34?Redirect=Log&logNo=222342491076',\n",
       " 'https://blog.naver.com/jeju8253?Redirect=Log&logNo=222294291861',\n",
       " 'https://blog.naver.com/hama2218?Redirect=Log&logNo=222245093401',\n",
       " 'https://blog.naver.com/tlsduswjd88?Redirect=Log&logNo=222290206884',\n",
       " 'https://blog.naver.com/ksj649?Redirect=Log&logNo=222327634527',\n",
       " 'https://blog.naver.com/7wisdom7?Redirect=Log&logNo=222292663099',\n",
       " 'https://blog.naver.com/bongja814?Redirect=Log&logNo=222310311454',\n",
       " 'https://blog.naver.com/jinmichu?Redirect=Log&logNo=222293671695',\n",
       " 'https://blog.naver.com/rlawndud1541?Redirect=Log&logNo=222315886697',\n",
       " 'https://blog.naver.com/ae741963?Redirect=Log&logNo=222284370153',\n",
       " 'https://blog.naver.com/blue5292?Redirect=Log&logNo=222326030590',\n",
       " 'https://blog.naver.com/dmisg?Redirect=Log&logNo=222321440167',\n",
       " 'https://blog.naver.com/yamoya98?Redirect=Log&logNo=222254668182',\n",
       " 'https://blog.naver.com/lovely6035?Redirect=Log&logNo=222293182887',\n",
       " 'https://blog.naver.com/lovelysuns?Redirect=Log&logNo=222290667696',\n",
       " 'https://blog.naver.com/ambition_jw?Redirect=Log&logNo=222320896032',\n",
       " 'https://blog.naver.com/anjanjajaj?Redirect=Log&logNo=222246737637',\n",
       " 'https://blog.naver.com/daejeontour?Redirect=Log&logNo=222272926361',\n",
       " 'https://blog.naver.com/shriya?Redirect=Log&logNo=222283560220',\n",
       " 'https://blog.naver.com/corea1018?Redirect=Log&logNo=222319542375',\n",
       " 'https://blog.naver.com/dbswl8878?Redirect=Log&logNo=222333355418',\n",
       " 'https://blog.naver.com/dairyukem?Redirect=Log&logNo=222281578251',\n",
       " 'https://blog.naver.com/ckacka1024?Redirect=Log&logNo=222333811390',\n",
       " 'https://blog.naver.com/containsky?Redirect=Log&logNo=222312451385',\n",
       " 'https://blog.naver.com/gotokim02?Redirect=Log&logNo=222341521957',\n",
       " 'https://blog.naver.com/rkdduswn217?Redirect=Log&logNo=222250161723',\n",
       " 'https://blog.naver.com/pealrpink?Redirect=Log&logNo=222281411941',\n",
       " 'https://blog.naver.com/ae741963?Redirect=Log&logNo=222256433353',\n",
       " 'https://blog.naver.com/12woorim?Redirect=Log&logNo=222322481477',\n",
       " 'https://blog.naver.com/anjanjajaj?Redirect=Log&logNo=222277169673',\n",
       " 'https://blog.naver.com/dusdn0905?Redirect=Log&logNo=222272597229',\n",
       " 'https://blog.naver.com/mint_vanilla?Redirect=Log&logNo=222284555681',\n",
       " 'https://blog.naver.com/pang4158?Redirect=Log&logNo=222340195398',\n",
       " 'https://blog.naver.com/pinkbomi?Redirect=Log&logNo=222334821681',\n",
       " 'https://blog.naver.com/xianying97?Redirect=Log&logNo=222346456882',\n",
       " 'https://blog.naver.com/jw993?Redirect=Log&logNo=222255165039',\n",
       " 'https://blog.naver.com/compass7979?Redirect=Log&logNo=222291448412',\n",
       " 'https://blog.naver.com/qhrehowl10?Redirect=Log&logNo=222311382577',\n",
       " 'https://blog.naver.com/duddl5154?Redirect=Log&logNo=222298517827',\n",
       " 'https://blog.naver.com/dlwowjd46888?Redirect=Log&logNo=222280942085',\n",
       " 'https://blog.naver.com/vhdkdl?Redirect=Log&logNo=222334755346',\n",
       " 'https://blog.naver.com/onlyhw2?Redirect=Log&logNo=222299251762',\n",
       " 'https://blog.naver.com/dlwowjd46888?Redirect=Log&logNo=222303378613',\n",
       " 'https://blog.naver.com/qls1021?Redirect=Log&logNo=222299120929',\n",
       " 'https://blog.naver.com/esrastyle?Redirect=Log&logNo=222257138019',\n",
       " 'https://blog.naver.com/ae741963?Redirect=Log&logNo=222336566165',\n",
       " 'https://blog.naver.com/12woorim?Redirect=Log&logNo=222323597331',\n",
       " 'https://blog.naver.com/compass7979?Redirect=Log&logNo=222338858738',\n",
       " 'https://blog.naver.com/ae741963?Redirect=Log&logNo=222319762717',\n",
       " 'https://blog.naver.com/feel_good_j?Redirect=Log&logNo=222313073865',\n",
       " 'https://blog.naver.com/arumdri450?Redirect=Log&logNo=222317178530',\n",
       " 'https://blog.naver.com/naneknanek?Redirect=Log&logNo=222342794710',\n",
       " 'https://blog.naver.com/khn8917?Redirect=Log&logNo=222314779585',\n",
       " 'https://blog.naver.com/3768446?Redirect=Log&logNo=222313306612',\n",
       " 'https://blog.naver.com/dbswl8878?Redirect=Log&logNo=222339051436',\n",
       " 'https://blog.naver.com/onlyhw2?Redirect=Log&logNo=222278445482',\n",
       " 'https://blog.naver.com/ae741963?Redirect=Log&logNo=222280147791',\n",
       " 'https://blog.naver.com/anjanjajaj?Redirect=Log&logNo=222255882877',\n",
       " 'https://blog.naver.com/vkmjv86?Redirect=Log&logNo=222317215117',\n",
       " 'https://blog.naver.com/jjmmyy0930?Redirect=Log&logNo=222319506069',\n",
       " 'https://blog.naver.com/onlyhw2?Redirect=Log&logNo=222290332513',\n",
       " 'https://blog.naver.com/dmisg?Redirect=Log&logNo=222321442726',\n",
       " 'https://blog.naver.com/hama2218?Redirect=Log&logNo=222330113406',\n",
       " 'https://blog.naver.com/officer34?Redirect=Log&logNo=222320900390',\n",
       " 'https://blog.naver.com/charisma585?Redirect=Log&logNo=222350663026',\n",
       " 'https://blog.naver.com/ae741963?Redirect=Log&logNo=222287285278',\n",
       " 'https://blog.naver.com/rlawndud1541?Redirect=Log&logNo=222248884655',\n",
       " 'https://blog.naver.com/i2dream?Redirect=Log&logNo=222294245652',\n",
       " 'https://blog.naver.com/arta99?Redirect=Log&logNo=222347188827',\n",
       " 'https://blog.naver.com/lovemc123?Redirect=Log&logNo=222323284189',\n",
       " 'https://blog.naver.com/compass7979?Redirect=Log&logNo=222264387039',\n",
       " 'https://blog.naver.com/vhdkdl?Redirect=Log&logNo=222339359110',\n",
       " 'https://blog.naver.com/hyaft88?Redirect=Log&logNo=222352161914',\n",
       " 'https://blog.naver.com/ajw9508?Redirect=Log&logNo=222323542473',\n",
       " 'https://blog.naver.com/dusdn0905?Redirect=Log&logNo=222271454506',\n",
       " 'https://blog.naver.com/effortbs?Redirect=Log&logNo=222345080308',\n",
       " 'https://blog.naver.com/labender79?Redirect=Log&logNo=222352165714',\n",
       " 'https://blog.daum.net/csmsjy/7092944',\n",
       " 'https://blog.naver.com/chy2642?Redirect=Log&logNo=222350584706',\n",
       " 'https://blog.naver.com/an2120?Redirect=Log&logNo=222354073348',\n",
       " 'https://blog.naver.com/wlguis12?Redirect=Log&logNo=222353298342',\n",
       " 'https://blog.naver.com/richu11?Redirect=Log&logNo=222351172532',\n",
       " 'https://blog.naver.com/heodang0908?Redirect=Log&logNo=222349414076',\n",
       " 'https://blog.naver.com/compass7979?Redirect=Log&logNo=222318006515',\n",
       " 'https://blog.naver.com/kwangii?Redirect=Log&logNo=222286851238',\n",
       " 'https://blog.naver.com/wjdwjwjd?Redirect=Log&logNo=222304696836',\n",
       " 'https://blog.naver.com/hyungja1759?Redirect=Log&logNo=222351666534',\n",
       " 'https://blog.naver.com/bongni25?Redirect=Log&logNo=222350542732',\n",
       " 'https://blog.naver.com/chu111333?Redirect=Log&logNo=222353288600',\n",
       " 'https://blog.naver.com/polaris60102?Redirect=Log&logNo=222347524933',\n",
       " 'https://blog.naver.com/jo3962?Redirect=Log&logNo=222342910150',\n",
       " 'https://blog.naver.com/tnrud0870?Redirect=Log&logNo=222322440361',\n",
       " 'https://blog.naver.com/hae4257?Redirect=Log&logNo=222354054366',\n",
       " 'https://blog.naver.com/ya88462?Redirect=Log&logNo=222302646055',\n",
       " 'https://blog.naver.com/tnrud0870?Redirect=Log&logNo=222287398666',\n",
       " 'https://blog.naver.com/compass7979?Redirect=Log&logNo=222308706194',\n",
       " 'https://blog.naver.com/kkong_89?Redirect=Log&logNo=222351083700',\n",
       " 'https://blog.naver.com/wlsl_kim?Redirect=Log&logNo=222340545296',\n",
       " 'https://blog.naver.com/djmanul?Redirect=Log&logNo=222257221107',\n",
       " 'https://blog.naver.com/ohuj33?Redirect=Log&logNo=222348459848',\n",
       " 'https://blog.naver.com/gykim67?Redirect=Log&logNo=222344348704',\n",
       " 'https://blog.naver.com/kkw13096?Redirect=Log&logNo=222347342311',\n",
       " 'https://blog.naver.com/gykim67?Redirect=Log&logNo=222340866469',\n",
       " 'https://blog.naver.com/surgepikachu?Redirect=Log&logNo=222351781194',\n",
       " 'https://blog.naver.com/rladbgus8252?Redirect=Log&logNo=222353278727',\n",
       " 'https://blog.naver.com/taeheekkim?Redirect=Log&logNo=222350571482',\n",
       " 'https://blog.naver.com/prince0198?Redirect=Log&logNo=222333771845',\n",
       " 'https://blog.naver.com/koogo8489?Redirect=Log&logNo=222346422345',\n",
       " 'https://blog.naver.com/hhslover1?Redirect=Log&logNo=222260943152',\n",
       " 'https://blog.naver.com/keke8748?Redirect=Log&logNo=222349430341',\n",
       " 'https://blog.naver.com/ekduadl910?Redirect=Log&logNo=222353708724',\n",
       " 'https://blog.naver.com/alzkdpf22?Redirect=Log&logNo=222352562485',\n",
       " 'https://blog.naver.com/dltnqls0828?Redirect=Log&logNo=222349220579',\n",
       " 'https://blog.naver.com/chiowoori?Redirect=Log&logNo=222347913659',\n",
       " 'https://blog.naver.com/5op2u2hr6?Redirect=Log&logNo=222341456209',\n",
       " 'https://blog.naver.com/ljyjy9?Redirect=Log&logNo=222329841334',\n",
       " 'https://blog.naver.com/05hana27?Redirect=Log&logNo=222350034375',\n",
       " 'https://blog.naver.com/entz94?Redirect=Log&logNo=222291991616',\n",
       " 'https://blog.naver.com/hae4257?Redirect=Log&logNo=222351424728',\n",
       " 'https://blog.naver.com/ekekek4121?Redirect=Log&logNo=222349019695',\n",
       " 'https://blog.naver.com/solomonstudy?Redirect=Log&logNo=222344772368',\n",
       " 'https://blog.naver.com/hee_story521?Redirect=Log&logNo=222349473895',\n",
       " 'https://blog.naver.com/syuu7877?Redirect=Log&logNo=222353200278',\n",
       " 'https://blog.naver.com/seonzzang12?Redirect=Log&logNo=222312230968',\n",
       " 'https://blog.naver.com/kite0224?Redirect=Log&logNo=222347243130',\n",
       " 'https://blog.naver.com/dbsk970126?Redirect=Log&logNo=222353277740',\n",
       " 'https://blog.naver.com/kwonheyoung?Redirect=Log&logNo=222340729306',\n",
       " 'https://blog.naver.com/koscandle?Redirect=Log&logNo=222250183090',\n",
       " 'https://blog.naver.com/suj0246?Redirect=Log&logNo=222345121448',\n",
       " 'https://blog.naver.com/kkastj?Redirect=Log&logNo=222333446712',\n",
       " 'https://blog.naver.com/totoro8737?Redirect=Log&logNo=222345378587',\n",
       " 'https://blog.naver.com/somi8605?Redirect=Log&logNo=222351893414',\n",
       " 'https://blog.naver.com/ssy989848?Redirect=Log&logNo=222348280747',\n",
       " 'https://blog.naver.com/wlthf4267?Redirect=Log&logNo=222344666792',\n",
       " 'https://blog.naver.com/legojoo?Redirect=Log&logNo=222348490576',\n",
       " 'https://blog.naver.com/vkmjv86?Redirect=Log&logNo=222328103832',\n",
       " 'https://blog.naver.com/sy5830?Redirect=Log&logNo=222350630507',\n",
       " 'https://blog.naver.com/arta99?Redirect=Log&logNo=222325115603',\n",
       " 'https://blog.naver.com/tnrud0870?Redirect=Log&logNo=222272351229',\n",
       " 'https://blog.naver.com/somi8605?Redirect=Log&logNo=222353024466',\n",
       " 'https://blog.naver.com/lego8053?Redirect=Log&logNo=222340688566',\n",
       " 'https://blog.naver.com/dbqhfka518?Redirect=Log&logNo=222346207929',\n",
       " 'https://blog.naver.com/wldms1738?Redirect=Log&logNo=222348310297',\n",
       " 'https://blog.naver.com/kangjun777?Redirect=Log&logNo=222348920947',\n",
       " 'https://blog.naver.com/sic0713?Redirect=Log&logNo=222349034207',\n",
       " 'https://blog.naver.com/seonzzang12?Redirect=Log&logNo=222266347352',\n",
       " 'https://blog.naver.com/arta99?Redirect=Log&logNo=222322142845',\n",
       " 'https://blog.naver.com/wlguis12?Redirect=Log&logNo=222349334485',\n",
       " 'https://blog.naver.com/pro1360?Redirect=Log&logNo=222333412091',\n",
       " 'https://blog.naver.com/kdrug21?Redirect=Log&logNo=222348610997',\n",
       " 'https://blog.naver.com/cchhoo0907?Redirect=Log&logNo=222338678822',\n",
       " 'https://blog.naver.com/euunsu?Redirect=Log&logNo=222345079906',\n",
       " 'https://blog.naver.com/bambini925kr?Redirect=Log&logNo=222347114375',\n",
       " 'https://blog.naver.com/pro1360?Redirect=Log&logNo=222342834618',\n",
       " 'https://blog.naver.com/wlguis12?Redirect=Log&logNo=222342446787',\n",
       " 'https://blog.naver.com/go4349?Redirect=Log&logNo=222344352736',\n",
       " 'https://blog.naver.com/hama2218?Redirect=Log&logNo=222344785398',\n",
       " 'https://blog.naver.com/arta99?Redirect=Log&logNo=222318443716',\n",
       " 'https://blog.naver.com/st5010?Redirect=Log&logNo=222349468071',\n",
       " 'https://blog.naver.com/qktiqkti4865?Redirect=Log&logNo=222261841626']"
      ]
     },
     "execution_count": 25,
     "metadata": {},
     "output_type": "execute_result"
    }
   ],
   "source": [
    "url_list"
   ]
  },
  {
   "cell_type": "code",
   "execution_count": 26,
   "metadata": {},
   "outputs": [
    {
     "data": {
      "text/plain": [
       "['원탑인 대전 맛집 리스트',\n",
       " '입이 호강한 대전 맛집 소개',\n",
       " '구수했던 대전 맛집 모음',\n",
       " '강렬했던 # 대전 맛집 모음',\n",
       " '꼭 가봐야할 대전 맛집 리스트',\n",
       " '식욕 폭발했던 대전 맛집 리스트',\n",
       " '깜짝놀랠 대전 맛집',\n",
       " '[곱창맛집 & 대전맛집 - 군자대한곱창 대전엑스포점]',\n",
       " '자꾸 생각나는 대전 맛집 모음',\n",
       " '정성이 깃든 대전맛집 공유',\n",
       " '임팩트 대단한 대전 맛집 리스트',\n",
       " '대전 맛집 신탄진 구미횟집에서 참치 후기',\n",
       " '단골이된 대전 맛집 모음',\n",
       " '초밥이 맛있는 대전맛집',\n",
       " \"대전 맛집 '현대식당', 대흥동 닭볶음탕 노포 맛집\",\n",
       " '대전 대흥동 맛집... 감성 데이트 맛집으로도 너무좋은 대전맛집',\n",
       " '대전맛집 대동오거리 신선칼국수 매장 후기 + 배달 후기',\n",
       " '대전 맛집 애슐리퀸즈 집에서 즐기는 홈파티음식 방문포장',\n",
       " '대전맛집 대게요리맛집 크래버대게나라둔산점 가성비 짱',\n",
       " '대전맛집)서대전역맛집 소담회',\n",
       " '[대전맛집/유성구맛집]잡내 없는 양고기를 다양한 식감과 깊은...',\n",
       " '대전 맛집 반찬이 푸짐한 월평동 태능돌삼겹',\n",
       " '명랑식당,삼성동맛집,대전맛집,육개장맛집',\n",
       " \"(대전맛집) 대전 육사시미 맛집 '태평소국밥'\",\n",
       " '신성막국수 , 내가 찾던 대전 맛집 ㅠㅠ',\n",
       " '선화동맛집, 대성집, since 1974 전통의 대전맛집',\n",
       " '대전 맛집 @포트 키친(port kitchen) 신상 맛집 대만족♥',\n",
       " '대전 맛집 ㅣ 광천식당 오징어 두루치기, 칼국수 ♥',\n",
       " '갈마동 족발 맛집, 레트로 분위기 물씬풍기는 대전맛집 대광족',\n",
       " '#대전맛집 탄방동 대만음식점<바오바뮐러>',\n",
       " '대전맛집 보문산 반찬식당 보리밥 (feat. 씨앗호떡)',\n",
       " '[대전 광천식당] 두부두루치기... 오징어두루치기/대전맛집',\n",
       " \"대전 맛집 - '서울촌놈' 추천 맛집 천복순대국밥\",\n",
       " '[대전맛집] 내돈내산/ 광천식당 두부두루치기&수육',\n",
       " \"식객 허영만의 백반기행 대전 맛집 '진로집' 두부두루치기\",\n",
       " '현주민이 찾는 대전맛집 태평소국밥',\n",
       " '대전맛집 한남대맛집 신화신가네매운떡볶이 배달 후기',\n",
       " '뜨끈한 대전 맛집 리스트 3 국밥 먹으러 고고!',\n",
       " '대전 맛집 예담추어정 추어탕 그대로 담았습니다. 유명 맛집...',\n",
       " '대전 맛집 꼭 가야하는 식당 대선칼국수',\n",
       " '[대전 맛집]영롱그자체˚✧₊⁎❝᷀ົཽ≀ˍ̮...',\n",
       " '[대전 맛집의 정석 1탄] 담양애떡갈비(돼지갈비), 커피땅거미...',\n",
       " '대전 맛집 산밑할머니 묵밥&보리밥 먹방후기',\n",
       " '대전맛집 - 할매 옹심이 메밀 칼국수 & 메밀회막국수',\n",
       " '[세종시 맛집/대전 맛집] 세종복칼국수(구,세종면옥)',\n",
       " '복사꽃피는집 대전점 낙지볶음 & 고르곤졸라 ft. 대전맛집...',\n",
       " '대전 맛집 복사꽃피는집 쭈꾸미볶음',\n",
       " '#대전맛집 용전동 <논골집 대전점>',\n",
       " '[대전 맛집] 흑산도회',\n",
       " '대전맛집 대흥동맛집 석갈비 월산본가',\n",
       " '대전 맛집 스마일 찹쌀 꽈배기 팥고로케 치즈고로케 벤토...',\n",
       " '[대전밥집]두부두루치기 대전맛집 진로집',\n",
       " '대전맛집\"힘내라고\" 편리한전기로스타설치',\n",
       " '[대전 맛집] 오씨칼국수 - 물총과 칼국수 맛집!',\n",
       " '대전맛집 : 중구 오류동 서대전역앞 일품교동짬뽕 ~♪',\n",
       " '대전 맛집 둔산동 60년전통 대선칼국수',\n",
       " '대전맛집, 유성구맛집, 봉명동맛집, 만나한우복수집',\n",
       " '대전맛집 대전 슈바인학센 이태리다홍',\n",
       " '[대전 맛집] 유성 레스토랑 3MK',\n",
       " '대전맛집♪ 유성 태평소국밥 따로국밥 맛있어요 엄지척',\n",
       " '대전 맛집 꽁뚜',\n",
       " \"대전 맛집ㅣ'신선한우마을' 한우 소고기 가수원동 맛집\",\n",
       " '대전 성심당♪ 성심당 롯데백화점대전점 대전맛집 성심당...',\n",
       " '[대전맛집] 대전역 원동 물총 칼국수 맛집 : 오씨칼국수',\n",
       " '대전맛집추천 비래키키',\n",
       " '#대전맛집 탄방동 베트남음식점<아시안탄방>',\n",
       " '[대전 맛집] 앨리스스프링스, 만년동 브런치 카페',\n",
       " '대전맛집, 서구맛집, 갈마동맛집, 한우맛집, 꽃한우',\n",
       " '#대전맛집 자양동 포트<PORT>',\n",
       " '대전맛집, 오리수육/오리탕이... 감나무집 (서울촌놈 박세리 맛집)',\n",
       " '대전맛집 한멘뚝배기',\n",
       " '대전 맛집 궁동 Ato 고등어봉초밥 + 국가대표 챔피언 김사홍...',\n",
       " '[대전맛집] 가격도 착한데 맛도 있는 괴곡동 맛집 장수오리...',\n",
       " '[대전맛집] 대전 대흥동 맛집, 동원식당 황태해장국 (21.03.31)',\n",
       " '[대전 맛집]화덕피자계의 전국구 맛집이라는 피제리아 다알리...',\n",
       " \"대전 맛집ㅣ유성 '아웃백' 스테이크 하우스, 블랙라벨 셰프...\",\n",
       " '#대전맛집 은행동 <소싯적>',\n",
       " '대전맛집 봉명동맛집 대손관 후기',\n",
       " '[대전맛집] 어두리',\n",
       " '대전 맛집 제가 여러분들에게 보여드리고 싶은 곳',\n",
       " \"대전 맛집ㅣ둔산동 '대선칼국수' 두부두루치기 칼국수 맛집\",\n",
       " '[대전 정식당] 닭볶음탕... 골목맛집/대전맛집추천/노포본점',\n",
       " '봉봉원,중국집봉봉원,양장피가맛있는곳봉봉원,대전맛집,중구맛집',\n",
       " '[대전맛집/현충원맛집]감칠맛 나는 양념과 불맛이 일품이...',\n",
       " '트라이엄프 로켓3 대전맛집 서울갈비집 추천!',\n",
       " '#대전맛집 은행동 <동그라미>',\n",
       " '<대전맛집,통닭맛집> 대전 탄방동 부여통닭, 창민아...',\n",
       " '솔밭 묵집, 닭볶음탕 맛집, 대전 맛집, 신탄진 맛집',\n",
       " '[대전맛집]테판마루(feat.철판요리),자작나무',\n",
       " '대전 맛집: 광천식당',\n",
       " '대전맛집, 유성구맛집, 노은동맛집, 쭈꾸미맛집, 신화수산',\n",
       " '대전 맛집 태화원',\n",
       " '대전맛집 강변식당 닭발 돼지두루치기맛집 맛도 좋고 가성비도...',\n",
       " '대전맛집 대젓소머리국밥 칭찬해',\n",
       " '대전 맛집 이차돌 차돌삼겹 해산물몽땅 쫄면',\n",
       " '대전 유성 구스바베큐, 대전맛집',\n",
       " '대전 맛집, 가수원동 맛집 \"찜해가\" (해물찜/아구찜/대구뽈찜)',\n",
       " '추 억 찾아 간 대전 맛집 == 얼큰 칼칼한 방일해장국',\n",
       " '다시 찾아간 대전 맛집 / 광천식당 / 대전 매운 오징어두루치기',\n",
       " '대전탄방동맛집/대전 맛집 :: 바오바뮐러 대만레스토랑',\n",
       " '[대전맛집] 대전 가양동맛집 24시 이바돔 감자탕집 후기',\n",
       " '[대전맛집] 유성구 궁동 덮밥 맛집 AB마요 에비마요',\n",
       " '대전 맛집 - 삼유제면소',\n",
       " '대전맛집, 동구맛집, 가양동맛집, 생대구탕맛집, 예성활어회',\n",
       " '대전맛집(진짜) - 태평소국밥',\n",
       " '대전맛집 진로집 두부두루치기랑 수육이 존맛탱',\n",
       " '대전맛집/불맛나는 낙지볶음이 밥+국수까지 10,000원?',\n",
       " '[대전 맛집]만년동 맛집, 담양애떡갈비',\n",
       " '내가 가장 좋아하는 대전 맛집 리스트',\n",
       " '대전 맛집 가득한 오문창순대국밥',\n",
       " '대전 맛집 라임키친',\n",
       " '대전가볼만한곳,대전카페,대전맛집,대전데이트추천',\n",
       " '[대전맛집] 한민시장맛집 노블레스김밥',\n",
       " '대전 맛집 산성동 전집 또 올래',\n",
       " '대전디저트카페,대전햇살맛집,대전가볼만한곳,대전맛집',\n",
       " '대전맛집, 유성구맛집, 노은동맛집, 짬뽕맛집, 요기루',\n",
       " '대전맛집 : 현대식당, 닭도리탕맛집◡̈',\n",
       " '대전맛집 수타우동전문점 토미야',\n",
       " '마늘의 맛집탐방 대구맛집, 대전맛집 프리뷰 (부제 맛술신잡)',\n",
       " '[대전맛집] 카라멜 밀키트 후기',\n",
       " '[대전맛집] 소제동 이탈리아레스토랑 - 파운드(FOUND)',\n",
       " '대전맛집 오징어 어때 내돈내산 솔직후기',\n",
       " '[대전맛집] 해물요리&활어회전문점 - 바다황제',\n",
       " '[대전맛집/선화동맛집] 너그집',\n",
       " '[대전 맛집]써브웨이 대전관저점 : 써브웨이는 역시 에그마요',\n",
       " '대전 맛집 잔치국수가 맛있었던 국수집',\n",
       " '대전 맛집 코리아나 양대창',\n",
       " '대전맛집베스트 탄방동 밥집 명태마을',\n",
       " '대전맛집 광천식당',\n",
       " '대전맛집;계족산 두부전골(매봉식당)',\n",
       " '앵갤지수 높여주는 대전 맛집 추천[칸 Khan 스테이크하우스]',\n",
       " '[도룡동맛집] 대전맛집 다로갈비 엑스포점 강추',\n",
       " '갈마동 릴리쉬 / 대전맛집, 갈마동맛집',\n",
       " '대전 맛집_가오동 돈돈 숯붗구이',\n",
       " '대전맛집 옛날 느낌 그대로 한양분식에서',\n",
       " '[대전맛집] 둔산동 떡반집',\n",
       " '[대전맛집]관저동 마치광장 찜닭 맛집 안녕, 닭',\n",
       " \"칼칼한게 땡길적이면 늘 가는 대전 맛집 '착한낙지'\",\n",
       " '[대전맛집] 신탄진맛집 울대찌개 찌글이짜글이',\n",
       " '<대전 맛집>봉명동 \"봉명생갈비\"',\n",
       " '대전맛집 라멘히로시에서 간단하게 한 끼!',\n",
       " '대전맛집_갈마동 술집 \"김신문1993\"',\n",
       " \"[대전 맛집] 속이 꽉 찬 만두가 맛있었던 '홍룡수제만두 비래점'\",\n",
       " '대전맛집 추천 : 판암동 맛집 대전밀면 가성비 +맛 대박♡',\n",
       " '대전 맛집 추천 : 신성동 큰길식당 백반',\n",
       " \"[대전 맛집] 둔산동 두부두루치기 칼국수 맛집 '대선칼국수'\",\n",
       " '[대전맛집] 도안동 / 가수원동 맛집 “배불러 돈까스”',\n",
       " '이모님좋았던 대전맛집-별난집/두부두루치기',\n",
       " '[대전맛집] 관저동 김밥 맛집 ‘다보김밥’',\n",
       " '대전 맛집추천 ‘르몽탁’',\n",
       " '대전맛집- 유성맛집 차이니스레스토랑 진신',\n",
       " '대전맛집 스파게띠 리조또 파스타맛집 보문산호랭이',\n",
       " '[대전맛집56] 싱글벙글복어 둔산본점',\n",
       " '[대전맛집] 카츠고메이/탄방동맛집',\n",
       " '[대전맛집/대전카페] #이이디에스프레소바 #대추나무칼국수',\n",
       " '[대전맛집/대전현대프리미엄아울렛]온더보더',\n",
       " '대전맛집 산내맛집 산내돌짜장',\n",
       " '[대전맛집]이설옥(feat.진주냉면)',\n",
       " '대전가볼만한곳,대전맛집,대전디저트맛집,대전크로플맛집...',\n",
       " '뜨끈한 미니화로 소고기 대전 맛집 은행동 고베 규카츠',\n",
       " '[대전맛집/통영카페] #리코타코 #십사점삼도',\n",
       " '대전맛집술집 *산성동 새마을주점*',\n",
       " '어은동카페 어은동맛집 | 우디룸 Woodi room 대전맛집',\n",
       " \"대전맛집 도룡동쌀국수맛집 '가남지'\",\n",
       " '대전맛집 돼지김치구이 때론 삼겹살보단 달콤짭쪼름한...',\n",
       " '[ 대전맛집 / 삼성동 ] 할머니가 애정하는 손칼국수 현지인맛집...',\n",
       " '[대전맛집]테판마루(feat.철판요리)',\n",
       " '[대전맛집] 관평동 곱창고 소곱창맛집 추천!(Feat 5번은...',\n",
       " '[대전맛집] 최애곱창 월평동 \"다래곱창\"',\n",
       " '대전맛집 삼겹살집 동창',\n",
       " '대전맛집 보리고개칼국수',\n",
       " '[대전 맛집] 궁동 딤섬 맛집, 샤오롱바오 면식관 만화쉔',\n",
       " '[대전맛집/대전한우맛집/유성한우] 뜨랑한우 노은 본점...',\n",
       " '[대전맛집] 초밥이 먹고 싶을 땐 봉명동 \"스시유이\"',\n",
       " '[대전맛집] 은행동 아저씨돈까스 오랜만에 다녀온 후기!',\n",
       " '대전맛집 선화동맛집 두부두루치기맛집 광천식당',\n",
       " '한영식당,대전한영식당,대전닭도리탕맛집,대전맛집...',\n",
       " '[대전맛집]뜨랑한우',\n",
       " '[대전맛집] 원신흥동 분위기 좋은 이태리 식당 | 빛나',\n",
       " '대전맛집 대전물총칼국수 맛집 오씨칼국수 본점']"
      ]
     },
     "execution_count": 26,
     "metadata": {},
     "output_type": "execute_result"
    }
   ],
   "source": [
    "title_list"
   ]
  },
  {
   "cell_type": "code",
   "execution_count": 27,
   "metadata": {},
   "outputs": [
    {
     "data": {
      "text/html": [
       "<div>\n",
       "<style scoped>\n",
       "    .dataframe tbody tr th:only-of-type {\n",
       "        vertical-align: middle;\n",
       "    }\n",
       "\n",
       "    .dataframe tbody tr th {\n",
       "        vertical-align: top;\n",
       "    }\n",
       "\n",
       "    .dataframe thead th {\n",
       "        text-align: right;\n",
       "    }\n",
       "</style>\n",
       "<table border=\"1\" class=\"dataframe\">\n",
       "  <thead>\n",
       "    <tr style=\"text-align: right;\">\n",
       "      <th></th>\n",
       "      <th>url</th>\n",
       "      <th>title</th>\n",
       "    </tr>\n",
       "  </thead>\n",
       "  <tbody>\n",
       "    <tr>\n",
       "      <th>0</th>\n",
       "      <td>https://blog.naver.com/nolamanal?Redirect=Log&amp;...</td>\n",
       "      <td>원탑인 대전 맛집 리스트</td>\n",
       "    </tr>\n",
       "    <tr>\n",
       "      <th>1</th>\n",
       "      <td>https://blog.naver.com/lala1010?Redirect=Log&amp;l...</td>\n",
       "      <td>입이 호강한 대전 맛집 소개</td>\n",
       "    </tr>\n",
       "    <tr>\n",
       "      <th>2</th>\n",
       "      <td>https://blog.naver.com/jinmylove?Redirect=Log&amp;...</td>\n",
       "      <td>구수했던 대전 맛집 모음</td>\n",
       "    </tr>\n",
       "    <tr>\n",
       "      <th>3</th>\n",
       "      <td>https://blog.naver.com/jin3641?Redirect=Log&amp;lo...</td>\n",
       "      <td>강렬했던 # 대전 맛집 모음</td>\n",
       "    </tr>\n",
       "    <tr>\n",
       "      <th>4</th>\n",
       "      <td>https://blog.naver.com/sooya1127?Redirect=Log&amp;...</td>\n",
       "      <td>꼭 가봐야할 대전 맛집 리스트</td>\n",
       "    </tr>\n",
       "    <tr>\n",
       "      <th>...</th>\n",
       "      <td>...</td>\n",
       "      <td>...</td>\n",
       "    </tr>\n",
       "    <tr>\n",
       "      <th>175</th>\n",
       "      <td>https://blog.naver.com/go4349?Redirect=Log&amp;log...</td>\n",
       "      <td>대전맛집 선화동맛집 두부두루치기맛집 광천식당</td>\n",
       "    </tr>\n",
       "    <tr>\n",
       "      <th>176</th>\n",
       "      <td>https://blog.naver.com/hama2218?Redirect=Log&amp;l...</td>\n",
       "      <td>한영식당,대전한영식당,대전닭도리탕맛집,대전맛집...</td>\n",
       "    </tr>\n",
       "    <tr>\n",
       "      <th>177</th>\n",
       "      <td>https://blog.naver.com/arta99?Redirect=Log&amp;log...</td>\n",
       "      <td>[대전맛집]뜨랑한우</td>\n",
       "    </tr>\n",
       "    <tr>\n",
       "      <th>178</th>\n",
       "      <td>https://blog.naver.com/st5010?Redirect=Log&amp;log...</td>\n",
       "      <td>[대전맛집] 원신흥동 분위기 좋은 이태리 식당 | 빛나</td>\n",
       "    </tr>\n",
       "    <tr>\n",
       "      <th>179</th>\n",
       "      <td>https://blog.naver.com/qktiqkti4865?Redirect=L...</td>\n",
       "      <td>대전맛집 대전물총칼국수 맛집 오씨칼국수 본점</td>\n",
       "    </tr>\n",
       "  </tbody>\n",
       "</table>\n",
       "<p>180 rows × 2 columns</p>\n",
       "</div>"
      ],
      "text/plain": [
       "                                                   url  \\\n",
       "0    https://blog.naver.com/nolamanal?Redirect=Log&...   \n",
       "1    https://blog.naver.com/lala1010?Redirect=Log&l...   \n",
       "2    https://blog.naver.com/jinmylove?Redirect=Log&...   \n",
       "3    https://blog.naver.com/jin3641?Redirect=Log&lo...   \n",
       "4    https://blog.naver.com/sooya1127?Redirect=Log&...   \n",
       "..                                                 ...   \n",
       "175  https://blog.naver.com/go4349?Redirect=Log&log...   \n",
       "176  https://blog.naver.com/hama2218?Redirect=Log&l...   \n",
       "177  https://blog.naver.com/arta99?Redirect=Log&log...   \n",
       "178  https://blog.naver.com/st5010?Redirect=Log&log...   \n",
       "179  https://blog.naver.com/qktiqkti4865?Redirect=L...   \n",
       "\n",
       "                              title  \n",
       "0                     원탑인 대전 맛집 리스트  \n",
       "1                   입이 호강한 대전 맛집 소개  \n",
       "2                     구수했던 대전 맛집 모음  \n",
       "3                   강렬했던 # 대전 맛집 모음  \n",
       "4                  꼭 가봐야할 대전 맛집 리스트  \n",
       "..                              ...  \n",
       "175        대전맛집 선화동맛집 두부두루치기맛집 광천식당  \n",
       "176    한영식당,대전한영식당,대전닭도리탕맛집,대전맛집...  \n",
       "177                      [대전맛집]뜨랑한우  \n",
       "178  [대전맛집] 원신흥동 분위기 좋은 이태리 식당 | 빛나  \n",
       "179        대전맛집 대전물총칼국수 맛집 오씨칼국수 본점  \n",
       "\n",
       "[180 rows x 2 columns]"
      ]
     },
     "execution_count": 27,
     "metadata": {},
     "output_type": "execute_result"
    }
   ],
   "source": [
    "df = pd.DataFrame({'url':url_list, 'title':title_list})\n",
    "df"
   ]
  },
  {
   "cell_type": "code",
   "execution_count": 28,
   "metadata": {},
   "outputs": [
    {
     "data": {
      "text/plain": [
       "'/Users/jisookwon/Documents/크롤링/네이버블로그 '"
      ]
     },
     "execution_count": 28,
     "metadata": {},
     "output_type": "execute_result"
    }
   ],
   "source": [
    "pwd"
   ]
  },
  {
   "cell_type": "code",
   "execution_count": 29,
   "metadata": {},
   "outputs": [],
   "source": [
    "# 저장하기\n",
    "df.to_excel(\"blog_url.xlsx\")"
   ]
  },
  {
   "cell_type": "markdown",
   "metadata": {},
   "source": [
    "# 블로그 내용 크롤링하기"
   ]
  },
  {
   "cell_type": "code",
   "execution_count": 30,
   "metadata": {},
   "outputs": [],
   "source": [
    "import sys\n",
    "import os\n",
    "import pandas as pd\n",
    "import numpy as np"
   ]
  },
  {
   "cell_type": "code",
   "execution_count": 31,
   "metadata": {
    "scrolled": true
   },
   "outputs": [
    {
     "name": "stdout",
     "output_type": "stream",
     "text": [
      "180\n"
     ]
    },
    {
     "data": {
      "text/html": [
       "<div>\n",
       "<style scoped>\n",
       "    .dataframe tbody tr th:only-of-type {\n",
       "        vertical-align: middle;\n",
       "    }\n",
       "\n",
       "    .dataframe tbody tr th {\n",
       "        vertical-align: top;\n",
       "    }\n",
       "\n",
       "    .dataframe thead th {\n",
       "        text-align: right;\n",
       "    }\n",
       "</style>\n",
       "<table border=\"1\" class=\"dataframe\">\n",
       "  <thead>\n",
       "    <tr style=\"text-align: right;\">\n",
       "      <th></th>\n",
       "      <th>Unnamed: 0</th>\n",
       "      <th>url</th>\n",
       "      <th>title</th>\n",
       "    </tr>\n",
       "  </thead>\n",
       "  <tbody>\n",
       "    <tr>\n",
       "      <th>0</th>\n",
       "      <td>0</td>\n",
       "      <td>https://blog.naver.com/nolamanal?Redirect=Log&amp;...</td>\n",
       "      <td>원탑인 대전 맛집 리스트</td>\n",
       "    </tr>\n",
       "    <tr>\n",
       "      <th>1</th>\n",
       "      <td>1</td>\n",
       "      <td>https://blog.naver.com/lala1010?Redirect=Log&amp;l...</td>\n",
       "      <td>입이 호강한 대전 맛집 소개</td>\n",
       "    </tr>\n",
       "    <tr>\n",
       "      <th>2</th>\n",
       "      <td>2</td>\n",
       "      <td>https://blog.naver.com/jinmylove?Redirect=Log&amp;...</td>\n",
       "      <td>구수했던 대전 맛집 모음</td>\n",
       "    </tr>\n",
       "    <tr>\n",
       "      <th>3</th>\n",
       "      <td>3</td>\n",
       "      <td>https://blog.naver.com/jin3641?Redirect=Log&amp;lo...</td>\n",
       "      <td>강렬했던 # 대전 맛집 모음</td>\n",
       "    </tr>\n",
       "    <tr>\n",
       "      <th>4</th>\n",
       "      <td>4</td>\n",
       "      <td>https://blog.naver.com/sooya1127?Redirect=Log&amp;...</td>\n",
       "      <td>꼭 가봐야할 대전 맛집 리스트</td>\n",
       "    </tr>\n",
       "    <tr>\n",
       "      <th>...</th>\n",
       "      <td>...</td>\n",
       "      <td>...</td>\n",
       "      <td>...</td>\n",
       "    </tr>\n",
       "    <tr>\n",
       "      <th>175</th>\n",
       "      <td>175</td>\n",
       "      <td>https://blog.naver.com/go4349?Redirect=Log&amp;log...</td>\n",
       "      <td>대전맛집 선화동맛집 두부두루치기맛집 광천식당</td>\n",
       "    </tr>\n",
       "    <tr>\n",
       "      <th>176</th>\n",
       "      <td>176</td>\n",
       "      <td>https://blog.naver.com/hama2218?Redirect=Log&amp;l...</td>\n",
       "      <td>한영식당,대전한영식당,대전닭도리탕맛집,대전맛집...</td>\n",
       "    </tr>\n",
       "    <tr>\n",
       "      <th>177</th>\n",
       "      <td>177</td>\n",
       "      <td>https://blog.naver.com/arta99?Redirect=Log&amp;log...</td>\n",
       "      <td>[대전맛집]뜨랑한우</td>\n",
       "    </tr>\n",
       "    <tr>\n",
       "      <th>178</th>\n",
       "      <td>178</td>\n",
       "      <td>https://blog.naver.com/st5010?Redirect=Log&amp;log...</td>\n",
       "      <td>[대전맛집] 원신흥동 분위기 좋은 이태리 식당 | 빛나</td>\n",
       "    </tr>\n",
       "    <tr>\n",
       "      <th>179</th>\n",
       "      <td>179</td>\n",
       "      <td>https://blog.naver.com/qktiqkti4865?Redirect=L...</td>\n",
       "      <td>대전맛집 대전물총칼국수 맛집 오씨칼국수 본점</td>\n",
       "    </tr>\n",
       "  </tbody>\n",
       "</table>\n",
       "<p>180 rows × 3 columns</p>\n",
       "</div>"
      ],
      "text/plain": [
       "     Unnamed: 0                                                url  \\\n",
       "0             0  https://blog.naver.com/nolamanal?Redirect=Log&...   \n",
       "1             1  https://blog.naver.com/lala1010?Redirect=Log&l...   \n",
       "2             2  https://blog.naver.com/jinmylove?Redirect=Log&...   \n",
       "3             3  https://blog.naver.com/jin3641?Redirect=Log&lo...   \n",
       "4             4  https://blog.naver.com/sooya1127?Redirect=Log&...   \n",
       "..          ...                                                ...   \n",
       "175         175  https://blog.naver.com/go4349?Redirect=Log&log...   \n",
       "176         176  https://blog.naver.com/hama2218?Redirect=Log&l...   \n",
       "177         177  https://blog.naver.com/arta99?Redirect=Log&log...   \n",
       "178         178  https://blog.naver.com/st5010?Redirect=Log&log...   \n",
       "179         179  https://blog.naver.com/qktiqkti4865?Redirect=L...   \n",
       "\n",
       "                              title  \n",
       "0                     원탑인 대전 맛집 리스트  \n",
       "1                   입이 호강한 대전 맛집 소개  \n",
       "2                     구수했던 대전 맛집 모음  \n",
       "3                   강렬했던 # 대전 맛집 모음  \n",
       "4                  꼭 가봐야할 대전 맛집 리스트  \n",
       "..                              ...  \n",
       "175        대전맛집 선화동맛집 두부두루치기맛집 광천식당  \n",
       "176    한영식당,대전한영식당,대전닭도리탕맛집,대전맛집...  \n",
       "177                      [대전맛집]뜨랑한우  \n",
       "178  [대전맛집] 원신흥동 분위기 좋은 이태리 식당 | 빛나  \n",
       "179        대전맛집 대전물총칼국수 맛집 오씨칼국수 본점  \n",
       "\n",
       "[180 rows x 3 columns]"
      ]
     },
     "execution_count": 31,
     "metadata": {},
     "output_type": "execute_result"
    }
   ],
   "source": [
    "# \"url_list.csv\" 불러오기\n",
    "url_load = pd.read_excel(\"blog_url.xlsx\") # 기본 모델\n",
    "\n",
    "num_list = len(url_load)\n",
    "\n",
    "print(num_list)\n",
    "url_load"
   ]
  },
  {
   "cell_type": "code",
   "execution_count": 32,
   "metadata": {
    "scrolled": true
   },
   "outputs": [
    {
     "name": "stderr",
     "output_type": "stream",
     "text": [
      "<ipython-input-32-3f8fa9f417ab>:6: TqdmDeprecationWarning: This function will be removed in tqdm==5.0.0\n",
      "Please use `tqdm.notebook.tqdm` instead of `tqdm.tqdm_notebook`\n",
      "  for i in tqdm_notebook(range(0, number)):\n"
     ]
    },
    {
     "data": {
      "application/vnd.jupyter.widget-view+json": {
       "model_id": "554b902851b642cbb2b439074792c69f",
       "version_major": 2,
       "version_minor": 0
      },
      "text/plain": [
       "  0%|          | 0/30 [00:00<?, ?it/s]"
      ]
     },
     "metadata": {},
     "output_type": "display_data"
    },
    {
     "ename": "WebDriverException",
     "evalue": "Message: 'chromedriver.exe' executable needs to be in PATH. Please see https://sites.google.com/a/chromium.org/chromedriver/home\n",
     "output_type": "error",
     "traceback": [
      "\u001b[0;31m---------------------------------------------------------------------------\u001b[0m",
      "\u001b[0;31mFileNotFoundError\u001b[0m                         Traceback (most recent call last)",
      "\u001b[0;32m/opt/anaconda3/lib/python3.8/site-packages/selenium/webdriver/common/service.py\u001b[0m in \u001b[0;36mstart\u001b[0;34m(self)\u001b[0m\n\u001b[1;32m     71\u001b[0m             \u001b[0mcmd\u001b[0m\u001b[0;34m.\u001b[0m\u001b[0mextend\u001b[0m\u001b[0;34m(\u001b[0m\u001b[0mself\u001b[0m\u001b[0;34m.\u001b[0m\u001b[0mcommand_line_args\u001b[0m\u001b[0;34m(\u001b[0m\u001b[0;34m)\u001b[0m\u001b[0;34m)\u001b[0m\u001b[0;34m\u001b[0m\u001b[0;34m\u001b[0m\u001b[0m\n\u001b[0;32m---> 72\u001b[0;31m             self.process = subprocess.Popen(cmd, env=self.env,\n\u001b[0m\u001b[1;32m     73\u001b[0m                                             \u001b[0mclose_fds\u001b[0m\u001b[0;34m=\u001b[0m\u001b[0mplatform\u001b[0m\u001b[0;34m.\u001b[0m\u001b[0msystem\u001b[0m\u001b[0;34m(\u001b[0m\u001b[0;34m)\u001b[0m \u001b[0;34m!=\u001b[0m \u001b[0;34m'Windows'\u001b[0m\u001b[0;34m,\u001b[0m\u001b[0;34m\u001b[0m\u001b[0;34m\u001b[0m\u001b[0m\n",
      "\u001b[0;32m/opt/anaconda3/lib/python3.8/subprocess.py\u001b[0m in \u001b[0;36m__init__\u001b[0;34m(self, args, bufsize, executable, stdin, stdout, stderr, preexec_fn, close_fds, shell, cwd, env, universal_newlines, startupinfo, creationflags, restore_signals, start_new_session, pass_fds, encoding, errors, text)\u001b[0m\n\u001b[1;32m    857\u001b[0m \u001b[0;34m\u001b[0m\u001b[0m\n\u001b[0;32m--> 858\u001b[0;31m             self._execute_child(args, executable, preexec_fn, close_fds,\n\u001b[0m\u001b[1;32m    859\u001b[0m                                 \u001b[0mpass_fds\u001b[0m\u001b[0;34m,\u001b[0m \u001b[0mcwd\u001b[0m\u001b[0;34m,\u001b[0m \u001b[0menv\u001b[0m\u001b[0;34m,\u001b[0m\u001b[0;34m\u001b[0m\u001b[0;34m\u001b[0m\u001b[0m\n",
      "\u001b[0;32m/opt/anaconda3/lib/python3.8/subprocess.py\u001b[0m in \u001b[0;36m_execute_child\u001b[0;34m(self, args, executable, preexec_fn, close_fds, pass_fds, cwd, env, startupinfo, creationflags, shell, p2cread, p2cwrite, c2pread, c2pwrite, errread, errwrite, restore_signals, start_new_session)\u001b[0m\n\u001b[1;32m   1705\u001b[0m                         \u001b[0merr_msg\u001b[0m \u001b[0;34m=\u001b[0m \u001b[0mos\u001b[0m\u001b[0;34m.\u001b[0m\u001b[0mstrerror\u001b[0m\u001b[0;34m(\u001b[0m\u001b[0merrno_num\u001b[0m\u001b[0;34m)\u001b[0m\u001b[0;34m\u001b[0m\u001b[0;34m\u001b[0m\u001b[0m\n\u001b[0;32m-> 1706\u001b[0;31m                     \u001b[0;32mraise\u001b[0m \u001b[0mchild_exception_type\u001b[0m\u001b[0;34m(\u001b[0m\u001b[0merrno_num\u001b[0m\u001b[0;34m,\u001b[0m \u001b[0merr_msg\u001b[0m\u001b[0;34m,\u001b[0m \u001b[0merr_filename\u001b[0m\u001b[0;34m)\u001b[0m\u001b[0;34m\u001b[0m\u001b[0;34m\u001b[0m\u001b[0m\n\u001b[0m\u001b[1;32m   1707\u001b[0m                 \u001b[0;32mraise\u001b[0m \u001b[0mchild_exception_type\u001b[0m\u001b[0;34m(\u001b[0m\u001b[0merr_msg\u001b[0m\u001b[0;34m)\u001b[0m\u001b[0;34m\u001b[0m\u001b[0;34m\u001b[0m\u001b[0m\n",
      "\u001b[0;31mFileNotFoundError\u001b[0m: [Errno 2] No such file or directory: 'chromedriver.exe'",
      "\nDuring handling of the above exception, another exception occurred:\n",
      "\u001b[0;31mWebDriverException\u001b[0m                        Traceback (most recent call last)",
      "\u001b[0;32m<ipython-input-32-3f8fa9f417ab>\u001b[0m in \u001b[0;36m<module>\u001b[0;34m\u001b[0m\n\u001b[1;32m      7\u001b[0m     \u001b[0;31m# 글 띄우기\u001b[0m\u001b[0;34m\u001b[0m\u001b[0;34m\u001b[0m\u001b[0;34m\u001b[0m\u001b[0m\n\u001b[1;32m      8\u001b[0m     \u001b[0murl\u001b[0m \u001b[0;34m=\u001b[0m \u001b[0murl_load\u001b[0m\u001b[0;34m[\u001b[0m\u001b[0;34m'url'\u001b[0m\u001b[0;34m]\u001b[0m\u001b[0;34m[\u001b[0m\u001b[0mi\u001b[0m\u001b[0;34m]\u001b[0m\u001b[0;34m\u001b[0m\u001b[0;34m\u001b[0m\u001b[0m\n\u001b[0;32m----> 9\u001b[0;31m     \u001b[0mdriver\u001b[0m \u001b[0;34m=\u001b[0m \u001b[0mwebdriver\u001b[0m\u001b[0;34m.\u001b[0m\u001b[0mChrome\u001b[0m\u001b[0;34m(\u001b[0m\u001b[0;34m\"chromedriver.exe\"\u001b[0m\u001b[0;34m)\u001b[0m  \u001b[0;31m# 윈도우는 \"chromedriver.exe\"\u001b[0m\u001b[0;34m\u001b[0m\u001b[0;34m\u001b[0m\u001b[0m\n\u001b[0m\u001b[1;32m     10\u001b[0m     \u001b[0mdriver\u001b[0m\u001b[0;34m.\u001b[0m\u001b[0mget\u001b[0m\u001b[0;34m(\u001b[0m\u001b[0murl\u001b[0m\u001b[0;34m)\u001b[0m   \u001b[0;31m# 글 띄우기\u001b[0m\u001b[0;34m\u001b[0m\u001b[0;34m\u001b[0m\u001b[0m\n\u001b[1;32m     11\u001b[0m \u001b[0;34m\u001b[0m\u001b[0m\n",
      "\u001b[0;32m/opt/anaconda3/lib/python3.8/site-packages/selenium/webdriver/chrome/webdriver.py\u001b[0m in \u001b[0;36m__init__\u001b[0;34m(self, executable_path, port, options, service_args, desired_capabilities, service_log_path, chrome_options, keep_alive)\u001b[0m\n\u001b[1;32m     71\u001b[0m             \u001b[0mservice_args\u001b[0m\u001b[0;34m=\u001b[0m\u001b[0mservice_args\u001b[0m\u001b[0;34m,\u001b[0m\u001b[0;34m\u001b[0m\u001b[0;34m\u001b[0m\u001b[0m\n\u001b[1;32m     72\u001b[0m             log_path=service_log_path)\n\u001b[0;32m---> 73\u001b[0;31m         \u001b[0mself\u001b[0m\u001b[0;34m.\u001b[0m\u001b[0mservice\u001b[0m\u001b[0;34m.\u001b[0m\u001b[0mstart\u001b[0m\u001b[0;34m(\u001b[0m\u001b[0;34m)\u001b[0m\u001b[0;34m\u001b[0m\u001b[0;34m\u001b[0m\u001b[0m\n\u001b[0m\u001b[1;32m     74\u001b[0m \u001b[0;34m\u001b[0m\u001b[0m\n\u001b[1;32m     75\u001b[0m         \u001b[0;32mtry\u001b[0m\u001b[0;34m:\u001b[0m\u001b[0;34m\u001b[0m\u001b[0;34m\u001b[0m\u001b[0m\n",
      "\u001b[0;32m/opt/anaconda3/lib/python3.8/site-packages/selenium/webdriver/common/service.py\u001b[0m in \u001b[0;36mstart\u001b[0;34m(self)\u001b[0m\n\u001b[1;32m     79\u001b[0m         \u001b[0;32mexcept\u001b[0m \u001b[0mOSError\u001b[0m \u001b[0;32mas\u001b[0m \u001b[0merr\u001b[0m\u001b[0;34m:\u001b[0m\u001b[0;34m\u001b[0m\u001b[0;34m\u001b[0m\u001b[0m\n\u001b[1;32m     80\u001b[0m             \u001b[0;32mif\u001b[0m \u001b[0merr\u001b[0m\u001b[0;34m.\u001b[0m\u001b[0merrno\u001b[0m \u001b[0;34m==\u001b[0m \u001b[0merrno\u001b[0m\u001b[0;34m.\u001b[0m\u001b[0mENOENT\u001b[0m\u001b[0;34m:\u001b[0m\u001b[0;34m\u001b[0m\u001b[0;34m\u001b[0m\u001b[0m\n\u001b[0;32m---> 81\u001b[0;31m                 raise WebDriverException(\n\u001b[0m\u001b[1;32m     82\u001b[0m                     \"'%s' executable needs to be in PATH. %s\" % (\n\u001b[1;32m     83\u001b[0m                         os.path.basename(self.path), self.start_error_message)\n",
      "\u001b[0;31mWebDriverException\u001b[0m: Message: 'chromedriver.exe' executable needs to be in PATH. Please see https://sites.google.com/a/chromium.org/chromedriver/home\n"
     ]
    }
   ],
   "source": [
    "dict = {}    # 전체 크롤링 데이터를 담을 그릇\n",
    "\n",
    "number = 30  # 수집할 글 갯수 정하기\n",
    "\n",
    "# 수집한 url 돌면서 데이터 수집\n",
    "for i in tqdm_notebook(range(0, number)):\n",
    "    # 글 띄우기\n",
    "    url = url_load['url'][i]\n",
    "    driver = webdriver.Chrome(\"chromedriver.exe\")  # 윈도우는 \"chromedriver.exe\"\n",
    "    driver.get(url)   # 글 띄우기\n",
    "    \n",
    "    # 크롤링\n",
    "    \n",
    "    try : \n",
    "        # iframe 접근\n",
    "        driver.switch_to.frame('mainFrame')\n",
    "\n",
    "        target_info = {}  # 개별 블로그 내용을 담을 딕셔너리 생성\n",
    "\n",
    "        # 제목 크롤링 시작\n",
    "        overlays = \".se-module.se-module-text.se-title-text\"                                 \n",
    "        tit = driver.find_element_by_css_selector(overlays)          # title\n",
    "        title = tit.text\n",
    "\n",
    "        # 글쓴이 크롤링 시작\n",
    "        overlays = \".nick\"                                 \n",
    "        nick = driver.find_element_by_css_selector(overlays)         # nickname\n",
    "        nickname = nick.text\n",
    "\n",
    "        # 날짜 크롤링\n",
    "        overlays = \".se_publishDate.pcol2\"                                 \n",
    "        date = driver.find_element_by_css_selector(overlays)         # datetime\n",
    "        datetime = date.text\n",
    "\n",
    "        # 내용 크롤링\n",
    "        overlays = \".se-component.se-text.se-l-default\"                                 \n",
    "        contents = driver.find_elements_by_css_selector(overlays)    # contents\n",
    "\n",
    "        content_list = []\n",
    "        for content in contents:\n",
    "            content_list.append(content.text)\n",
    " \n",
    "        content_str = ' '.join(content_list)                         # content_str\n",
    "\n",
    "        # 글 하나는 target_info라는 딕셔너리에 담기게 되고,\n",
    "        target_info['title'] = title\n",
    "        target_info['nickname'] = nickname\n",
    "        target_info['datetime'] = datetime\n",
    "        target_info['content'] = content_str\n",
    "\n",
    "        # 각각의 글은 dict라는 딕셔너리에 담기게 됩니다.\n",
    "        dict[i] = target_info\n",
    "        time.sleep(1)\n",
    "        \n",
    "        # 크롤링이 성공하면 글 제목을 출력하게 되고,\n",
    "        print(i, title)\n",
    "\n",
    "        # 글 하나 크롤링 후 크롬 창을 닫습니다.\n",
    "        driver.close()       \n",
    "    \n",
    "    # 에러나면 현재 크롬창을 닫고 다음 글(i+1)로 이동합니다.\n",
    "    except:\n",
    "        driver.close()\n",
    "        time.sleep(1)\n",
    "        continue\n",
    "    \n",
    "    # 중간,중간에 파일로 저장하기\n",
    "    if i == 30 or 50 or 80:\n",
    "        # 판다스로 만들기\n",
    "        import pandas as pd\n",
    "        result_df = pd.DataFrame.from_dict(dict, 'index')\n",
    "\n",
    "        # 저장하기\n",
    "        result_df.to_excel(\"blog_content.xlsx\", encoding='utf-8-sig')\n",
    "        time.sleep(3)\n",
    "\n",
    "print('수집한 글 갯수: ', len(dict))\n",
    "print(dict)"
   ]
  },
  {
   "cell_type": "code",
   "execution_count": null,
   "metadata": {},
   "outputs": [],
   "source": [
    "dict"
   ]
  },
  {
   "cell_type": "code",
   "execution_count": 33,
   "metadata": {},
   "outputs": [
    {
     "data": {
      "text/html": [
       "<div>\n",
       "<style scoped>\n",
       "    .dataframe tbody tr th:only-of-type {\n",
       "        vertical-align: middle;\n",
       "    }\n",
       "\n",
       "    .dataframe tbody tr th {\n",
       "        vertical-align: top;\n",
       "    }\n",
       "\n",
       "    .dataframe thead th {\n",
       "        text-align: right;\n",
       "    }\n",
       "</style>\n",
       "<table border=\"1\" class=\"dataframe\">\n",
       "  <thead>\n",
       "    <tr style=\"text-align: right;\">\n",
       "      <th></th>\n",
       "    </tr>\n",
       "  </thead>\n",
       "  <tbody>\n",
       "  </tbody>\n",
       "</table>\n",
       "</div>"
      ],
      "text/plain": [
       "Empty DataFrame\n",
       "Columns: []\n",
       "Index: []"
      ]
     },
     "execution_count": 33,
     "metadata": {},
     "output_type": "execute_result"
    }
   ],
   "source": [
    "# 판다스로 만들기\n",
    "import pandas as pd\n",
    "result_df = pd.DataFrame.from_dict(dict, 'index')\n",
    "result_df"
   ]
  },
  {
   "cell_type": "code",
   "execution_count": 34,
   "metadata": {
    "scrolled": true
   },
   "outputs": [],
   "source": [
    "# 엑셀로 저장하기\n",
    "result_df.to_excel(\"blog_content.xlsx\", encoding='utf-8-sig')"
   ]
  },
  {
   "cell_type": "code",
   "execution_count": 35,
   "metadata": {},
   "outputs": [
    {
     "data": {
      "text/plain": [
       "'/Users/jisookwon/Documents/크롤링/네이버블로그 '"
      ]
     },
     "execution_count": 35,
     "metadata": {},
     "output_type": "execute_result"
    }
   ],
   "source": [
    "pwd"
   ]
  },
  {
   "cell_type": "code",
   "execution_count": null,
   "metadata": {},
   "outputs": [],
   "source": []
  },
  {
   "cell_type": "code",
   "execution_count": null,
   "metadata": {},
   "outputs": [],
   "source": []
  }
 ],
 "metadata": {
  "kernelspec": {
   "display_name": "Python 3 (ipykernel)",
   "language": "python",
   "name": "python3"
  },
  "language_info": {
   "codemirror_mode": {
    "name": "ipython",
    "version": 3
   },
   "file_extension": ".py",
   "mimetype": "text/x-python",
   "name": "python",
   "nbconvert_exporter": "python",
   "pygments_lexer": "ipython3",
   "version": "3.9.6"
  },
  "toc": {
   "base_numbering": 1,
   "nav_menu": {},
   "number_sections": false,
   "sideBar": true,
   "skip_h1_title": false,
   "title_cell": "Table of Contents",
   "title_sidebar": "Contents",
   "toc_cell": false,
   "toc_position": {},
   "toc_section_display": true,
   "toc_window_display": false
  },
  "varInspector": {
   "cols": {
    "lenName": 16,
    "lenType": 16,
    "lenVar": 40
   },
   "kernels_config": {
    "python": {
     "delete_cmd_postfix": "",
     "delete_cmd_prefix": "del ",
     "library": "var_list.py",
     "varRefreshCmd": "print(var_dic_list())"
    },
    "r": {
     "delete_cmd_postfix": ") ",
     "delete_cmd_prefix": "rm(",
     "library": "var_list.r",
     "varRefreshCmd": "cat(var_dic_list()) "
    }
   },
   "position": {
    "height": "600px",
    "left": "554.76px",
    "right": "20px",
    "top": "88px",
    "width": "424px"
   },
   "types_to_exclude": [
    "module",
    "function",
    "builtin_function_or_method",
    "instance",
    "_Feature"
   ],
   "window_display": false
  }
 },
 "nbformat": 4,
 "nbformat_minor": 2
}
