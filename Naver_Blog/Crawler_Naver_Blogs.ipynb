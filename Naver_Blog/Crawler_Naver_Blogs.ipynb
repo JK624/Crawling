{
 "cells": [
  {
   "cell_type": "code",
   "execution_count": 1,
   "metadata": {},
   "outputs": [],
   "source": [
    "# 네이버에서 검색어 입력받아 검색 한 후 블로그 메뉴를 선택하고\n",
    "# 오른쪽에 있는 검색옵션 버튼을 눌러서\n",
    "# 정렬 방식과 기간을 입력하기\n",
    "\n",
    "#Step 0. 필요한 모듈과 라이브러리를 로딩합니다.\n",
    "import sys # 시스템\n",
    "import os  # 시스템\n",
    "\n",
    "import pandas as pd  # 판다스 : 데이터분석 라이브러리\n",
    "import numpy as np   # 넘파이 : 숫자, 행렬 데이터 라이브러리\n",
    "\n",
    "from bs4 import BeautifulSoup    # html 데이터를 전처리\n",
    "from selenium import webdriver   # 웹 브라우저 자동화\n",
    "import time    # 서버와 통신할 때 중간중간 시간 지연. 보통은 1초\n",
    "from tqdm import tqdm_notebook   # for문 돌릴 때 진행상황을 %게이지로 알려준다."
   ]
  },
  {
   "cell_type": "code",
   "execution_count": 2,
   "metadata": {},
   "outputs": [
    {
     "name": "stdout",
     "output_type": "stream",
     "text": [
      "Python 3.9.10\r\n"
     ]
    }
   ],
   "source": [
    "# python 버전 확인\n",
    "!python --version"
   ]
  },
  {
   "cell_type": "code",
   "execution_count": 3,
   "metadata": {},
   "outputs": [
    {
     "data": {
      "text/plain": [
       "'1.4.0'"
      ]
     },
     "execution_count": 3,
     "metadata": {},
     "output_type": "execute_result"
    }
   ],
   "source": [
    "# 판다스 버전 확인\n",
    "pd.__version__"
   ]
  },
  {
   "cell_type": "code",
   "execution_count": 4,
   "metadata": {},
   "outputs": [
    {
     "name": "stdout",
     "output_type": "stream",
     "text": [
      "1.크롤링할 키워드는 무엇입니까?: 대전맛집\n",
      "4.조회를 시작할 날짜를 입력하세요(예:20170101) :20210101\n",
      "5.조회를 종료할 날짜를 입력하세요(예:20171231): 20210928\n"
     ]
    }
   ],
   "source": [
    "# 검색어, 검색 기간 정의\n",
    "query_txt = input('1.크롤링할 키워드는 무엇입니까?: ')\n",
    "# query_txt2 = input('2.제외할 첫번째 키워드를 입력하세요: ')\n",
    "# query_txt3 = input('3.제외할 두번째 키워드를 입력하세요: ')\n",
    "\n",
    "start_date = input('4.조회를 시작할 날짜를 입력하세요(예:20170101) :')\n",
    "end_date = input('5.조회를 종료할 날짜를 입력하세요(예:20171231): ')"
   ]
  },
  {
   "cell_type": "code",
   "execution_count": 5,
   "metadata": {},
   "outputs": [],
   "source": [
    "query_txt=\"대전맛집\"\n",
    "start_date=\"20210101\"\n",
    "end_date=\"20210928\""
   ]
  },
  {
   "cell_type": "markdown",
   "metadata": {},
   "source": [
    "# 크롤링할 블로그 url 수집하기"
   ]
  },
  {
   "cell_type": "code",
   "execution_count": 6,
   "metadata": {},
   "outputs": [
    {
     "data": {
      "text/plain": [
       "'/Users/jisookwon/Documents/Crawling/Naver_Blog'"
      ]
     },
     "execution_count": 6,
     "metadata": {},
     "output_type": "execute_result"
    }
   ],
   "source": [
    "pwd"
   ]
  },
  {
   "cell_type": "code",
   "execution_count": 15,
   "metadata": {
    "code_folding": []
   },
   "outputs": [],
   "source": [
    "#Step 1. 크롬 웹브라우저 실행\n",
    "path = \"/opt/homebrew/bin/chromedriver\"       # 윈도우는 \"chromedriver.exe\"\n",
    "\n",
    "driver = webdriver.Chrome(path)\n",
    "# 사이트 주소는 네이버\n",
    "driver.get('http://www.naver.com')\n",
    "time.sleep(2)  # 2초간 정지"
   ]
  },
  {
   "cell_type": "code",
   "execution_count": 16,
   "metadata": {},
   "outputs": [
    {
     "data": {
      "text/plain": [
       "'/Users/jisookwon/Documents/Crawling/Naver_Blog'"
      ]
     },
     "execution_count": 16,
     "metadata": {},
     "output_type": "execute_result"
    }
   ],
   "source": [
    "pwd"
   ]
  },
  {
   "cell_type": "code",
   "execution_count": 35,
   "metadata": {
    "code_folding": []
   },
   "outputs": [],
   "source": [
    "#Step 2. 네이버 검색창에 \"검색어\" 검색\n",
    "element = driver.find_element_by_id(\"query\")\n",
    "element.send_keys(query_txt)  # query_txt는 위에서 입력한 키워드\n",
    "element.submit()\n",
    "time.sleep(1)"
   ]
  },
  {
   "cell_type": "code",
   "execution_count": 36,
   "metadata": {
    "code_folding": []
   },
   "outputs": [],
   "source": [
    "# 'VIEW' 클릭\n",
    "driver.find_element_by_link_text(\"VIEW\").click( )\n",
    "time.sleep(1)"
   ]
  },
  {
   "cell_type": "code",
   "execution_count": 37,
   "metadata": {
    "code_folding": []
   },
   "outputs": [],
   "source": [
    "# '블로그' 클릭\n",
    "driver.find_element_by_link_text(\"블로그\").click( )\n",
    "time.sleep(1)"
   ]
  },
  {
   "cell_type": "code",
   "execution_count": 38,
   "metadata": {
    "code_folding": []
   },
   "outputs": [],
   "source": [
    "# '옵션' 클릭\n",
    "driver.find_element_by_link_text(\"옵션\").click( )\n",
    "time.sleep(1)"
   ]
  },
  {
   "cell_type": "code",
   "execution_count": 39,
   "metadata": {
    "code_folding": []
   },
   "outputs": [
    {
     "name": "stdout",
     "output_type": "stream",
     "text": [
      "전체\n",
      "블로그\n",
      "카페\n",
      "관련도순\n",
      "최신순\n",
      "전체\n",
      "1시간\n",
      "1일\n",
      "1주\n",
      "1개월\n",
      "3개월\n",
      "6개월\n",
      "1년\n",
      "직접입력옵션펼치기\n"
     ]
    }
   ],
   "source": [
    "# 검색옵션 확인\n",
    "item_li = driver.find_elements_by_css_selector('.option .txt')\n",
    "\n",
    "for i in range(0, len(item_li)):\n",
    "    print(item_li[i].text)\n"
   ]
  },
  {
   "cell_type": "code",
   "execution_count": 40,
   "metadata": {
    "scrolled": true
   },
   "outputs": [
    {
     "name": "stdout",
     "output_type": "stream",
     "text": [
      "3개월\n"
     ]
    }
   ],
   "source": [
    "# 검색기간 '3개월' 클릭\n",
    "print(item_li[10].text)\n",
    "\n",
    "item_li[10].click()"
   ]
  },
  {
   "cell_type": "code",
   "execution_count": 41,
   "metadata": {},
   "outputs": [],
   "source": [
    "# 스크롤 다운\n",
    "# driver.execute_script(\"window.scrollTo(0, 500)\")\n",
    "# time.sleep(2)\n",
    "\n",
    "# 스크롤을 밑으로 내려주는 함수\n",
    "def scroll_down(driver):\n",
    "    driver.execute_script(\"window.scrollTo(0, 19431049)\")\n",
    "    time.sleep(1)\n",
    "\n",
    "# n: 스크롤할 횟수 설정\n",
    "n = 5\n",
    "i = 0\n",
    "while i < 5: # 이 조건이 만족되는 동안 반복 실행\n",
    "    scroll_down(driver) # 스크롤 다운\n",
    "    i = i+1"
   ]
  },
  {
   "cell_type": "code",
   "execution_count": 42,
   "metadata": {},
   "outputs": [
    {
     "data": {
      "text/plain": [
       "<selenium.webdriver.remote.webelement.WebElement (session=\"47d49a2306a5f673476d53c25cbdea61\", element=\"d1561c6c-af48-40c3-80ad-ace33d3e6672\")>"
      ]
     },
     "execution_count": 42,
     "metadata": {},
     "output_type": "execute_result"
    }
   ],
   "source": [
    "# 블로그 글 url들 수집\n",
    "url_list = []\n",
    "title_list = []\n",
    "\n",
    "# URL_raw 크롤링 시작\n",
    "articles = \".api_txt_lines.total_tit\"\n",
    "article_raw = driver.find_elements_by_css_selector(articles)\n",
    "article_raw[0]"
   ]
  },
  {
   "cell_type": "code",
   "execution_count": 43,
   "metadata": {},
   "outputs": [
    {
     "data": {
      "text/plain": [
       "'https://blog.naver.com/symin67?Redirect=Log&logNo=222695679368'"
      ]
     },
     "execution_count": 43,
     "metadata": {},
     "output_type": "execute_result"
    }
   ],
   "source": [
    "article_raw[0].get_attribute('href')"
   ]
  },
  {
   "cell_type": "code",
   "execution_count": 56,
   "metadata": {
    "scrolled": false
   },
   "outputs": [
    {
     "name": "stdout",
     "output_type": "stream",
     "text": [
      "홀딱 반한 대전 맛집\n",
      "힐링했던 대전 맛집 리스트\n",
      "기억할만한 대전 맛집\n",
      "대전 맛집, 두부두루치기/칼국수가 맛있는 <광천식당>\n",
      "심쿵했던 대전 맛집\n",
      "대전 맛집 육하원칙 반석점, 놀이방이 있는 식당\n",
      "대전 맛집 금수저은수저,소바공방,오모리생바지락손칼국수,조림\n",
      "대전맛집 추천 소갈비가 맛있는 청춘식당 가오동맛집으로도 인정\n",
      "대전 / 괴정동 맛집 / 대전맛집(구 대구막창) / 한민시장 맛집\n",
      "(대전 맛집/수통골 맛집) 오경자메밀사랑 칼국수\n",
      "대전 맛집 시민칼국수 정말 맛있게 먹었어요 ^^\n",
      "진정한 대전 맛집 힘내라 골목상권\n",
      "나온 대전 맛집의 유성온천 근처 분점 / 대전밥집 / 26개월...\n",
      "(대전맛집)더리스, 테라베오 & 비래키키(BIRAEKIKI) & song...\n",
      "봄 제철음식 추천 대전맛집 7\n",
      "기분좋던 대전 맛집\n",
      "모두가 반했던 대전 맛집\n",
      "대전맛집 오월드맛집 청원농장식당 야외에서 먹는 숯불바베큐\n",
      "한민시장 막창맛집 괴정동 대전맛집\n",
      "화려했던 대전 맛집\n",
      "대전맛집 괴정동 롯데백화점 근처 등촌샤브칼국수\n",
      "대전맛집2\n",
      "[대전 한민시장 맛집] 괴정동 대전맛집에서 막창모듬 1번~\n",
      "[대전맛집]소석갈비 맛집'띠울석갈비 본점'\n",
      "대전 맛집 냄비요리연구소 신메뉴 낙곱새 먹고 왔어요\n",
      "대전맛집 오류동고기집 대전회... 오류동맛집 양연화로 에서...\n",
      "줄 서서 먹어야 하는 대전 맛집, 태평소국밥\n",
      "[대전/맛집] 사이드쇼 신세계대전엑스포점 (대전신세계백화점...\n",
      "대전 맛집 세컨디포레스트 대전은행점\n",
      "[대전맛집]회가 신선하고 푸짐한 보물섬수산\n",
      "[대전 맛집/중리동 맛집] 양평 칼국수 콩국수 *\n",
      "[대전 유성구] 유성호텔... 즐긴 대전 맛집 :: 26개월 아기랑...\n",
      "대전맛집ㅣ가족식사 모임 장소 경복궁 대전점\n",
      "대전 맛집 서가앤쿡 목살한상 2인세트 메뉴, 파스타,필라프 등..\n",
      "대전 맛집 우리칼국수 두부두루치기 정말 찐!! 강추!!...\n",
      "[대전맛집] 피자 찐맛집 - 리골레토 시카고피자\n",
      "[대전맛집]백반기행맛집:대전갈비집\n",
      "[대전맛집]서대전점/문화동 샐러드 맛집 포케153\n",
      "대전맛집 대전태평동맛집 대전육사시미 대전국밥집 맛있는곳...\n",
      "[대전중구] 광천식당... 맛있는 두부두루치기 여기가 대전맛집!\n",
      "대전맛집 유성맛집추천 백송대전점 첫 방문 대성공,서대살...\n",
      "[대전/맛집] 가양막창 죽동점 (대전막창맛집 / 죽동술집)\n",
      "대전 맛집 석갈비가 맛있는 판암동 쌍청고기마을\n",
      "[대전 맛집] 무쇠김치삼겹살 대전봉명점 / 김치가 맛있는 고깃집\n",
      "대전 맛집 성심당 대전역점 튀김소보로 메뉴 가격\n",
      "#대전맛집,매콤한 홍도동 착한낙지 강추에요.\n",
      "모두가 인정하는 대전 맛집 태평소국밥 (유성 봉명동)\n",
      "[대전] 대전맛집, 유성횟집, 룸식당, 점심특선, 부모님식사 추천...\n",
      "[대전맛집] 가볼만한곳 오씨칼국수\n",
      "대전맛집 유성구 숯골원냉면 본점\n",
      "대전 맛집이라 불리는 '태평소국밥'\n",
      "[대전맛집] 대흥동 얼큰한 칼국수 맛집 '홍두깨칼국수'\n",
      "대전맛집 김가네 시민고기국수 -제주고기국수 전문점\n",
      "[대전맛집]퓨전일식레스토랑 정음 우와~~코스요리 좋아요\n",
      "[대전 맛집/월평동 맛집] 훈 참치 *\n",
      "[대전/맛집] 한마음정육식당 유성봉명점 (봉명동 삼겹살...\n",
      "[대전맛집] 르몽탁 : 내돈내산, 대전양식, 뇨끼 맛집\n",
      "[대전맛집] 관평동_청담초밥(가성비맛집)\n",
      "대전 맛집 중리동 통일면옥 회냉면 녹두전 조합 최고\n",
      "[대전맛집]맛도, 분위기도 만점인 도룡동 트웰브오 twelve0\n",
      "\n",
      "url갯수:  180\n",
      "title갯수:  180\n"
     ]
    }
   ],
   "source": [
    "# 크롤링한 url 정제 시작\n",
    "for article in article_raw:\n",
    "    url = article.get_attribute('href')   \n",
    "    url_list.append(url)\n",
    "\n",
    "# 1초 쉬어 주고,\n",
    "time.sleep(1)\n",
    "    \n",
    "# 제목 크롤링 시작    \n",
    "for article in article_raw:\n",
    "    title = article.text\n",
    "    title_list.append(title)\n",
    "\n",
    "    print(title)\n",
    "\n",
    "print(\"\")\n",
    "print('url갯수: ', len(url_list))\n",
    "print('title갯수: ', len(title_list))"
   ]
  },
  {
   "cell_type": "code",
   "execution_count": 57,
   "metadata": {},
   "outputs": [
    {
     "data": {
      "text/plain": [
       "'/Users/jisookwon/Documents/Crawling/Naver_Blog'"
      ]
     },
     "execution_count": 57,
     "metadata": {},
     "output_type": "execute_result"
    }
   ],
   "source": [
    "pwd"
   ]
  },
  {
   "cell_type": "code",
   "execution_count": 58,
   "metadata": {},
   "outputs": [
    {
     "data": {
      "text/plain": [
       "['https://blog.naver.com/symin67?Redirect=Log&logNo=222695679368',\n",
       " 'https://blog.naver.com/mmorrismom?Redirect=Log&logNo=222689115119',\n",
       " 'https://blog.naver.com/lkd0486?Redirect=Log&logNo=222712213135',\n",
       " 'https://blog.naver.com/angerbong?Redirect=Log&logNo=222703004620',\n",
       " 'https://blog.naver.com/artlife?Redirect=Log&logNo=222691859558',\n",
       " 'https://blog.naver.com/sscd0808?Redirect=Log&logNo=222711513123',\n",
       " 'https://blog.naver.com/skeunhea1?Redirect=Log&logNo=222707525378',\n",
       " 'https://blog.naver.com/byuli55?Redirect=Log&logNo=222647042431',\n",
       " 'https://blog.naver.com/anythingg_?Redirect=Log&logNo=222698557558',\n",
       " 'https://blog.naver.com/dlrltmfr365?Redirect=Log&logNo=222662943718',\n",
       " 'https://blog.naver.com/pepablue?Redirect=Log&logNo=222710002007',\n",
       " 'https://blog.naver.com/jeju8253?Redirect=Log&logNo=222676505376',\n",
       " 'https://blog.naver.com/couchmon?Redirect=Log&logNo=222713981002',\n",
       " 'https://blog.naver.com/wjdtlsckfud?Redirect=Log&logNo=222687997433',\n",
       " 'https://blog.naver.com/newosilent?Redirect=Log&logNo=222664775406',\n",
       " 'https://blog.naver.com/buj0705q?Redirect=Log&logNo=222704548775',\n",
       " 'https://blog.naver.com/ryush118?Redirect=Log&logNo=222707463547',\n",
       " 'https://blog.naver.com/aremmin?Redirect=Log&logNo=222715161996',\n",
       " 'https://blog.naver.com/klesysky?Redirect=Log&logNo=222711027122',\n",
       " 'https://blog.naver.com/dream6945?Redirect=Log&logNo=222698347472',\n",
       " 'https://blog.naver.com/kss3323?Redirect=Log&logNo=222707246139',\n",
       " 'https://blog.naver.com/so1ine?Redirect=Log&logNo=222713145704',\n",
       " 'https://blog.naver.com/realrevolution?Redirect=Log&logNo=222698629692',\n",
       " 'https://blog.naver.com/thdud9580?Redirect=Log&logNo=222697627794',\n",
       " 'https://blog.naver.com/ggomi0713?Redirect=Log&logNo=222710831497',\n",
       " 'https://blog.naver.com/g_p96?Redirect=Log&logNo=222712520810',\n",
       " 'https://blog.naver.com/imboralee?Redirect=Log&logNo=222649671361',\n",
       " 'https://blog.naver.com/caitlyn15?Redirect=Log&logNo=222709977605',\n",
       " 'https://blog.naver.com/cvcv5552?Redirect=Log&logNo=222707874737',\n",
       " 'https://blog.naver.com/kki4242?Redirect=Log&logNo=222670858246',\n",
       " 'https://blog.naver.com/twosevengirl?Redirect=Log&logNo=222663463936',\n",
       " 'https://blog.naver.com/couchmon?Redirect=Log&logNo=222685005625',\n",
       " 'https://blog.naver.com/photoharu?Redirect=Log&logNo=222637798057',\n",
       " 'https://blog.naver.com/kwija99?Redirect=Log&logNo=222690466211',\n",
       " 'https://blog.naver.com/lena_bella?Redirect=Log&logNo=222677136151',\n",
       " 'https://blog.naver.com/ljyjy9?Redirect=Log&logNo=222641068121',\n",
       " 'https://blog.naver.com/namuchoo?Redirect=Log&logNo=222676762089',\n",
       " 'https://blog.naver.com/vkmjv86?Redirect=Log&logNo=222670947256',\n",
       " 'https://blog.naver.com/g_p96?Redirect=Log&logNo=222700105756',\n",
       " 'https://blog.naver.com/ekdqw?Redirect=Log&logNo=222689876869',\n",
       " 'https://blog.naver.com/matsu2?Redirect=Log&logNo=222691700692',\n",
       " 'https://blog.naver.com/caitlyn15?Redirect=Log&logNo=222665224568',\n",
       " 'https://blog.naver.com/byuli55?Redirect=Log&logNo=222636378847',\n",
       " 'https://blog.naver.com/judy638?Redirect=Log&logNo=222688200144',\n",
       " 'https://blog.naver.com/bluerose0328?Redirect=Log&logNo=222635589525',\n",
       " 'https://blog.naver.com/soplyb7?Redirect=Log&logNo=222676620899',\n",
       " 'https://blog.naver.com/skfoalsxm?Redirect=Log&logNo=222709381062',\n",
       " 'https://blog.naver.com/wldus0912?Redirect=Log&logNo=222687086881',\n",
       " 'https://blog.naver.com/lovely6035?Redirect=Log&logNo=222714857642',\n",
       " 'https://blog.naver.com/hongdangmoodeco?Redirect=Log&logNo=222711105626',\n",
       " 'https://blog.naver.com/shrk041212?Redirect=Log&logNo=222661056630',\n",
       " 'https://blog.naver.com/wjdgmlwjd9645?Redirect=Log&logNo=222685737401',\n",
       " 'https://blog.naver.com/pinkbomi?Redirect=Log&logNo=222712113586',\n",
       " 'https://blog.naver.com/luxygirl77?Redirect=Log&logNo=222658743648',\n",
       " 'https://blog.naver.com/twosevengirl?Redirect=Log&logNo=222711763819',\n",
       " 'https://blog.naver.com/caitlyn15?Redirect=Log&logNo=222688306502',\n",
       " 'https://blog.naver.com/skana0512?Redirect=Log&logNo=222670592486',\n",
       " 'https://blog.naver.com/tddrq?Redirect=Log&logNo=222711248407',\n",
       " 'https://blog.naver.com/ksj649?Redirect=Log&logNo=222662613062',\n",
       " 'https://blog.naver.com/vkmjv86?Redirect=Log&logNo=222643483012',\n",
       " 'https://blog.naver.com/symin67?Redirect=Log&logNo=222695679368',\n",
       " 'https://blog.naver.com/mmorrismom?Redirect=Log&logNo=222689115119',\n",
       " 'https://blog.naver.com/lkd0486?Redirect=Log&logNo=222712213135',\n",
       " 'https://blog.naver.com/angerbong?Redirect=Log&logNo=222703004620',\n",
       " 'https://blog.naver.com/artlife?Redirect=Log&logNo=222691859558',\n",
       " 'https://blog.naver.com/sscd0808?Redirect=Log&logNo=222711513123',\n",
       " 'https://blog.naver.com/skeunhea1?Redirect=Log&logNo=222707525378',\n",
       " 'https://blog.naver.com/byuli55?Redirect=Log&logNo=222647042431',\n",
       " 'https://blog.naver.com/anythingg_?Redirect=Log&logNo=222698557558',\n",
       " 'https://blog.naver.com/dlrltmfr365?Redirect=Log&logNo=222662943718',\n",
       " 'https://blog.naver.com/pepablue?Redirect=Log&logNo=222710002007',\n",
       " 'https://blog.naver.com/jeju8253?Redirect=Log&logNo=222676505376',\n",
       " 'https://blog.naver.com/couchmon?Redirect=Log&logNo=222713981002',\n",
       " 'https://blog.naver.com/wjdtlsckfud?Redirect=Log&logNo=222687997433',\n",
       " 'https://blog.naver.com/newosilent?Redirect=Log&logNo=222664775406',\n",
       " 'https://blog.naver.com/buj0705q?Redirect=Log&logNo=222704548775',\n",
       " 'https://blog.naver.com/ryush118?Redirect=Log&logNo=222707463547',\n",
       " 'https://blog.naver.com/aremmin?Redirect=Log&logNo=222715161996',\n",
       " 'https://blog.naver.com/klesysky?Redirect=Log&logNo=222711027122',\n",
       " 'https://blog.naver.com/dream6945?Redirect=Log&logNo=222698347472',\n",
       " 'https://blog.naver.com/kss3323?Redirect=Log&logNo=222707246139',\n",
       " 'https://blog.naver.com/so1ine?Redirect=Log&logNo=222713145704',\n",
       " 'https://blog.naver.com/realrevolution?Redirect=Log&logNo=222698629692',\n",
       " 'https://blog.naver.com/thdud9580?Redirect=Log&logNo=222697627794',\n",
       " 'https://blog.naver.com/ggomi0713?Redirect=Log&logNo=222710831497',\n",
       " 'https://blog.naver.com/g_p96?Redirect=Log&logNo=222712520810',\n",
       " 'https://blog.naver.com/imboralee?Redirect=Log&logNo=222649671361',\n",
       " 'https://blog.naver.com/caitlyn15?Redirect=Log&logNo=222709977605',\n",
       " 'https://blog.naver.com/cvcv5552?Redirect=Log&logNo=222707874737',\n",
       " 'https://blog.naver.com/kki4242?Redirect=Log&logNo=222670858246',\n",
       " 'https://blog.naver.com/twosevengirl?Redirect=Log&logNo=222663463936',\n",
       " 'https://blog.naver.com/couchmon?Redirect=Log&logNo=222685005625',\n",
       " 'https://blog.naver.com/photoharu?Redirect=Log&logNo=222637798057',\n",
       " 'https://blog.naver.com/kwija99?Redirect=Log&logNo=222690466211',\n",
       " 'https://blog.naver.com/lena_bella?Redirect=Log&logNo=222677136151',\n",
       " 'https://blog.naver.com/ljyjy9?Redirect=Log&logNo=222641068121',\n",
       " 'https://blog.naver.com/namuchoo?Redirect=Log&logNo=222676762089',\n",
       " 'https://blog.naver.com/vkmjv86?Redirect=Log&logNo=222670947256',\n",
       " 'https://blog.naver.com/g_p96?Redirect=Log&logNo=222700105756',\n",
       " 'https://blog.naver.com/ekdqw?Redirect=Log&logNo=222689876869',\n",
       " 'https://blog.naver.com/matsu2?Redirect=Log&logNo=222691700692',\n",
       " 'https://blog.naver.com/caitlyn15?Redirect=Log&logNo=222665224568',\n",
       " 'https://blog.naver.com/byuli55?Redirect=Log&logNo=222636378847',\n",
       " 'https://blog.naver.com/judy638?Redirect=Log&logNo=222688200144',\n",
       " 'https://blog.naver.com/bluerose0328?Redirect=Log&logNo=222635589525',\n",
       " 'https://blog.naver.com/soplyb7?Redirect=Log&logNo=222676620899',\n",
       " 'https://blog.naver.com/skfoalsxm?Redirect=Log&logNo=222709381062',\n",
       " 'https://blog.naver.com/wldus0912?Redirect=Log&logNo=222687086881',\n",
       " 'https://blog.naver.com/lovely6035?Redirect=Log&logNo=222714857642',\n",
       " 'https://blog.naver.com/hongdangmoodeco?Redirect=Log&logNo=222711105626',\n",
       " 'https://blog.naver.com/shrk041212?Redirect=Log&logNo=222661056630',\n",
       " 'https://blog.naver.com/wjdgmlwjd9645?Redirect=Log&logNo=222685737401',\n",
       " 'https://blog.naver.com/pinkbomi?Redirect=Log&logNo=222712113586',\n",
       " 'https://blog.naver.com/luxygirl77?Redirect=Log&logNo=222658743648',\n",
       " 'https://blog.naver.com/twosevengirl?Redirect=Log&logNo=222711763819',\n",
       " 'https://blog.naver.com/caitlyn15?Redirect=Log&logNo=222688306502',\n",
       " 'https://blog.naver.com/skana0512?Redirect=Log&logNo=222670592486',\n",
       " 'https://blog.naver.com/tddrq?Redirect=Log&logNo=222711248407',\n",
       " 'https://blog.naver.com/ksj649?Redirect=Log&logNo=222662613062',\n",
       " 'https://blog.naver.com/vkmjv86?Redirect=Log&logNo=222643483012',\n",
       " 'https://blog.naver.com/symin67?Redirect=Log&logNo=222695679368',\n",
       " 'https://blog.naver.com/mmorrismom?Redirect=Log&logNo=222689115119',\n",
       " 'https://blog.naver.com/lkd0486?Redirect=Log&logNo=222712213135',\n",
       " 'https://blog.naver.com/angerbong?Redirect=Log&logNo=222703004620',\n",
       " 'https://blog.naver.com/artlife?Redirect=Log&logNo=222691859558',\n",
       " 'https://blog.naver.com/sscd0808?Redirect=Log&logNo=222711513123',\n",
       " 'https://blog.naver.com/skeunhea1?Redirect=Log&logNo=222707525378',\n",
       " 'https://blog.naver.com/byuli55?Redirect=Log&logNo=222647042431',\n",
       " 'https://blog.naver.com/anythingg_?Redirect=Log&logNo=222698557558',\n",
       " 'https://blog.naver.com/dlrltmfr365?Redirect=Log&logNo=222662943718',\n",
       " 'https://blog.naver.com/pepablue?Redirect=Log&logNo=222710002007',\n",
       " 'https://blog.naver.com/jeju8253?Redirect=Log&logNo=222676505376',\n",
       " 'https://blog.naver.com/couchmon?Redirect=Log&logNo=222713981002',\n",
       " 'https://blog.naver.com/wjdtlsckfud?Redirect=Log&logNo=222687997433',\n",
       " 'https://blog.naver.com/newosilent?Redirect=Log&logNo=222664775406',\n",
       " 'https://blog.naver.com/buj0705q?Redirect=Log&logNo=222704548775',\n",
       " 'https://blog.naver.com/ryush118?Redirect=Log&logNo=222707463547',\n",
       " 'https://blog.naver.com/aremmin?Redirect=Log&logNo=222715161996',\n",
       " 'https://blog.naver.com/klesysky?Redirect=Log&logNo=222711027122',\n",
       " 'https://blog.naver.com/dream6945?Redirect=Log&logNo=222698347472',\n",
       " 'https://blog.naver.com/kss3323?Redirect=Log&logNo=222707246139',\n",
       " 'https://blog.naver.com/so1ine?Redirect=Log&logNo=222713145704',\n",
       " 'https://blog.naver.com/realrevolution?Redirect=Log&logNo=222698629692',\n",
       " 'https://blog.naver.com/thdud9580?Redirect=Log&logNo=222697627794',\n",
       " 'https://blog.naver.com/ggomi0713?Redirect=Log&logNo=222710831497',\n",
       " 'https://blog.naver.com/g_p96?Redirect=Log&logNo=222712520810',\n",
       " 'https://blog.naver.com/imboralee?Redirect=Log&logNo=222649671361',\n",
       " 'https://blog.naver.com/caitlyn15?Redirect=Log&logNo=222709977605',\n",
       " 'https://blog.naver.com/cvcv5552?Redirect=Log&logNo=222707874737',\n",
       " 'https://blog.naver.com/kki4242?Redirect=Log&logNo=222670858246',\n",
       " 'https://blog.naver.com/twosevengirl?Redirect=Log&logNo=222663463936',\n",
       " 'https://blog.naver.com/couchmon?Redirect=Log&logNo=222685005625',\n",
       " 'https://blog.naver.com/photoharu?Redirect=Log&logNo=222637798057',\n",
       " 'https://blog.naver.com/kwija99?Redirect=Log&logNo=222690466211',\n",
       " 'https://blog.naver.com/lena_bella?Redirect=Log&logNo=222677136151',\n",
       " 'https://blog.naver.com/ljyjy9?Redirect=Log&logNo=222641068121',\n",
       " 'https://blog.naver.com/namuchoo?Redirect=Log&logNo=222676762089',\n",
       " 'https://blog.naver.com/vkmjv86?Redirect=Log&logNo=222670947256',\n",
       " 'https://blog.naver.com/g_p96?Redirect=Log&logNo=222700105756',\n",
       " 'https://blog.naver.com/ekdqw?Redirect=Log&logNo=222689876869',\n",
       " 'https://blog.naver.com/matsu2?Redirect=Log&logNo=222691700692',\n",
       " 'https://blog.naver.com/caitlyn15?Redirect=Log&logNo=222665224568',\n",
       " 'https://blog.naver.com/byuli55?Redirect=Log&logNo=222636378847',\n",
       " 'https://blog.naver.com/judy638?Redirect=Log&logNo=222688200144',\n",
       " 'https://blog.naver.com/bluerose0328?Redirect=Log&logNo=222635589525',\n",
       " 'https://blog.naver.com/soplyb7?Redirect=Log&logNo=222676620899',\n",
       " 'https://blog.naver.com/skfoalsxm?Redirect=Log&logNo=222709381062',\n",
       " 'https://blog.naver.com/wldus0912?Redirect=Log&logNo=222687086881',\n",
       " 'https://blog.naver.com/lovely6035?Redirect=Log&logNo=222714857642',\n",
       " 'https://blog.naver.com/hongdangmoodeco?Redirect=Log&logNo=222711105626',\n",
       " 'https://blog.naver.com/shrk041212?Redirect=Log&logNo=222661056630',\n",
       " 'https://blog.naver.com/wjdgmlwjd9645?Redirect=Log&logNo=222685737401',\n",
       " 'https://blog.naver.com/pinkbomi?Redirect=Log&logNo=222712113586',\n",
       " 'https://blog.naver.com/luxygirl77?Redirect=Log&logNo=222658743648',\n",
       " 'https://blog.naver.com/twosevengirl?Redirect=Log&logNo=222711763819',\n",
       " 'https://blog.naver.com/caitlyn15?Redirect=Log&logNo=222688306502',\n",
       " 'https://blog.naver.com/skana0512?Redirect=Log&logNo=222670592486',\n",
       " 'https://blog.naver.com/tddrq?Redirect=Log&logNo=222711248407',\n",
       " 'https://blog.naver.com/ksj649?Redirect=Log&logNo=222662613062',\n",
       " 'https://blog.naver.com/vkmjv86?Redirect=Log&logNo=222643483012']"
      ]
     },
     "execution_count": 58,
     "metadata": {},
     "output_type": "execute_result"
    }
   ],
   "source": [
    "url_list"
   ]
  },
  {
   "cell_type": "code",
   "execution_count": 59,
   "metadata": {},
   "outputs": [
    {
     "data": {
      "text/plain": [
       "['홀딱 반한 대전 맛집',\n",
       " '힐링했던 대전 맛집 리스트',\n",
       " '기억할만한 대전 맛집',\n",
       " '대전 맛집, 두부두루치기/칼국수가 맛있는 <광천식당>',\n",
       " '심쿵했던 대전 맛집',\n",
       " '대전 맛집 육하원칙 반석점, 놀이방이 있는 식당',\n",
       " '대전 맛집 금수저은수저,소바공방,오모리생바지락손칼국수,조림',\n",
       " '대전맛집 추천 소갈비가 맛있는 청춘식당 가오동맛집으로도 인정',\n",
       " '대전 / 괴정동 맛집 / 대전맛집(구 대구막창) / 한민시장 맛집',\n",
       " '(대전 맛집/수통골 맛집) 오경자메밀사랑 칼국수',\n",
       " '대전 맛집 시민칼국수 정말 맛있게 먹었어요 ^^',\n",
       " '진정한 대전 맛집 힘내라 골목상권',\n",
       " '나온 대전 맛집의 유성온천 근처 분점 / 대전밥집 / 26개월...',\n",
       " '(대전맛집)더리스, 테라베오 & 비래키키(BIRAEKIKI) & song...',\n",
       " '봄 제철음식 추천 대전맛집 7',\n",
       " '기분좋던 대전 맛집',\n",
       " '모두가 반했던 대전 맛집',\n",
       " '대전맛집 오월드맛집 청원농장식당 야외에서 먹는 숯불바베큐',\n",
       " '한민시장 막창맛집 괴정동 대전맛집',\n",
       " '화려했던 대전 맛집',\n",
       " '대전맛집 괴정동 롯데백화점 근처 등촌샤브칼국수',\n",
       " '대전맛집2',\n",
       " '[대전 한민시장 맛집] 괴정동 대전맛집에서 막창모듬 1번~',\n",
       " \"[대전맛집]소석갈비 맛집'띠울석갈비 본점'\",\n",
       " '대전 맛집 냄비요리연구소 신메뉴 낙곱새 먹고 왔어요',\n",
       " '대전맛집 오류동고기집 대전회... 오류동맛집 양연화로 에서...',\n",
       " '줄 서서 먹어야 하는 대전 맛집, 태평소국밥',\n",
       " '[대전/맛집] 사이드쇼 신세계대전엑스포점 (대전신세계백화점...',\n",
       " '대전 맛집 세컨디포레스트 대전은행점',\n",
       " '[대전맛집]회가 신선하고 푸짐한 보물섬수산',\n",
       " '[대전 맛집/중리동 맛집] 양평 칼국수 콩국수 *',\n",
       " '[대전 유성구] 유성호텔... 즐긴 대전 맛집 :: 26개월 아기랑...',\n",
       " '대전맛집ㅣ가족식사 모임 장소 경복궁 대전점',\n",
       " '대전 맛집 서가앤쿡 목살한상 2인세트 메뉴, 파스타,필라프 등..',\n",
       " '대전 맛집 우리칼국수 두부두루치기 정말 찐!! 강추!!...',\n",
       " '[대전맛집] 피자 찐맛집 - 리골레토 시카고피자',\n",
       " '[대전맛집]백반기행맛집:대전갈비집',\n",
       " '[대전맛집]서대전점/문화동 샐러드 맛집 포케153',\n",
       " '대전맛집 대전태평동맛집 대전육사시미 대전국밥집 맛있는곳...',\n",
       " '[대전중구] 광천식당... 맛있는 두부두루치기 여기가 대전맛집!',\n",
       " '대전맛집 유성맛집추천 백송대전점 첫 방문 대성공,서대살...',\n",
       " '[대전/맛집] 가양막창 죽동점 (대전막창맛집 / 죽동술집)',\n",
       " '대전 맛집 석갈비가 맛있는 판암동 쌍청고기마을',\n",
       " '[대전 맛집] 무쇠김치삼겹살 대전봉명점 / 김치가 맛있는 고깃집',\n",
       " '대전 맛집 성심당 대전역점 튀김소보로 메뉴 가격',\n",
       " '#대전맛집,매콤한 홍도동 착한낙지 강추에요.',\n",
       " '모두가 인정하는 대전 맛집 태평소국밥 (유성 봉명동)',\n",
       " '[대전] 대전맛집, 유성횟집, 룸식당, 점심특선, 부모님식사 추천...',\n",
       " '[대전맛집] 가볼만한곳 오씨칼국수',\n",
       " '대전맛집 유성구 숯골원냉면 본점',\n",
       " \"대전 맛집이라 불리는 '태평소국밥'\",\n",
       " \"[대전맛집] 대흥동 얼큰한 칼국수 맛집 '홍두깨칼국수'\",\n",
       " '대전맛집 김가네 시민고기국수 -제주고기국수 전문점',\n",
       " '[대전맛집]퓨전일식레스토랑 정음 우와~~코스요리 좋아요',\n",
       " '[대전 맛집/월평동 맛집] 훈 참치 *',\n",
       " '[대전/맛집] 한마음정육식당 유성봉명점 (봉명동 삼겹살...',\n",
       " '[대전맛집] 르몽탁 : 내돈내산, 대전양식, 뇨끼 맛집',\n",
       " '[대전맛집] 관평동_청담초밥(가성비맛집)',\n",
       " '대전 맛집 중리동 통일면옥 회냉면 녹두전 조합 최고',\n",
       " '[대전맛집]맛도, 분위기도 만점인 도룡동 트웰브오 twelve0',\n",
       " '홀딱 반한 대전 맛집',\n",
       " '힐링했던 대전 맛집 리스트',\n",
       " '기억할만한 대전 맛집',\n",
       " '대전 맛집, 두부두루치기/칼국수가 맛있는 <광천식당>',\n",
       " '심쿵했던 대전 맛집',\n",
       " '대전 맛집 육하원칙 반석점, 놀이방이 있는 식당',\n",
       " '대전 맛집 금수저은수저,소바공방,오모리생바지락손칼국수,조림',\n",
       " '대전맛집 추천 소갈비가 맛있는 청춘식당 가오동맛집으로도 인정',\n",
       " '대전 / 괴정동 맛집 / 대전맛집(구 대구막창) / 한민시장 맛집',\n",
       " '(대전 맛집/수통골 맛집) 오경자메밀사랑 칼국수',\n",
       " '대전 맛집 시민칼국수 정말 맛있게 먹었어요 ^^',\n",
       " '진정한 대전 맛집 힘내라 골목상권',\n",
       " '나온 대전 맛집의 유성온천 근처 분점 / 대전밥집 / 26개월...',\n",
       " '(대전맛집)더리스, 테라베오 & 비래키키(BIRAEKIKI) & song...',\n",
       " '봄 제철음식 추천 대전맛집 7',\n",
       " '기분좋던 대전 맛집',\n",
       " '모두가 반했던 대전 맛집',\n",
       " '대전맛집 오월드맛집 청원농장식당 야외에서 먹는 숯불바베큐',\n",
       " '한민시장 막창맛집 괴정동 대전맛집',\n",
       " '화려했던 대전 맛집',\n",
       " '대전맛집 괴정동 롯데백화점 근처 등촌샤브칼국수',\n",
       " '대전맛집2',\n",
       " '[대전 한민시장 맛집] 괴정동 대전맛집에서 막창모듬 1번~',\n",
       " \"[대전맛집]소석갈비 맛집'띠울석갈비 본점'\",\n",
       " '대전 맛집 냄비요리연구소 신메뉴 낙곱새 먹고 왔어요',\n",
       " '대전맛집 오류동고기집 대전회... 오류동맛집 양연화로 에서...',\n",
       " '줄 서서 먹어야 하는 대전 맛집, 태평소국밥',\n",
       " '[대전/맛집] 사이드쇼 신세계대전엑스포점 (대전신세계백화점...',\n",
       " '대전 맛집 세컨디포레스트 대전은행점',\n",
       " '[대전맛집]회가 신선하고 푸짐한 보물섬수산',\n",
       " '[대전 맛집/중리동 맛집] 양평 칼국수 콩국수 *',\n",
       " '[대전 유성구] 유성호텔... 즐긴 대전 맛집 :: 26개월 아기랑...',\n",
       " '대전맛집ㅣ가족식사 모임 장소 경복궁 대전점',\n",
       " '대전 맛집 서가앤쿡 목살한상 2인세트 메뉴, 파스타,필라프 등..',\n",
       " '대전 맛집 우리칼국수 두부두루치기 정말 찐!! 강추!!...',\n",
       " '[대전맛집] 피자 찐맛집 - 리골레토 시카고피자',\n",
       " '[대전맛집]백반기행맛집:대전갈비집',\n",
       " '[대전맛집]서대전점/문화동 샐러드 맛집 포케153',\n",
       " '대전맛집 대전태평동맛집 대전육사시미 대전국밥집 맛있는곳...',\n",
       " '[대전중구] 광천식당... 맛있는 두부두루치기 여기가 대전맛집!',\n",
       " '대전맛집 유성맛집추천 백송대전점 첫 방문 대성공,서대살...',\n",
       " '[대전/맛집] 가양막창 죽동점 (대전막창맛집 / 죽동술집)',\n",
       " '대전 맛집 석갈비가 맛있는 판암동 쌍청고기마을',\n",
       " '[대전 맛집] 무쇠김치삼겹살 대전봉명점 / 김치가 맛있는 고깃집',\n",
       " '대전 맛집 성심당 대전역점 튀김소보로 메뉴 가격',\n",
       " '#대전맛집,매콤한 홍도동 착한낙지 강추에요.',\n",
       " '모두가 인정하는 대전 맛집 태평소국밥 (유성 봉명동)',\n",
       " '[대전] 대전맛집, 유성횟집, 룸식당, 점심특선, 부모님식사 추천...',\n",
       " '[대전맛집] 가볼만한곳 오씨칼국수',\n",
       " '대전맛집 유성구 숯골원냉면 본점',\n",
       " \"대전 맛집이라 불리는 '태평소국밥'\",\n",
       " \"[대전맛집] 대흥동 얼큰한 칼국수 맛집 '홍두깨칼국수'\",\n",
       " '대전맛집 김가네 시민고기국수 -제주고기국수 전문점',\n",
       " '[대전맛집]퓨전일식레스토랑 정음 우와~~코스요리 좋아요',\n",
       " '[대전 맛집/월평동 맛집] 훈 참치 *',\n",
       " '[대전/맛집] 한마음정육식당 유성봉명점 (봉명동 삼겹살...',\n",
       " '[대전맛집] 르몽탁 : 내돈내산, 대전양식, 뇨끼 맛집',\n",
       " '[대전맛집] 관평동_청담초밥(가성비맛집)',\n",
       " '대전 맛집 중리동 통일면옥 회냉면 녹두전 조합 최고',\n",
       " '[대전맛집]맛도, 분위기도 만점인 도룡동 트웰브오 twelve0',\n",
       " '홀딱 반한 대전 맛집',\n",
       " '힐링했던 대전 맛집 리스트',\n",
       " '기억할만한 대전 맛집',\n",
       " '대전 맛집, 두부두루치기/칼국수가 맛있는 <광천식당>',\n",
       " '심쿵했던 대전 맛집',\n",
       " '대전 맛집 육하원칙 반석점, 놀이방이 있는 식당',\n",
       " '대전 맛집 금수저은수저,소바공방,오모리생바지락손칼국수,조림',\n",
       " '대전맛집 추천 소갈비가 맛있는 청춘식당 가오동맛집으로도 인정',\n",
       " '대전 / 괴정동 맛집 / 대전맛집(구 대구막창) / 한민시장 맛집',\n",
       " '(대전 맛집/수통골 맛집) 오경자메밀사랑 칼국수',\n",
       " '대전 맛집 시민칼국수 정말 맛있게 먹었어요 ^^',\n",
       " '진정한 대전 맛집 힘내라 골목상권',\n",
       " '나온 대전 맛집의 유성온천 근처 분점 / 대전밥집 / 26개월...',\n",
       " '(대전맛집)더리스, 테라베오 & 비래키키(BIRAEKIKI) & song...',\n",
       " '봄 제철음식 추천 대전맛집 7',\n",
       " '기분좋던 대전 맛집',\n",
       " '모두가 반했던 대전 맛집',\n",
       " '대전맛집 오월드맛집 청원농장식당 야외에서 먹는 숯불바베큐',\n",
       " '한민시장 막창맛집 괴정동 대전맛집',\n",
       " '화려했던 대전 맛집',\n",
       " '대전맛집 괴정동 롯데백화점 근처 등촌샤브칼국수',\n",
       " '대전맛집2',\n",
       " '[대전 한민시장 맛집] 괴정동 대전맛집에서 막창모듬 1번~',\n",
       " \"[대전맛집]소석갈비 맛집'띠울석갈비 본점'\",\n",
       " '대전 맛집 냄비요리연구소 신메뉴 낙곱새 먹고 왔어요',\n",
       " '대전맛집 오류동고기집 대전회... 오류동맛집 양연화로 에서...',\n",
       " '줄 서서 먹어야 하는 대전 맛집, 태평소국밥',\n",
       " '[대전/맛집] 사이드쇼 신세계대전엑스포점 (대전신세계백화점...',\n",
       " '대전 맛집 세컨디포레스트 대전은행점',\n",
       " '[대전맛집]회가 신선하고 푸짐한 보물섬수산',\n",
       " '[대전 맛집/중리동 맛집] 양평 칼국수 콩국수 *',\n",
       " '[대전 유성구] 유성호텔... 즐긴 대전 맛집 :: 26개월 아기랑...',\n",
       " '대전맛집ㅣ가족식사 모임 장소 경복궁 대전점',\n",
       " '대전 맛집 서가앤쿡 목살한상 2인세트 메뉴, 파스타,필라프 등..',\n",
       " '대전 맛집 우리칼국수 두부두루치기 정말 찐!! 강추!!...',\n",
       " '[대전맛집] 피자 찐맛집 - 리골레토 시카고피자',\n",
       " '[대전맛집]백반기행맛집:대전갈비집',\n",
       " '[대전맛집]서대전점/문화동 샐러드 맛집 포케153',\n",
       " '대전맛집 대전태평동맛집 대전육사시미 대전국밥집 맛있는곳...',\n",
       " '[대전중구] 광천식당... 맛있는 두부두루치기 여기가 대전맛집!',\n",
       " '대전맛집 유성맛집추천 백송대전점 첫 방문 대성공,서대살...',\n",
       " '[대전/맛집] 가양막창 죽동점 (대전막창맛집 / 죽동술집)',\n",
       " '대전 맛집 석갈비가 맛있는 판암동 쌍청고기마을',\n",
       " '[대전 맛집] 무쇠김치삼겹살 대전봉명점 / 김치가 맛있는 고깃집',\n",
       " '대전 맛집 성심당 대전역점 튀김소보로 메뉴 가격',\n",
       " '#대전맛집,매콤한 홍도동 착한낙지 강추에요.',\n",
       " '모두가 인정하는 대전 맛집 태평소국밥 (유성 봉명동)',\n",
       " '[대전] 대전맛집, 유성횟집, 룸식당, 점심특선, 부모님식사 추천...',\n",
       " '[대전맛집] 가볼만한곳 오씨칼국수',\n",
       " '대전맛집 유성구 숯골원냉면 본점',\n",
       " \"대전 맛집이라 불리는 '태평소국밥'\",\n",
       " \"[대전맛집] 대흥동 얼큰한 칼국수 맛집 '홍두깨칼국수'\",\n",
       " '대전맛집 김가네 시민고기국수 -제주고기국수 전문점',\n",
       " '[대전맛집]퓨전일식레스토랑 정음 우와~~코스요리 좋아요',\n",
       " '[대전 맛집/월평동 맛집] 훈 참치 *',\n",
       " '[대전/맛집] 한마음정육식당 유성봉명점 (봉명동 삼겹살...',\n",
       " '[대전맛집] 르몽탁 : 내돈내산, 대전양식, 뇨끼 맛집',\n",
       " '[대전맛집] 관평동_청담초밥(가성비맛집)',\n",
       " '대전 맛집 중리동 통일면옥 회냉면 녹두전 조합 최고',\n",
       " '[대전맛집]맛도, 분위기도 만점인 도룡동 트웰브오 twelve0']"
      ]
     },
     "execution_count": 59,
     "metadata": {},
     "output_type": "execute_result"
    }
   ],
   "source": [
    "title_list"
   ]
  },
  {
   "cell_type": "code",
   "execution_count": 60,
   "metadata": {},
   "outputs": [
    {
     "data": {
      "text/html": [
       "<div>\n",
       "<style scoped>\n",
       "    .dataframe tbody tr th:only-of-type {\n",
       "        vertical-align: middle;\n",
       "    }\n",
       "\n",
       "    .dataframe tbody tr th {\n",
       "        vertical-align: top;\n",
       "    }\n",
       "\n",
       "    .dataframe thead th {\n",
       "        text-align: right;\n",
       "    }\n",
       "</style>\n",
       "<table border=\"1\" class=\"dataframe\">\n",
       "  <thead>\n",
       "    <tr style=\"text-align: right;\">\n",
       "      <th></th>\n",
       "      <th>url</th>\n",
       "      <th>title</th>\n",
       "    </tr>\n",
       "  </thead>\n",
       "  <tbody>\n",
       "    <tr>\n",
       "      <th>0</th>\n",
       "      <td>https://blog.naver.com/symin67?Redirect=Log&amp;lo...</td>\n",
       "      <td>홀딱 반한 대전 맛집</td>\n",
       "    </tr>\n",
       "    <tr>\n",
       "      <th>1</th>\n",
       "      <td>https://blog.naver.com/mmorrismom?Redirect=Log...</td>\n",
       "      <td>힐링했던 대전 맛집 리스트</td>\n",
       "    </tr>\n",
       "    <tr>\n",
       "      <th>2</th>\n",
       "      <td>https://blog.naver.com/lkd0486?Redirect=Log&amp;lo...</td>\n",
       "      <td>기억할만한 대전 맛집</td>\n",
       "    </tr>\n",
       "    <tr>\n",
       "      <th>3</th>\n",
       "      <td>https://blog.naver.com/angerbong?Redirect=Log&amp;...</td>\n",
       "      <td>대전 맛집, 두부두루치기/칼국수가 맛있는 &lt;광천식당&gt;</td>\n",
       "    </tr>\n",
       "    <tr>\n",
       "      <th>4</th>\n",
       "      <td>https://blog.naver.com/artlife?Redirect=Log&amp;lo...</td>\n",
       "      <td>심쿵했던 대전 맛집</td>\n",
       "    </tr>\n",
       "    <tr>\n",
       "      <th>...</th>\n",
       "      <td>...</td>\n",
       "      <td>...</td>\n",
       "    </tr>\n",
       "    <tr>\n",
       "      <th>175</th>\n",
       "      <td>https://blog.naver.com/caitlyn15?Redirect=Log&amp;...</td>\n",
       "      <td>[대전/맛집] 한마음정육식당 유성봉명점 (봉명동 삼겹살...</td>\n",
       "    </tr>\n",
       "    <tr>\n",
       "      <th>176</th>\n",
       "      <td>https://blog.naver.com/skana0512?Redirect=Log&amp;...</td>\n",
       "      <td>[대전맛집] 르몽탁 : 내돈내산, 대전양식, 뇨끼 맛집</td>\n",
       "    </tr>\n",
       "    <tr>\n",
       "      <th>177</th>\n",
       "      <td>https://blog.naver.com/tddrq?Redirect=Log&amp;logN...</td>\n",
       "      <td>[대전맛집] 관평동_청담초밥(가성비맛집)</td>\n",
       "    </tr>\n",
       "    <tr>\n",
       "      <th>178</th>\n",
       "      <td>https://blog.naver.com/ksj649?Redirect=Log&amp;log...</td>\n",
       "      <td>대전 맛집 중리동 통일면옥 회냉면 녹두전 조합 최고</td>\n",
       "    </tr>\n",
       "    <tr>\n",
       "      <th>179</th>\n",
       "      <td>https://blog.naver.com/vkmjv86?Redirect=Log&amp;lo...</td>\n",
       "      <td>[대전맛집]맛도, 분위기도 만점인 도룡동 트웰브오 twelve0</td>\n",
       "    </tr>\n",
       "  </tbody>\n",
       "</table>\n",
       "<p>180 rows × 2 columns</p>\n",
       "</div>"
      ],
      "text/plain": [
       "                                                   url  \\\n",
       "0    https://blog.naver.com/symin67?Redirect=Log&lo...   \n",
       "1    https://blog.naver.com/mmorrismom?Redirect=Log...   \n",
       "2    https://blog.naver.com/lkd0486?Redirect=Log&lo...   \n",
       "3    https://blog.naver.com/angerbong?Redirect=Log&...   \n",
       "4    https://blog.naver.com/artlife?Redirect=Log&lo...   \n",
       "..                                                 ...   \n",
       "175  https://blog.naver.com/caitlyn15?Redirect=Log&...   \n",
       "176  https://blog.naver.com/skana0512?Redirect=Log&...   \n",
       "177  https://blog.naver.com/tddrq?Redirect=Log&logN...   \n",
       "178  https://blog.naver.com/ksj649?Redirect=Log&log...   \n",
       "179  https://blog.naver.com/vkmjv86?Redirect=Log&lo...   \n",
       "\n",
       "                                   title  \n",
       "0                            홀딱 반한 대전 맛집  \n",
       "1                         힐링했던 대전 맛집 리스트  \n",
       "2                            기억할만한 대전 맛집  \n",
       "3          대전 맛집, 두부두루치기/칼국수가 맛있는 <광천식당>  \n",
       "4                             심쿵했던 대전 맛집  \n",
       "..                                   ...  \n",
       "175    [대전/맛집] 한마음정육식당 유성봉명점 (봉명동 삼겹살...  \n",
       "176       [대전맛집] 르몽탁 : 내돈내산, 대전양식, 뇨끼 맛집  \n",
       "177               [대전맛집] 관평동_청담초밥(가성비맛집)  \n",
       "178         대전 맛집 중리동 통일면옥 회냉면 녹두전 조합 최고  \n",
       "179  [대전맛집]맛도, 분위기도 만점인 도룡동 트웰브오 twelve0  \n",
       "\n",
       "[180 rows x 2 columns]"
      ]
     },
     "execution_count": 60,
     "metadata": {},
     "output_type": "execute_result"
    }
   ],
   "source": [
    "df = pd.DataFrame({'url':url_list, 'title':title_list})\n",
    "df"
   ]
  },
  {
   "cell_type": "code",
   "execution_count": 61,
   "metadata": {},
   "outputs": [
    {
     "data": {
      "text/plain": [
       "'/Users/jisookwon/Documents/Crawling/Naver_Blog'"
      ]
     },
     "execution_count": 61,
     "metadata": {},
     "output_type": "execute_result"
    }
   ],
   "source": [
    "pwd"
   ]
  },
  {
   "cell_type": "code",
   "execution_count": 62,
   "metadata": {},
   "outputs": [],
   "source": [
    "# 저장하기\n",
    "df.to_excel(\"blog_url.xlsx\")"
   ]
  },
  {
   "cell_type": "markdown",
   "metadata": {},
   "source": [
    "# 블로그 내용 크롤링하기"
   ]
  },
  {
   "cell_type": "code",
   "execution_count": 63,
   "metadata": {},
   "outputs": [],
   "source": [
    "import sys\n",
    "import os\n",
    "import pandas as pd\n",
    "import numpy as np"
   ]
  },
  {
   "cell_type": "code",
   "execution_count": 64,
   "metadata": {
    "scrolled": true
   },
   "outputs": [
    {
     "name": "stdout",
     "output_type": "stream",
     "text": [
      "180\n"
     ]
    },
    {
     "data": {
      "text/html": [
       "<div>\n",
       "<style scoped>\n",
       "    .dataframe tbody tr th:only-of-type {\n",
       "        vertical-align: middle;\n",
       "    }\n",
       "\n",
       "    .dataframe tbody tr th {\n",
       "        vertical-align: top;\n",
       "    }\n",
       "\n",
       "    .dataframe thead th {\n",
       "        text-align: right;\n",
       "    }\n",
       "</style>\n",
       "<table border=\"1\" class=\"dataframe\">\n",
       "  <thead>\n",
       "    <tr style=\"text-align: right;\">\n",
       "      <th></th>\n",
       "      <th>Unnamed: 0</th>\n",
       "      <th>url</th>\n",
       "      <th>title</th>\n",
       "    </tr>\n",
       "  </thead>\n",
       "  <tbody>\n",
       "    <tr>\n",
       "      <th>0</th>\n",
       "      <td>0</td>\n",
       "      <td>https://blog.naver.com/symin67?Redirect=Log&amp;lo...</td>\n",
       "      <td>홀딱 반한 대전 맛집</td>\n",
       "    </tr>\n",
       "    <tr>\n",
       "      <th>1</th>\n",
       "      <td>1</td>\n",
       "      <td>https://blog.naver.com/mmorrismom?Redirect=Log...</td>\n",
       "      <td>힐링했던 대전 맛집 리스트</td>\n",
       "    </tr>\n",
       "    <tr>\n",
       "      <th>2</th>\n",
       "      <td>2</td>\n",
       "      <td>https://blog.naver.com/lkd0486?Redirect=Log&amp;lo...</td>\n",
       "      <td>기억할만한 대전 맛집</td>\n",
       "    </tr>\n",
       "    <tr>\n",
       "      <th>3</th>\n",
       "      <td>3</td>\n",
       "      <td>https://blog.naver.com/angerbong?Redirect=Log&amp;...</td>\n",
       "      <td>대전 맛집, 두부두루치기/칼국수가 맛있는 &lt;광천식당&gt;</td>\n",
       "    </tr>\n",
       "    <tr>\n",
       "      <th>4</th>\n",
       "      <td>4</td>\n",
       "      <td>https://blog.naver.com/artlife?Redirect=Log&amp;lo...</td>\n",
       "      <td>심쿵했던 대전 맛집</td>\n",
       "    </tr>\n",
       "    <tr>\n",
       "      <th>...</th>\n",
       "      <td>...</td>\n",
       "      <td>...</td>\n",
       "      <td>...</td>\n",
       "    </tr>\n",
       "    <tr>\n",
       "      <th>175</th>\n",
       "      <td>175</td>\n",
       "      <td>https://blog.naver.com/caitlyn15?Redirect=Log&amp;...</td>\n",
       "      <td>[대전/맛집] 한마음정육식당 유성봉명점 (봉명동 삼겹살...</td>\n",
       "    </tr>\n",
       "    <tr>\n",
       "      <th>176</th>\n",
       "      <td>176</td>\n",
       "      <td>https://blog.naver.com/skana0512?Redirect=Log&amp;...</td>\n",
       "      <td>[대전맛집] 르몽탁 : 내돈내산, 대전양식, 뇨끼 맛집</td>\n",
       "    </tr>\n",
       "    <tr>\n",
       "      <th>177</th>\n",
       "      <td>177</td>\n",
       "      <td>https://blog.naver.com/tddrq?Redirect=Log&amp;logN...</td>\n",
       "      <td>[대전맛집] 관평동_청담초밥(가성비맛집)</td>\n",
       "    </tr>\n",
       "    <tr>\n",
       "      <th>178</th>\n",
       "      <td>178</td>\n",
       "      <td>https://blog.naver.com/ksj649?Redirect=Log&amp;log...</td>\n",
       "      <td>대전 맛집 중리동 통일면옥 회냉면 녹두전 조합 최고</td>\n",
       "    </tr>\n",
       "    <tr>\n",
       "      <th>179</th>\n",
       "      <td>179</td>\n",
       "      <td>https://blog.naver.com/vkmjv86?Redirect=Log&amp;lo...</td>\n",
       "      <td>[대전맛집]맛도, 분위기도 만점인 도룡동 트웰브오 twelve0</td>\n",
       "    </tr>\n",
       "  </tbody>\n",
       "</table>\n",
       "<p>180 rows × 3 columns</p>\n",
       "</div>"
      ],
      "text/plain": [
       "     Unnamed: 0                                                url  \\\n",
       "0             0  https://blog.naver.com/symin67?Redirect=Log&lo...   \n",
       "1             1  https://blog.naver.com/mmorrismom?Redirect=Log...   \n",
       "2             2  https://blog.naver.com/lkd0486?Redirect=Log&lo...   \n",
       "3             3  https://blog.naver.com/angerbong?Redirect=Log&...   \n",
       "4             4  https://blog.naver.com/artlife?Redirect=Log&lo...   \n",
       "..          ...                                                ...   \n",
       "175         175  https://blog.naver.com/caitlyn15?Redirect=Log&...   \n",
       "176         176  https://blog.naver.com/skana0512?Redirect=Log&...   \n",
       "177         177  https://blog.naver.com/tddrq?Redirect=Log&logN...   \n",
       "178         178  https://blog.naver.com/ksj649?Redirect=Log&log...   \n",
       "179         179  https://blog.naver.com/vkmjv86?Redirect=Log&lo...   \n",
       "\n",
       "                                   title  \n",
       "0                            홀딱 반한 대전 맛집  \n",
       "1                         힐링했던 대전 맛집 리스트  \n",
       "2                            기억할만한 대전 맛집  \n",
       "3          대전 맛집, 두부두루치기/칼국수가 맛있는 <광천식당>  \n",
       "4                             심쿵했던 대전 맛집  \n",
       "..                                   ...  \n",
       "175    [대전/맛집] 한마음정육식당 유성봉명점 (봉명동 삼겹살...  \n",
       "176       [대전맛집] 르몽탁 : 내돈내산, 대전양식, 뇨끼 맛집  \n",
       "177               [대전맛집] 관평동_청담초밥(가성비맛집)  \n",
       "178         대전 맛집 중리동 통일면옥 회냉면 녹두전 조합 최고  \n",
       "179  [대전맛집]맛도, 분위기도 만점인 도룡동 트웰브오 twelve0  \n",
       "\n",
       "[180 rows x 3 columns]"
      ]
     },
     "execution_count": 64,
     "metadata": {},
     "output_type": "execute_result"
    }
   ],
   "source": [
    "# \"url_list.csv\" 불러오기\n",
    "url_load = pd.read_excel(\"blog_url.xlsx\") # 기본 모델\n",
    "\n",
    "num_list = len(url_load)\n",
    "\n",
    "print(num_list)\n",
    "url_load"
   ]
  },
  {
   "cell_type": "code",
   "execution_count": 67,
   "metadata": {
    "scrolled": true
   },
   "outputs": [
    {
     "name": "stderr",
     "output_type": "stream",
     "text": [
      "/var/folders/dd/p03cpd850nx3bbxblv922vsm0000gn/T/ipykernel_60995/939174967.py:6: TqdmDeprecationWarning: This function will be removed in tqdm==5.0.0\n",
      "Please use `tqdm.notebook.tqdm` instead of `tqdm.tqdm_notebook`\n",
      "  for i in tqdm_notebook(range(0, number)):\n"
     ]
    },
    {
     "data": {
      "application/vnd.jupyter.widget-view+json": {
       "model_id": "f5a4c4b639234d06b4670dc364c820bf",
       "version_major": 2,
       "version_minor": 0
      },
      "text/plain": [
       "  0%|          | 0/30 [00:00<?, ?it/s]"
      ]
     },
     "metadata": {},
     "output_type": "display_data"
    },
    {
     "name": "stdout",
     "output_type": "stream",
     "text": [
      "1 힐링했던 대전 맛집 리스트\n",
      "2 기억할만한 대전 맛집\n",
      "3 대전 맛집, 두부두루치기/칼국수가 맛있는 <광천식당>\n",
      "4 심쿵했던 대전 맛집\n",
      "5 대전 맛집 육하원칙 반석점, 놀이방이 있는 식당\n",
      "6 대전 맛집 금수저은수저,소바공방,오모리생바지락손칼국수,조림\n"
     ]
    },
    {
     "ename": "KeyboardInterrupt",
     "evalue": "",
     "output_type": "error",
     "traceback": [
      "\u001b[0;31m---------------------------------------------------------------------------\u001b[0m",
      "\u001b[0;31mKeyboardInterrupt\u001b[0m                         Traceback (most recent call last)",
      "\u001b[0;32m/var/folders/dd/p03cpd850nx3bbxblv922vsm0000gn/T/ipykernel_60995/939174967.py\u001b[0m in \u001b[0;36m<module>\u001b[0;34m\u001b[0m\n\u001b[1;32m     73\u001b[0m         \u001b[0;31m# 저장하기\u001b[0m\u001b[0;34m\u001b[0m\u001b[0;34m\u001b[0m\u001b[0m\n\u001b[1;32m     74\u001b[0m         \u001b[0mresult_df\u001b[0m\u001b[0;34m.\u001b[0m\u001b[0mto_excel\u001b[0m\u001b[0;34m(\u001b[0m\u001b[0;34m\"blog_content.xlsx\"\u001b[0m\u001b[0;34m,\u001b[0m \u001b[0mencoding\u001b[0m\u001b[0;34m=\u001b[0m\u001b[0;34m'utf-8-sig'\u001b[0m\u001b[0;34m)\u001b[0m\u001b[0;34m\u001b[0m\u001b[0;34m\u001b[0m\u001b[0m\n\u001b[0;32m---> 75\u001b[0;31m         \u001b[0mtime\u001b[0m\u001b[0;34m.\u001b[0m\u001b[0msleep\u001b[0m\u001b[0;34m(\u001b[0m\u001b[0;36m3\u001b[0m\u001b[0;34m)\u001b[0m\u001b[0;34m\u001b[0m\u001b[0;34m\u001b[0m\u001b[0m\n\u001b[0m\u001b[1;32m     76\u001b[0m \u001b[0;34m\u001b[0m\u001b[0m\n\u001b[1;32m     77\u001b[0m \u001b[0mprint\u001b[0m\u001b[0;34m(\u001b[0m\u001b[0;34m'수집한 글 갯수: '\u001b[0m\u001b[0;34m,\u001b[0m \u001b[0mlen\u001b[0m\u001b[0;34m(\u001b[0m\u001b[0mdict\u001b[0m\u001b[0;34m)\u001b[0m\u001b[0;34m)\u001b[0m\u001b[0;34m\u001b[0m\u001b[0;34m\u001b[0m\u001b[0m\n",
      "\u001b[0;31mKeyboardInterrupt\u001b[0m: "
     ]
    }
   ],
   "source": [
    "dict = {}    # 전체 크롤링 데이터를 담을 그릇\n",
    "\n",
    "number = 30  # 수집할 글 갯수 정하기\n",
    "\n",
    "# 수집한 url 돌면서 데이터 수집\n",
    "for i in tqdm_notebook(range(0, number)):\n",
    "    # 글 띄우기\n",
    "    url = url_load['url'][i]\n",
    "    driver = webdriver.Chrome(\"chromedriver\")  # 윈도우는 \"chromedriver.exe\"\n",
    "    driver.get(url)   # 글 띄우기\n",
    "    \n",
    "    # 크롤링\n",
    "    \n",
    "    try : \n",
    "        # iframe 접근\n",
    "        driver.switch_to.frame('mainFrame')\n",
    "\n",
    "        target_info = {}  # 개별 블로그 내용을 담을 딕셔너리 생성\n",
    "\n",
    "        # 제목 크롤링 시작\n",
    "        overlays = \".se-module.se-module-text.se-title-text\"                                 \n",
    "        tit = driver.find_element_by_css_selector(overlays)          # title\n",
    "        title = tit.text\n",
    "\n",
    "        # 글쓴이 크롤링 시작\n",
    "        overlays = \".nick\"                                 \n",
    "        nick = driver.find_element_by_css_selector(overlays)         # nickname\n",
    "        nickname = nick.text\n",
    "\n",
    "        # 날짜 크롤링\n",
    "        overlays = \".se_publishDate.pcol2\"                                 \n",
    "        date = driver.find_element_by_css_selector(overlays)         # datetime\n",
    "        datetime = date.text\n",
    "\n",
    "        # 내용 크롤링\n",
    "        overlays = \".se-component.se-text.se-l-default\"                                 \n",
    "        contents = driver.find_elements_by_css_selector(overlays)    # contents\n",
    "\n",
    "        content_list = []\n",
    "        for content in contents:\n",
    "            content_list.append(content.text)\n",
    " \n",
    "        content_str = ' '.join(content_list)                         # content_str\n",
    "\n",
    "        # 글 하나는 target_info라는 딕셔너리에 담기게 되고,\n",
    "        target_info['title'] = title\n",
    "        target_info['nickname'] = nickname\n",
    "        target_info['datetime'] = datetime\n",
    "        target_info['content'] = content_str\n",
    "\n",
    "        # 각각의 글은 dict라는 딕셔너리에 담기게 됩니다.\n",
    "        dict[i] = target_info\n",
    "        time.sleep(1)\n",
    "        \n",
    "        # 크롤링이 성공하면 글 제목을 출력하게 되고,\n",
    "        print(i, title)\n",
    "\n",
    "        # 글 하나 크롤링 후 크롬 창을 닫습니다.\n",
    "        driver.close()       \n",
    "    \n",
    "    # 에러나면 현재 크롬창을 닫고 다음 글(i+1)로 이동합니다.\n",
    "    except:\n",
    "        driver.close()\n",
    "        time.sleep(1)\n",
    "        continue\n",
    "    \n",
    "    # 중간,중간에 파일로 저장하기\n",
    "    if i == 30 or 50 or 80:\n",
    "        # 판다스로 만들기\n",
    "        import pandas as pd\n",
    "        result_df = pd.DataFrame.from_dict(dict, 'index')\n",
    "\n",
    "        # 저장하기\n",
    "        result_df.to_excel(\"blog_content.xlsx\", encoding='utf-8-sig')\n",
    "        time.sleep(3)\n",
    "\n",
    "print('수집한 글 갯수: ', len(dict))\n",
    "print(dict)"
   ]
  },
  {
   "cell_type": "code",
   "execution_count": null,
   "metadata": {},
   "outputs": [],
   "source": [
    "dict"
   ]
  },
  {
   "cell_type": "code",
   "execution_count": 33,
   "metadata": {},
   "outputs": [
    {
     "data": {
      "text/html": [
       "<div>\n",
       "<style scoped>\n",
       "    .dataframe tbody tr th:only-of-type {\n",
       "        vertical-align: middle;\n",
       "    }\n",
       "\n",
       "    .dataframe tbody tr th {\n",
       "        vertical-align: top;\n",
       "    }\n",
       "\n",
       "    .dataframe thead th {\n",
       "        text-align: right;\n",
       "    }\n",
       "</style>\n",
       "<table border=\"1\" class=\"dataframe\">\n",
       "  <thead>\n",
       "    <tr style=\"text-align: right;\">\n",
       "      <th></th>\n",
       "    </tr>\n",
       "  </thead>\n",
       "  <tbody>\n",
       "  </tbody>\n",
       "</table>\n",
       "</div>"
      ],
      "text/plain": [
       "Empty DataFrame\n",
       "Columns: []\n",
       "Index: []"
      ]
     },
     "execution_count": 33,
     "metadata": {},
     "output_type": "execute_result"
    }
   ],
   "source": [
    "# 판다스로 만들기\n",
    "import pandas as pd\n",
    "result_df = pd.DataFrame.from_dict(dict, 'index')\n",
    "result_df"
   ]
  },
  {
   "cell_type": "code",
   "execution_count": 34,
   "metadata": {
    "scrolled": true
   },
   "outputs": [],
   "source": [
    "# 엑셀로 저장하기\n",
    "result_df.to_excel(\"blog_content.xlsx\", encoding='utf-8-sig')"
   ]
  },
  {
   "cell_type": "code",
   "execution_count": 35,
   "metadata": {},
   "outputs": [
    {
     "data": {
      "text/plain": [
       "'/Users/jisookwon/Documents/크롤링/네이버블로그 '"
      ]
     },
     "execution_count": 35,
     "metadata": {},
     "output_type": "execute_result"
    }
   ],
   "source": [
    "pwd"
   ]
  },
  {
   "cell_type": "code",
   "execution_count": null,
   "metadata": {},
   "outputs": [],
   "source": []
  },
  {
   "cell_type": "code",
   "execution_count": null,
   "metadata": {},
   "outputs": [],
   "source": []
  }
 ],
 "metadata": {
  "kernelspec": {
   "display_name": "Python 3 (ipykernel)",
   "language": "python",
   "name": "python3"
  },
  "language_info": {
   "codemirror_mode": {
    "name": "ipython",
    "version": 3
   },
   "file_extension": ".py",
   "mimetype": "text/x-python",
   "name": "python",
   "nbconvert_exporter": "python",
   "pygments_lexer": "ipython3",
   "version": "3.9.10"
  },
  "toc": {
   "base_numbering": 1,
   "nav_menu": {},
   "number_sections": false,
   "sideBar": true,
   "skip_h1_title": false,
   "title_cell": "Table of Contents",
   "title_sidebar": "Contents",
   "toc_cell": false,
   "toc_position": {},
   "toc_section_display": true,
   "toc_window_display": false
  },
  "varInspector": {
   "cols": {
    "lenName": 16,
    "lenType": 16,
    "lenVar": 40
   },
   "kernels_config": {
    "python": {
     "delete_cmd_postfix": "",
     "delete_cmd_prefix": "del ",
     "library": "var_list.py",
     "varRefreshCmd": "print(var_dic_list())"
    },
    "r": {
     "delete_cmd_postfix": ") ",
     "delete_cmd_prefix": "rm(",
     "library": "var_list.r",
     "varRefreshCmd": "cat(var_dic_list()) "
    }
   },
   "position": {
    "height": "600px",
    "left": "554.76px",
    "right": "20px",
    "top": "88px",
    "width": "424px"
   },
   "types_to_exclude": [
    "module",
    "function",
    "builtin_function_or_method",
    "instance",
    "_Feature"
   ],
   "window_display": false
  }
 },
 "nbformat": 4,
 "nbformat_minor": 2
}
